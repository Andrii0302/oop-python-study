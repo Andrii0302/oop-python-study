{
 "cells": [
  {
   "cell_type": "markdown",
   "metadata": {},
   "source": [
    "loyal customers"
   ]
  },
  {
   "cell_type": "code",
   "execution_count": 2,
   "metadata": {},
   "outputs": [],
   "source": [
    "class Customer:\n",
    "    def __init__(self,loyalty):\n",
    "        self.loyalty=loyalty"
   ]
  },
  {
   "cell_type": "code",
   "execution_count": 3,
   "metadata": {},
   "outputs": [],
   "source": [
    "c=Customer('bronze')\n",
    "c2=Customer('gold')\n",
    "c3=Customer('platinum')"
   ]
  },
  {
   "cell_type": "code",
   "execution_count": 4,
   "metadata": {},
   "outputs": [],
   "source": [
    "def get_discount(customer):\n",
    "    discounts={'bronze':.1,'gold':.2,'platinum':.35}\n",
    "    discount=discounts.get(customer.loyalty,None)\n",
    "    if not discount:\n",
    "        raise ValueError('customer not found')\n",
    "    return discount"
   ]
  },
  {
   "cell_type": "code",
   "execution_count": 5,
   "metadata": {},
   "outputs": [
    {
     "name": "stdout",
     "output_type": "stream",
     "text": [
      "Ur discount is 10%\n",
      "Ur discount is 20%\n",
      "Ur discount is 35%\n"
     ]
    }
   ],
   "source": [
    "for customer in [c,c2,c3]:\n",
    "    print(f'Ur discount is {get_discount(customer):.0%}')"
   ]
  },
  {
   "cell_type": "markdown",
   "metadata": {},
   "source": [
    "Always start plain"
   ]
  },
  {
   "cell_type": "code",
   "execution_count": null,
   "metadata": {},
   "outputs": [],
   "source": [
    "class Customer:\n",
    "    def __init__(self,loyalty):\n",
    "        self.loyalty=loyalty"
   ]
  },
  {
   "cell_type": "code",
   "execution_count": 6,
   "metadata": {},
   "outputs": [],
   "source": [
    "class Customer:\n",
    "    def __init__(self,loyalty):\n",
    "        self.loyalty=loyalty\n",
    "    def get_loyalty(self):\n",
    "        return self.loyalty\n",
    "    def set_loyalty(self,level):\n",
    "        self.loyalty=level"
   ]
  },
  {
   "cell_type": "code",
   "execution_count": 8,
   "metadata": {},
   "outputs": [
    {
     "data": {
      "text/plain": [
       "'bronze'"
      ]
     },
     "execution_count": 8,
     "metadata": {},
     "output_type": "execute_result"
    }
   ],
   "source": [
    "v=Customer('bronze')\n",
    "v.get_loyalty()"
   ]
  },
  {
   "cell_type": "markdown",
   "metadata": {},
   "source": [
    "A refactor"
   ]
  },
  {
   "cell_type": "code",
   "execution_count": 16,
   "metadata": {},
   "outputs": [],
   "source": [
    "class Customer:\n",
    "    loyalty_levels={'bronze','gold','platinum'}\n",
    "    def __init__(self,loyalty):\n",
    "        self.set_loyalty(loyalty)\n",
    "    def get_loyalty(self):\n",
    "        return self._loyalty\n",
    "    def set_loyalty(self,level):\n",
    "        if level not in self.__class__.loyalty_levels:\n",
    "            raise ValueError(f'{level} is not a valid loyalty level')\n",
    "        \n",
    "        self._loyalty=level"
   ]
  },
  {
   "cell_type": "code",
   "execution_count": 17,
   "metadata": {},
   "outputs": [
    {
     "ename": "ValueError",
     "evalue": "Andy is not a valid loyalty level",
     "output_type": "error",
     "traceback": [
      "\u001b[1;31m---------------------------------------------------------------------------\u001b[0m",
      "\u001b[1;31mValueError\u001b[0m                                Traceback (most recent call last)",
      "Cell \u001b[1;32mIn[17], line 1\u001b[0m\n\u001b[1;32m----> 1\u001b[0m b\u001b[38;5;241m=\u001b[39mCustomer(\u001b[38;5;124m'\u001b[39m\u001b[38;5;124mAndy\u001b[39m\u001b[38;5;124m'\u001b[39m)\n",
      "Cell \u001b[1;32mIn[16], line 4\u001b[0m, in \u001b[0;36mCustomer.__init__\u001b[1;34m(self, loyalty)\u001b[0m\n\u001b[0;32m      3\u001b[0m \u001b[38;5;28;01mdef\u001b[39;00m \u001b[38;5;21m__init__\u001b[39m(\u001b[38;5;28mself\u001b[39m,loyalty):\n\u001b[1;32m----> 4\u001b[0m     \u001b[38;5;28mself\u001b[39m\u001b[38;5;241m.\u001b[39mset_loyalty(loyalty)\n",
      "Cell \u001b[1;32mIn[16], line 9\u001b[0m, in \u001b[0;36mCustomer.set_loyalty\u001b[1;34m(self, level)\u001b[0m\n\u001b[0;32m      7\u001b[0m \u001b[38;5;28;01mdef\u001b[39;00m \u001b[38;5;21mset_loyalty\u001b[39m(\u001b[38;5;28mself\u001b[39m,level):\n\u001b[0;32m      8\u001b[0m     \u001b[38;5;28;01mif\u001b[39;00m level \u001b[38;5;129;01mnot\u001b[39;00m \u001b[38;5;129;01min\u001b[39;00m \u001b[38;5;28mself\u001b[39m\u001b[38;5;241m.\u001b[39m\u001b[38;5;18m__class__\u001b[39m\u001b[38;5;241m.\u001b[39mloyalty_levels:\n\u001b[1;32m----> 9\u001b[0m         \u001b[38;5;28;01mraise\u001b[39;00m \u001b[38;5;167;01mValueError\u001b[39;00m(\u001b[38;5;124mf\u001b[39m\u001b[38;5;124m'\u001b[39m\u001b[38;5;132;01m{\u001b[39;00mlevel\u001b[38;5;132;01m}\u001b[39;00m\u001b[38;5;124m is not a valid loyalty level\u001b[39m\u001b[38;5;124m'\u001b[39m)\n\u001b[0;32m     11\u001b[0m     \u001b[38;5;28mself\u001b[39m\u001b[38;5;241m.\u001b[39m_loyalty\u001b[38;5;241m=\u001b[39mlevel\n",
      "\u001b[1;31mValueError\u001b[0m: Andy is not a valid loyalty level"
     ]
    }
   ],
   "source": [
    "b=Customer('Andy')"
   ]
  },
  {
   "cell_type": "code",
   "execution_count": 18,
   "metadata": {},
   "outputs": [],
   "source": [
    "b2=Customer('bronze')"
   ]
  },
  {
   "cell_type": "code",
   "execution_count": 19,
   "metadata": {},
   "outputs": [],
   "source": [
    "b2.loyalty='Andy' #created new attribute"
   ]
  },
  {
   "cell_type": "markdown",
   "metadata": {},
   "source": [
    "Private and Mangled attributes"
   ]
  },
  {
   "cell_type": "code",
   "execution_count": 20,
   "metadata": {},
   "outputs": [],
   "source": [
    "class Customer:\n",
    "    loyalty_levels={'bronze','gold','platinum'}\n",
    "    def __init__(self,loyalty):\n",
    "        self.set_loyalty(loyalty)\n",
    "    def get_loyalty(self):\n",
    "        return self.__loyalty\n",
    "    def set_loyalty(self,level):\n",
    "        if level not in self.__class__.loyalty_levels:\n",
    "            raise ValueError(f'{level} is not a valid loyalty level')\n",
    "        \n",
    "        self.__loyalty=level # two underscores makes it mangled (private)"
   ]
  },
  {
   "cell_type": "code",
   "execution_count": 21,
   "metadata": {},
   "outputs": [],
   "source": [
    "f=Customer('gold')"
   ]
  },
  {
   "cell_type": "code",
   "execution_count": 22,
   "metadata": {},
   "outputs": [
    {
     "ename": "AttributeError",
     "evalue": "'Customer' object has no attribute '__loyalty'",
     "output_type": "error",
     "traceback": [
      "\u001b[1;31m---------------------------------------------------------------------------\u001b[0m",
      "\u001b[1;31mAttributeError\u001b[0m                            Traceback (most recent call last)",
      "Cell \u001b[1;32mIn[22], line 1\u001b[0m\n\u001b[1;32m----> 1\u001b[0m f\u001b[38;5;241m.\u001b[39m__loyalty\n",
      "\u001b[1;31mAttributeError\u001b[0m: 'Customer' object has no attribute '__loyalty'"
     ]
    }
   ],
   "source": [
    "f.__loyalty"
   ]
  },
  {
   "cell_type": "code",
   "execution_count": 23,
   "metadata": {},
   "outputs": [
    {
     "data": {
      "text/plain": [
       "{'_Customer__loyalty': 'gold'}"
      ]
     },
     "execution_count": 23,
     "metadata": {},
     "output_type": "execute_result"
    }
   ],
   "source": [
    "f.__dict__"
   ]
  },
  {
   "cell_type": "code",
   "execution_count": 24,
   "metadata": {},
   "outputs": [
    {
     "data": {
      "text/plain": [
       "'gold'"
      ]
     },
     "execution_count": 24,
     "metadata": {},
     "output_type": "execute_result"
    }
   ],
   "source": [
    "f._Customer__loyalty # safety, not security"
   ]
  },
  {
   "cell_type": "markdown",
   "metadata": {},
   "source": [
    "Breaking changes"
   ]
  },
  {
   "cell_type": "code",
   "execution_count": 26,
   "metadata": {},
   "outputs": [],
   "source": [
    "def get_discount(customer):\n",
    "    discounts={'bronze':.1,'gold':.2,'platinum':.35}\n",
    "    discount=discounts.get(customer.loyalty,None)\n",
    "    if not discount:\n",
    "        raise ValueError('customer not found')\n",
    "    return discount"
   ]
  },
  {
   "cell_type": "code",
   "execution_count": 30,
   "metadata": {},
   "outputs": [],
   "source": [
    "class Customer:\n",
    "    loyalty_levels={'bronze','gold','platinum'}\n",
    "    def __init__(self,loyalty,membership=0):\n",
    "        # self.set_loyalty(loyalty)\n",
    "        self.loyalty=loyalty\n",
    "        self.membership=membership\n",
    "    def set_membership(self,level):\n",
    "        if level <0 or level > 34:\n",
    "            raise ValueError(f'{level} is not a valid level')\n",
    "        self._membership=level\n",
    "    def get_membership(self):\n",
    "        return self._membership\n",
    "    def get_loyalty(self):\n",
    "        return self._loyalty\n",
    "    def set_loyalty(self,level):\n",
    "        if level not in self.__class__.loyalty_levels:\n",
    "            raise ValueError(f'{level} is not a valid loyalty level')\n",
    "        \n",
    "        self._loyalty=level # two underscores makes it mangled (private)\n",
    "    loyalty=property(fget=get_loyalty,fset=set_loyalty)\n",
    "    membership=property(fget=get_membership,fset=set_membership)"
   ]
  },
  {
   "cell_type": "code",
   "execution_count": 27,
   "metadata": {},
   "outputs": [],
   "source": [
    "c=Customer('bronze')\n",
    "c2=Customer('gold')\n",
    "c3=Customer('platinum')"
   ]
  },
  {
   "cell_type": "code",
   "execution_count": 28,
   "metadata": {},
   "outputs": [
    {
     "name": "stdout",
     "output_type": "stream",
     "text": [
      "Ur discount is 10%\n",
      "Ur discount is 20%\n",
      "Ur discount is 35%\n"
     ]
    }
   ],
   "source": [
    "for customer in [c,c2,c3]:\n",
    "    print(f'Ur discount is {get_discount(customer):.0%}')"
   ]
  },
  {
   "cell_type": "code",
   "execution_count": 29,
   "metadata": {},
   "outputs": [
    {
     "ename": "ValueError",
     "evalue": "ggw is not a valid loyalty level",
     "output_type": "error",
     "traceback": [
      "\u001b[1;31m---------------------------------------------------------------------------\u001b[0m",
      "\u001b[1;31mValueError\u001b[0m                                Traceback (most recent call last)",
      "Cell \u001b[1;32mIn[29], line 1\u001b[0m\n\u001b[1;32m----> 1\u001b[0m c2\u001b[38;5;241m.\u001b[39mloyalty\u001b[38;5;241m=\u001b[39m\u001b[38;5;124m'\u001b[39m\u001b[38;5;124mggw\u001b[39m\u001b[38;5;124m'\u001b[39m\n",
      "Cell \u001b[1;32mIn[25], line 10\u001b[0m, in \u001b[0;36mCustomer.set_loyalty\u001b[1;34m(self, level)\u001b[0m\n\u001b[0;32m      8\u001b[0m \u001b[38;5;28;01mdef\u001b[39;00m \u001b[38;5;21mset_loyalty\u001b[39m(\u001b[38;5;28mself\u001b[39m,level):\n\u001b[0;32m      9\u001b[0m     \u001b[38;5;28;01mif\u001b[39;00m level \u001b[38;5;129;01mnot\u001b[39;00m \u001b[38;5;129;01min\u001b[39;00m \u001b[38;5;28mself\u001b[39m\u001b[38;5;241m.\u001b[39m\u001b[38;5;18m__class__\u001b[39m\u001b[38;5;241m.\u001b[39mloyalty_levels:\n\u001b[1;32m---> 10\u001b[0m         \u001b[38;5;28;01mraise\u001b[39;00m \u001b[38;5;167;01mValueError\u001b[39;00m(\u001b[38;5;124mf\u001b[39m\u001b[38;5;124m'\u001b[39m\u001b[38;5;132;01m{\u001b[39;00mlevel\u001b[38;5;132;01m}\u001b[39;00m\u001b[38;5;124m is not a valid loyalty level\u001b[39m\u001b[38;5;124m'\u001b[39m)\n\u001b[0;32m     12\u001b[0m     \u001b[38;5;28mself\u001b[39m\u001b[38;5;241m.\u001b[39m_loyalty\u001b[38;5;241m=\u001b[39mlevel\n",
      "\u001b[1;31mValueError\u001b[0m: ggw is not a valid loyalty level"
     ]
    }
   ],
   "source": [
    "c2.loyalty='ggw' # now setter will kick in and won't allow to set improper value"
   ]
  },
  {
   "cell_type": "code",
   "execution_count": 33,
   "metadata": {},
   "outputs": [],
   "source": [
    "t=Customer('bronze',12)"
   ]
  },
  {
   "cell_type": "code",
   "execution_count": 34,
   "metadata": {},
   "outputs": [
    {
     "data": {
      "text/plain": [
       "12"
      ]
     },
     "execution_count": 34,
     "metadata": {},
     "output_type": "execute_result"
    }
   ],
   "source": [
    "t.membership"
   ]
  },
  {
   "cell_type": "code",
   "execution_count": 35,
   "metadata": {},
   "outputs": [],
   "source": [
    "t.membership+=1 # setter calls"
   ]
  },
  {
   "cell_type": "code",
   "execution_count": 36,
   "metadata": {},
   "outputs": [
    {
     "data": {
      "text/plain": [
       "13"
      ]
     },
     "execution_count": 36,
     "metadata": {},
     "output_type": "execute_result"
    }
   ],
   "source": [
    "t.membership"
   ]
  },
  {
   "cell_type": "code",
   "execution_count": 37,
   "metadata": {},
   "outputs": [
    {
     "ename": "ValueError",
     "evalue": "63 is not a valid level",
     "output_type": "error",
     "traceback": [
      "\u001b[1;31m---------------------------------------------------------------------------\u001b[0m",
      "\u001b[1;31mValueError\u001b[0m                                Traceback (most recent call last)",
      "Cell \u001b[1;32mIn[37], line 1\u001b[0m\n\u001b[1;32m----> 1\u001b[0m t\u001b[38;5;241m.\u001b[39mmembership\u001b[38;5;241m+\u001b[39m\u001b[38;5;241m=\u001b[39m\u001b[38;5;241m50\u001b[39m\n",
      "Cell \u001b[1;32mIn[30], line 9\u001b[0m, in \u001b[0;36mCustomer.set_membership\u001b[1;34m(self, level)\u001b[0m\n\u001b[0;32m      7\u001b[0m \u001b[38;5;28;01mdef\u001b[39;00m \u001b[38;5;21mset_membership\u001b[39m(\u001b[38;5;28mself\u001b[39m,level):\n\u001b[0;32m      8\u001b[0m     \u001b[38;5;28;01mif\u001b[39;00m level \u001b[38;5;241m<\u001b[39m\u001b[38;5;241m0\u001b[39m \u001b[38;5;129;01mor\u001b[39;00m level \u001b[38;5;241m>\u001b[39m \u001b[38;5;241m34\u001b[39m:\n\u001b[1;32m----> 9\u001b[0m         \u001b[38;5;28;01mraise\u001b[39;00m \u001b[38;5;167;01mValueError\u001b[39;00m(\u001b[38;5;124mf\u001b[39m\u001b[38;5;124m'\u001b[39m\u001b[38;5;132;01m{\u001b[39;00mlevel\u001b[38;5;132;01m}\u001b[39;00m\u001b[38;5;124m is not a valid level\u001b[39m\u001b[38;5;124m'\u001b[39m)\n\u001b[0;32m     10\u001b[0m     \u001b[38;5;28mself\u001b[39m\u001b[38;5;241m.\u001b[39m_membership\u001b[38;5;241m=\u001b[39mlevel\n",
      "\u001b[1;31mValueError\u001b[0m: 63 is not a valid level"
     ]
    }
   ],
   "source": [
    "t.membership+=50 # setter raises an error"
   ]
  },
  {
   "cell_type": "markdown",
   "metadata": {},
   "source": [
    "Properties live in the class"
   ]
  },
  {
   "cell_type": "code",
   "execution_count": 38,
   "metadata": {},
   "outputs": [],
   "source": [
    "class Customer:\n",
    "    loyalty_levels={'bronze','gold','platinum'}\n",
    "    def __init__(self,loyalty,membership=0):\n",
    "        # self.set_loyalty(loyalty)\n",
    "        self.loyalty=loyalty\n",
    "        self.membership=membership\n",
    "    def set_membership(self,level):\n",
    "        if level <0 or level > 34:\n",
    "            raise ValueError(f'{level} is not a valid level')\n",
    "        self._membership=level\n",
    "    def get_membership(self):\n",
    "        return self._membership\n",
    "    def get_loyalty(self):\n",
    "        return self._loyalty\n",
    "    def set_loyalty(self,level):\n",
    "        if level not in self.__class__.loyalty_levels:\n",
    "            raise ValueError(f'{level} is not a valid loyalty level')\n",
    "        \n",
    "        self._loyalty=level # two underscores makes it mangled (private)\n",
    "    loyalty=property(fget=get_loyalty,fset=set_loyalty)\n",
    "    membership=property(fget=get_membership,fset=set_membership)"
   ]
  },
  {
   "cell_type": "code",
   "execution_count": 39,
   "metadata": {},
   "outputs": [],
   "source": [
    "c=Customer('bronze')"
   ]
  },
  {
   "cell_type": "code",
   "execution_count": 40,
   "metadata": {},
   "outputs": [
    {
     "data": {
      "text/plain": [
       "{'_loyalty': 'bronze', '_membership': 0}"
      ]
     },
     "execution_count": 40,
     "metadata": {},
     "output_type": "execute_result"
    }
   ],
   "source": [
    "c.__dict__"
   ]
  },
  {
   "cell_type": "code",
   "execution_count": 41,
   "metadata": {},
   "outputs": [],
   "source": [
    "c.__dict__['_loyalty']='platinum' # if we don't use underscore, it won't change, it just creates new binding. If we call without underscore, \n",
    "#it will be overshadowed and won't be called, instead with underscore will be called"
   ]
  },
  {
   "cell_type": "code",
   "execution_count": 42,
   "metadata": {},
   "outputs": [
    {
     "data": {
      "text/plain": [
       "'platinum'"
      ]
     },
     "execution_count": 42,
     "metadata": {},
     "output_type": "execute_result"
    }
   ],
   "source": [
    "c.loyalty"
   ]
  },
  {
   "cell_type": "code",
   "execution_count": 43,
   "metadata": {},
   "outputs": [
    {
     "data": {
      "text/plain": [
       "mappingproxy({'__module__': '__main__',\n",
       "              'loyalty_levels': {'bronze', 'gold', 'platinum'},\n",
       "              '__init__': <function __main__.Customer.__init__(self, loyalty, membership=0)>,\n",
       "              'set_membership': <function __main__.Customer.set_membership(self, level)>,\n",
       "              'get_membership': <function __main__.Customer.get_membership(self)>,\n",
       "              'get_loyalty': <function __main__.Customer.get_loyalty(self)>,\n",
       "              'set_loyalty': <function __main__.Customer.set_loyalty(self, level)>,\n",
       "              'loyalty': <property at 0x1f763299850>,\n",
       "              'membership': <property at 0x1f763299da0>,\n",
       "              '__dict__': <attribute '__dict__' of 'Customer' objects>,\n",
       "              '__weakref__': <attribute '__weakref__' of 'Customer' objects>,\n",
       "              '__doc__': None})"
      ]
     },
     "execution_count": 43,
     "metadata": {},
     "output_type": "execute_result"
    }
   ],
   "source": [
    "Customer.__dict__"
   ]
  },
  {
   "cell_type": "code",
   "execution_count": 44,
   "metadata": {},
   "outputs": [
    {
     "data": {
      "text/plain": [
       "'platinum'"
      ]
     },
     "execution_count": 44,
     "metadata": {},
     "output_type": "execute_result"
    }
   ],
   "source": [
    "c.loyalty"
   ]
  },
  {
   "cell_type": "markdown",
   "metadata": {},
   "source": [
    "Decorator syntax"
   ]
  },
  {
   "cell_type": "code",
   "execution_count": 1,
   "metadata": {},
   "outputs": [],
   "source": [
    "class Customer:\n",
    "    loyalty_levels={'bronze','gold','platinum'}\n",
    "    def __init__(self,loyalty,membership=0):\n",
    "        # self.set_loyalty(loyalty)\n",
    "        self.loyalty=loyalty\n",
    "    @property\n",
    "    def loyalty(self):\n",
    "        return self._loyalty\n",
    "    @loyalty.setter\n",
    "    def loyalty(self,level):\n",
    "        if level not in self.__class__.loyalty_levels:\n",
    "            raise ValueError(f'{level} is not a valid loyalty level')\n",
    "\n",
    "        self._loyalty=level # two underscores makes it mangled (private)\n",
    "    \n"
   ]
  },
  {
   "cell_type": "code",
   "execution_count": 4,
   "metadata": {},
   "outputs": [],
   "source": [
    "c=Customer('bronze')"
   ]
  },
  {
   "cell_type": "code",
   "execution_count": 5,
   "metadata": {},
   "outputs": [
    {
     "data": {
      "text/plain": [
       "'bronze'"
      ]
     },
     "execution_count": 5,
     "metadata": {},
     "output_type": "execute_result"
    }
   ],
   "source": [
    "c.loyalty"
   ]
  },
  {
   "cell_type": "code",
   "execution_count": 6,
   "metadata": {},
   "outputs": [
    {
     "data": {
      "text/plain": [
       "{'_loyalty': 'bronze'}"
      ]
     },
     "execution_count": 6,
     "metadata": {},
     "output_type": "execute_result"
    }
   ],
   "source": [
    "c.__dict__"
   ]
  },
  {
   "cell_type": "code",
   "execution_count": 10,
   "metadata": {},
   "outputs": [],
   "source": [
    "class Customer:\n",
    "    loyalty_levels={'bronze','gold','platinum'}\n",
    "    def __init__(self,loyalty,membership=0):\n",
    "        # self.set_loyalty(loyalty)\n",
    "        self.loyalty=loyalty\n",
    "    loyalty=property()\n",
    "    \n",
    "    def loyalty_getter(self):\n",
    "        return self._loyalty\n",
    "    loyalty=loyalty.getter(loyalty_getter)\n",
    "    \n",
    "    def loyalty_setter(self,level):\n",
    "        if level not in self.__class__.loyalty_levels:\n",
    "            raise ValueError(f'{level} is not a valid loyalty level')\n",
    "\n",
    "        self._loyalty=level # two underscores makes it mangled (private)\n",
    "    loyalty=loyalty.setter(loyalty_setter)\n"
   ]
  },
  {
   "cell_type": "code",
   "execution_count": 11,
   "metadata": {},
   "outputs": [],
   "source": [
    "c=Customer('bronze')"
   ]
  },
  {
   "cell_type": "code",
   "execution_count": 12,
   "metadata": {},
   "outputs": [
    {
     "data": {
      "text/plain": [
       "'bronze'"
      ]
     },
     "execution_count": 12,
     "metadata": {},
     "output_type": "execute_result"
    }
   ],
   "source": [
    "c.loyalty"
   ]
  },
  {
   "cell_type": "code",
   "execution_count": 13,
   "metadata": {},
   "outputs": [],
   "source": [
    "class Customer:\n",
    "    loyalty_levels={'bronze','gold','platinum'}\n",
    "    def __init__(self,loyalty,membership=0):\n",
    "        # self.set_loyalty(loyalty)\n",
    "        self.loyalty=loyalty\n",
    "    \n",
    "    @property\n",
    "    def loyalty(self):\n",
    "        return self._loyalty\n",
    "    \n",
    "    @loyalty.setter\n",
    "    def loyalty(self,level):\n",
    "        if level not in self.__class__.loyalty_levels:\n",
    "            raise ValueError(f'{level} is not a valid loyalty level')\n",
    "\n",
    "        self._loyalty=level # two underscores makes it mangled (private)\n",
    "    \n"
   ]
  },
  {
   "cell_type": "markdown",
   "metadata": {},
   "source": [
    "decorators"
   ]
  },
  {
   "cell_type": "code",
   "execution_count": 14,
   "metadata": {},
   "outputs": [],
   "source": [
    "def ten_times(x):\n",
    "    return x*10"
   ]
  },
  {
   "cell_type": "code",
   "execution_count": 15,
   "metadata": {},
   "outputs": [],
   "source": [
    "ten_x=ten_times"
   ]
  },
  {
   "cell_type": "code",
   "execution_count": 16,
   "metadata": {},
   "outputs": [
    {
     "data": {
      "text/plain": [
       "70"
      ]
     },
     "execution_count": 16,
     "metadata": {},
     "output_type": "execute_result"
    }
   ],
   "source": [
    "ten_x(7)"
   ]
  },
  {
   "cell_type": "code",
   "execution_count": 17,
   "metadata": {},
   "outputs": [],
   "source": [
    "def pass_three(func):\n",
    "    what=3\n",
    "    return func(what)"
   ]
  },
  {
   "cell_type": "code",
   "execution_count": 18,
   "metadata": {},
   "outputs": [
    {
     "data": {
      "text/plain": [
       "30"
      ]
     },
     "execution_count": 18,
     "metadata": {},
     "output_type": "execute_result"
    }
   ],
   "source": [
    "pass_three(ten_times)"
   ]
  },
  {
   "cell_type": "code",
   "execution_count": 19,
   "metadata": {},
   "outputs": [],
   "source": [
    "def outer():\n",
    "    def inner():\n",
    "        return 'inner'\n",
    "    s=inner()\n",
    "    return s"
   ]
  },
  {
   "cell_type": "code",
   "execution_count": 20,
   "metadata": {},
   "outputs": [
    {
     "data": {
      "text/plain": [
       "'inner'"
      ]
     },
     "execution_count": 20,
     "metadata": {},
     "output_type": "execute_result"
    }
   ],
   "source": [
    "outer()"
   ]
  },
  {
   "cell_type": "code",
   "execution_count": 22,
   "metadata": {},
   "outputs": [],
   "source": [
    "def give():\n",
    "    def new():\n",
    "        return 'the new is returned'\n",
    "    return new"
   ]
  },
  {
   "cell_type": "code",
   "execution_count": 23,
   "metadata": {},
   "outputs": [
    {
     "data": {
      "text/plain": [
       "'the new is returned'"
      ]
     },
     "execution_count": 23,
     "metadata": {},
     "output_type": "execute_result"
    }
   ],
   "source": [
    "f=give()\n",
    "f()"
   ]
  },
  {
   "cell_type": "code",
   "execution_count": null,
   "metadata": {},
   "outputs": [],
   "source": [
    "# closures"
   ]
  },
  {
   "cell_type": "code",
   "execution_count": 24,
   "metadata": {},
   "outputs": [],
   "source": [
    "def greet(who):\n",
    "    how='good'\n",
    "    def create():\n",
    "        print(f\"{how}, {who}\")\n",
    "    return create"
   ]
  },
  {
   "cell_type": "code",
   "execution_count": 27,
   "metadata": {},
   "outputs": [
    {
     "name": "stdout",
     "output_type": "stream",
     "text": [
      "good, andry\n"
     ]
    }
   ],
   "source": [
    "a=greet('andry')\n",
    "a()"
   ]
  },
  {
   "cell_type": "code",
   "execution_count": 28,
   "metadata": {},
   "outputs": [],
   "source": [
    "#decorator -> design pattern built on the shoulders on these two giants : first-class func + closures"
   ]
  },
  {
   "cell_type": "code",
   "execution_count": 33,
   "metadata": {},
   "outputs": [
    {
     "name": "stdout",
     "output_type": "stream",
     "text": [
      "46\n",
      "4\n",
      "13\n"
     ]
    }
   ],
   "source": [
    "from random import randint\n",
    "def bingo():\n",
    "    return randint(1,47)\n",
    "for i in range(3):\n",
    "    print(bingo())"
   ]
  },
  {
   "cell_type": "code",
   "execution_count": 36,
   "metadata": {},
   "outputs": [
    {
     "name": "stdout",
     "output_type": "stream",
     "text": [
      "the selected num is even\n"
     ]
    },
    {
     "data": {
      "text/plain": [
       "44"
      ]
     },
     "execution_count": 36,
     "metadata": {},
     "output_type": "execute_result"
    }
   ],
   "source": [
    "def even_or_odd(func):\n",
    "    def inner():\n",
    "        num=func()\n",
    "        print(f\"the selected num is {'even' if num %2 ==0 else 'odd'}\")\n",
    "        return num\n",
    "    return inner\n",
    "bingo=even_or_odd(bingo)\n",
    "bingo()"
   ]
  },
  {
   "cell_type": "code",
   "execution_count": 38,
   "metadata": {},
   "outputs": [
    {
     "name": "stdout",
     "output_type": "stream",
     "text": [
      "the selected num is odd\n",
      "47\n",
      "the selected num is even\n",
      "38\n",
      "the selected num is even\n",
      "16\n"
     ]
    }
   ],
   "source": [
    "@even_or_odd\n",
    "def bingo():\n",
    "    return randint(1,47)\n",
    "for i in range(3):\n",
    "    print(bingo())"
   ]
  },
  {
   "cell_type": "markdown",
   "metadata": {},
   "source": [
    "read or write only properties"
   ]
  },
  {
   "cell_type": "code",
   "execution_count": 54,
   "metadata": {},
   "outputs": [],
   "source": [
    "class Customer:\n",
    "    loyalty_levels={'bronze','gold','platinum'}\n",
    "    def __init__(self,loyalty):\n",
    "        self._loyalty=loyalty\n",
    "    \n",
    "    @property#read only\n",
    "    def loyalty(self):\n",
    "        return self._loyalty\n",
    "    \n",
    "    # @loyalty.setter #write only\n",
    "    # def loyalty(self,level):\n",
    "    #     if level not in self.__class__.loyalty_levels:\n",
    "    #         raise ValueError(f'{level} is not a valid loyalty level')\n",
    "\n",
    "    #     self._loyalty=level # two underscores makes it mangled (private)\n",
    "    \n"
   ]
  },
  {
   "cell_type": "code",
   "execution_count": 55,
   "metadata": {},
   "outputs": [],
   "source": [
    "c=Customer('bronze')"
   ]
  },
  {
   "cell_type": "code",
   "execution_count": 53,
   "metadata": {},
   "outputs": [
    {
     "ename": "AttributeError",
     "evalue": "property 'loyalty' of 'Customer' object has no setter",
     "output_type": "error",
     "traceback": [
      "\u001b[1;31m---------------------------------------------------------------------------\u001b[0m",
      "\u001b[1;31mAttributeError\u001b[0m                            Traceback (most recent call last)",
      "Cell \u001b[1;32mIn[53], line 1\u001b[0m\n\u001b[1;32m----> 1\u001b[0m c\u001b[38;5;241m.\u001b[39mloyalty\u001b[38;5;241m=\u001b[39m\u001b[38;5;124m'\u001b[39m\u001b[38;5;124mgold\u001b[39m\u001b[38;5;124m'\u001b[39m\n",
      "\u001b[1;31mAttributeError\u001b[0m: property 'loyalty' of 'Customer' object has no setter"
     ]
    }
   ],
   "source": [
    "c.loyalty='gold'"
   ]
  },
  {
   "cell_type": "code",
   "execution_count": 56,
   "metadata": {},
   "outputs": [
    {
     "data": {
      "text/plain": [
       "'bronze'"
      ]
     },
     "execution_count": 56,
     "metadata": {},
     "output_type": "execute_result"
    }
   ],
   "source": [
    "c.loyalty"
   ]
  },
  {
   "cell_type": "code",
   "execution_count": 45,
   "metadata": {},
   "outputs": [
    {
     "data": {
      "text/plain": [
       "{'_loyalty': 'gold'}"
      ]
     },
     "execution_count": 45,
     "metadata": {},
     "output_type": "execute_result"
    }
   ],
   "source": [
    "c.__dict__"
   ]
  },
  {
   "cell_type": "markdown",
   "metadata": {},
   "source": [
    "managed attributes"
   ]
  },
  {
   "cell_type": "code",
   "execution_count": 69,
   "metadata": {},
   "outputs": [],
   "source": [
    "class Customer:\n",
    "    loyalty_levels={'bronze','gold','platinum'}\n",
    "    def __init__(self,loyalty,membership=0):\n",
    "        self._loyalty=loyalty\n",
    "        self._reviews=[]\n",
    "        self._avg_review=None\n",
    "    @property\n",
    "    def loyalty(self):\n",
    "        return self._loyalty\n",
    "    \n",
    "    @loyalty.setter\n",
    "    def loyalty(self,level):\n",
    "        if level not in self.__class__.loyalty_levels:\n",
    "            raise ValueError(f'{level} is not a valid loyalty level')\n",
    "\n",
    "        self._loyalty=level # two underscores makes it mangled (private)\n",
    "    def add_reveiw(self,review):\n",
    "        if not(type(review) == int or 0 <= review <=10):\n",
    "            raise ValueError('must be from 0 to 10')\n",
    "        self._reviews.append(review)\n",
    "        self._avg_review=None\n",
    "    @property\n",
    "    def average(self):\n",
    "        if self._avg_review is None:\n",
    "            self._avg_review=sum(self._reviews)/len(self._reviews)\n",
    "        return self._avg_review\n",
    "\n"
   ]
  },
  {
   "cell_type": "code",
   "execution_count": 70,
   "metadata": {},
   "outputs": [],
   "source": [
    "c=Customer('gold')"
   ]
  },
  {
   "cell_type": "code",
   "execution_count": 71,
   "metadata": {},
   "outputs": [],
   "source": [
    "c.add_reveiw(10)\n",
    "c.add_reveiw(9)\n",
    "c.add_reveiw(7)"
   ]
  },
  {
   "cell_type": "code",
   "execution_count": 67,
   "metadata": {},
   "outputs": [
    {
     "ename": "TypeError",
     "evalue": "'float' object is not callable",
     "output_type": "error",
     "traceback": [
      "\u001b[1;31m---------------------------------------------------------------------------\u001b[0m",
      "\u001b[1;31mTypeError\u001b[0m                                 Traceback (most recent call last)",
      "Cell \u001b[1;32mIn[67], line 1\u001b[0m\n\u001b[1;32m----> 1\u001b[0m c\u001b[38;5;241m.\u001b[39maverage()\n",
      "\u001b[1;31mTypeError\u001b[0m: 'float' object is not callable"
     ]
    }
   ],
   "source": [
    "c.average()"
   ]
  },
  {
   "cell_type": "code",
   "execution_count": 72,
   "metadata": {},
   "outputs": [
    {
     "data": {
      "text/plain": [
       "8.666666666666666"
      ]
     },
     "execution_count": 72,
     "metadata": {},
     "output_type": "execute_result"
    }
   ],
   "source": [
    "c.average"
   ]
  },
  {
   "cell_type": "markdown",
   "metadata": {},
   "source": [
    "deleting properties"
   ]
  },
  {
   "cell_type": "code",
   "execution_count": 77,
   "metadata": {},
   "outputs": [],
   "source": [
    "class Customer:\n",
    "    loyalty_levels={'bronze','gold','platinum'}\n",
    "    def __init__(self,loyalty):\n",
    "        self._loyalty=loyalty\n",
    "\n",
    "    @property\n",
    "    def loyalty(self):\n",
    "        return self._loyalty\n",
    "    \n",
    "    @loyalty.setter\n",
    "    def loyalty(self,level):\n",
    "        if level not in self.__class__.loyalty_levels:\n",
    "            raise ValueError(f'{level} is not a valid loyalty level')\n",
    "\n",
    "        self._loyalty=level # two underscores makes it mangled (private)\n",
    "        \n",
    "    @loyalty.deleter\n",
    "    def loyalty(self):\n",
    "        del self._loyalty\n",
    "\n"
   ]
  },
  {
   "cell_type": "code",
   "execution_count": 84,
   "metadata": {},
   "outputs": [],
   "source": [
    "c=Customer('gold')"
   ]
  },
  {
   "cell_type": "code",
   "execution_count": 79,
   "metadata": {},
   "outputs": [
    {
     "data": {
      "text/plain": [
       "'gold'"
      ]
     },
     "execution_count": 79,
     "metadata": {},
     "output_type": "execute_result"
    }
   ],
   "source": [
    "c.loyalty"
   ]
  },
  {
   "cell_type": "code",
   "execution_count": 80,
   "metadata": {},
   "outputs": [],
   "source": [
    "del c.loyalty"
   ]
  },
  {
   "cell_type": "code",
   "execution_count": 81,
   "metadata": {},
   "outputs": [
    {
     "data": {
      "text/plain": [
       "{}"
      ]
     },
     "execution_count": 81,
     "metadata": {},
     "output_type": "execute_result"
    }
   ],
   "source": [
    "c.__dict__"
   ]
  },
  {
   "cell_type": "code",
   "execution_count": 83,
   "metadata": {},
   "outputs": [
    {
     "data": {
      "text/plain": [
       "'platinum'"
      ]
     },
     "execution_count": 83,
     "metadata": {},
     "output_type": "execute_result"
    }
   ],
   "source": [
    "c2=Customer('platinum')\n",
    "c2.loyalty"
   ]
  },
  {
   "cell_type": "code",
   "execution_count": null,
   "metadata": {},
   "outputs": [],
   "source": [
    "# property(fget,fset,fdel)"
   ]
  },
  {
   "cell_type": "markdown",
   "metadata": {},
   "source": [
    "property docstrings"
   ]
  },
  {
   "cell_type": "code",
   "execution_count": 85,
   "metadata": {},
   "outputs": [],
   "source": [
    "class Customer:\n",
    "    loyalty_levels={'bronze','gold','platinum'}\n",
    "    def __init__(self,loyalty):\n",
    "        self._loyalty=loyalty\n",
    "\n",
    "    @property\n",
    "    def loyalty(self):\n",
    "        \"\"\" A property that returns the loyalty level of the customer\"\"\"\n",
    "        return self._loyalty\n",
    "    \n",
    "    @loyalty.setter\n",
    "    def loyalty(self,level):\n",
    "        if level not in self.__class__.loyalty_levels:\n",
    "            raise ValueError(f'{level} is not a valid loyalty level')\n",
    "\n",
    "        self._loyalty=level # two underscores makes it mangled (private)\n",
    "        \n",
    "    @loyalty.deleter\n",
    "    def loyalty(self):\n",
    "        del self._loyalty\n",
    "\n"
   ]
  },
  {
   "cell_type": "code",
   "execution_count": 86,
   "metadata": {},
   "outputs": [],
   "source": [
    "c=Customer('gold')"
   ]
  },
  {
   "cell_type": "code",
   "execution_count": 87,
   "metadata": {},
   "outputs": [
    {
     "name": "stdout",
     "output_type": "stream",
     "text": [
      "Help on property:\n",
      "\n",
      "    \" A property that returns the loyalty level of the customer\n",
      "\n"
     ]
    }
   ],
   "source": [
    "help(Customer.loyalty)"
   ]
  },
  {
   "cell_type": "code",
   "execution_count": 88,
   "metadata": {},
   "outputs": [
    {
     "data": {
      "text/plain": [
       "'\" A property that returns the loyalty level of the customer'"
      ]
     },
     "execution_count": 88,
     "metadata": {},
     "output_type": "execute_result"
    }
   ],
   "source": [
    "Customer.loyalty.__doc__"
   ]
  },
  {
   "cell_type": "code",
   "execution_count": 89,
   "metadata": {},
   "outputs": [
    {
     "name": "stdout",
     "output_type": "stream",
     "text": [
      "Help on class Customer in module __main__:\n",
      "\n",
      "class Customer(builtins.object)\n",
      " |  Customer(loyalty)\n",
      " |  \n",
      " |  Methods defined here:\n",
      " |  \n",
      " |  __init__(self, loyalty)\n",
      " |      Initialize self.  See help(type(self)) for accurate signature.\n",
      " |  \n",
      " |  ----------------------------------------------------------------------\n",
      " |  Data descriptors defined here:\n",
      " |  \n",
      " |  __dict__\n",
      " |      dictionary for instance variables\n",
      " |  \n",
      " |  __weakref__\n",
      " |      list of weak references to the object\n",
      " |  \n",
      " |  loyalty\n",
      " |      \" A property that returns the loyalty level of the customer\n",
      " |  \n",
      " |  ----------------------------------------------------------------------\n",
      " |  Data and other attributes defined here:\n",
      " |  \n",
      " |  loyalty_levels = {'bronze', 'gold', 'platinum'}\n",
      "\n"
     ]
    }
   ],
   "source": [
    "help(Customer)"
   ]
  }
 ],
 "metadata": {
  "kernelspec": {
   "display_name": "base",
   "language": "python",
   "name": "python3"
  },
  "language_info": {
   "codemirror_mode": {
    "name": "ipython",
    "version": 3
   },
   "file_extension": ".py",
   "mimetype": "text/x-python",
   "name": "python",
   "nbconvert_exporter": "python",
   "pygments_lexer": "ipython3",
   "version": "3.11.7"
  }
 },
 "nbformat": 4,
 "nbformat_minor": 2
}
