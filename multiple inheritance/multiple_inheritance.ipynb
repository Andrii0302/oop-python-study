{
 "cells": [
  {
   "cell_type": "markdown",
   "metadata": {},
   "source": [
    "It makes sense"
   ]
  },
  {
   "cell_type": "code",
   "execution_count": 2,
   "metadata": {},
   "outputs": [],
   "source": [
    "class Person:\n",
    "    pass\n",
    "class Employee(Person):\n",
    "    pass"
   ]
  },
  {
   "cell_type": "code",
   "execution_count": 1,
   "metadata": {},
   "outputs": [],
   "source": [
    "# multiple inheritance?"
   ]
  },
  {
   "cell_type": "code",
   "execution_count": 3,
   "metadata": {},
   "outputs": [],
   "source": [
    "class Person:\n",
    "    pass\n",
    "class Citizen():\n",
    "    pass\n",
    "class Employee(Person,Citizen): # multiple\n",
    "    pass"
   ]
  },
  {
   "cell_type": "markdown",
   "metadata": {},
   "source": [
    "Sharing behavior"
   ]
  },
  {
   "cell_type": "code",
   "execution_count": 8,
   "metadata": {},
   "outputs": [],
   "source": [
    "class Person:\n",
    "    def speak(self):\n",
    "        return 'speak freely'\n",
    "class Citizen():\n",
    "    def vote(self):\n",
    "        return 'voting'\n",
    "    \n",
    "class Employee(Person,Citizen):\n",
    "    def speak(self):\n",
    "        return 'shadowing parent\"s method'"
   ]
  },
  {
   "cell_type": "code",
   "execution_count": 9,
   "metadata": {},
   "outputs": [
    {
     "data": {
      "text/plain": [
       "'voting'"
      ]
     },
     "execution_count": 9,
     "metadata": {},
     "output_type": "execute_result"
    }
   ],
   "source": [
    "Employee().vote()"
   ]
  },
  {
   "cell_type": "code",
   "execution_count": 10,
   "metadata": {},
   "outputs": [
    {
     "data": {
      "text/plain": [
       "'shadowing parent\"s method'"
      ]
     },
     "execution_count": 10,
     "metadata": {},
     "output_type": "execute_result"
    }
   ],
   "source": [
    "Employee().speak()"
   ]
  },
  {
   "cell_type": "code",
   "execution_count": 11,
   "metadata": {},
   "outputs": [],
   "source": [
    "e=Employee()"
   ]
  },
  {
   "cell_type": "code",
   "execution_count": 12,
   "metadata": {},
   "outputs": [
    {
     "data": {
      "text/plain": [
       "'voting'"
      ]
     },
     "execution_count": 12,
     "metadata": {},
     "output_type": "execute_result"
    }
   ],
   "source": [
    "e.vote()"
   ]
  },
  {
   "cell_type": "code",
   "execution_count": 13,
   "metadata": {},
   "outputs": [
    {
     "ename": "AttributeError",
     "evalue": "'Employee' object has no attribute 'scream'",
     "output_type": "error",
     "traceback": [
      "\u001b[1;31m---------------------------------------------------------------------------\u001b[0m",
      "\u001b[1;31mAttributeError\u001b[0m                            Traceback (most recent call last)",
      "Cell \u001b[1;32mIn[13], line 1\u001b[0m\n\u001b[1;32m----> 1\u001b[0m e\u001b[38;5;241m.\u001b[39mscream()\n",
      "\u001b[1;31mAttributeError\u001b[0m: 'Employee' object has no attribute 'scream'"
     ]
    }
   ],
   "source": [
    "e.scream()"
   ]
  },
  {
   "cell_type": "markdown",
   "metadata": {},
   "source": [
    "Parent ____init____()"
   ]
  },
  {
   "cell_type": "code",
   "execution_count": 18,
   "metadata": {},
   "outputs": [],
   "source": [
    "class Person:\n",
    "    NATIONALLITY='nOT GAY'\n",
    "    def speak(self):\n",
    "        return 'speak freely'\n",
    "class Citizen():\n",
    "    NATIONALLITY='Canadian'\n",
    "    def vote(self):\n",
    "        return 'voting'\n",
    "    \n",
    "class Employee(Person,Citizen):\n",
    "    #NATIONALLITY='Gay'\n",
    "    def speak(self):\n",
    "        return 'shadowing parent\"s method'"
   ]
  },
  {
   "cell_type": "code",
   "execution_count": 19,
   "metadata": {},
   "outputs": [
    {
     "data": {
      "text/plain": [
       "'nOT GAY'"
      ]
     },
     "execution_count": 19,
     "metadata": {},
     "output_type": "execute_result"
    }
   ],
   "source": [
    "Employee().NATIONALLITY "
   ]
  },
  {
   "cell_type": "code",
   "execution_count": 20,
   "metadata": {},
   "outputs": [],
   "source": [
    "#variable goes to first parent"
   ]
  },
  {
   "cell_type": "code",
   "execution_count": 21,
   "metadata": {},
   "outputs": [
    {
     "data": {
      "text/plain": [
       "(__main__.Employee, __main__.Person, __main__.Citizen, object)"
      ]
     },
     "execution_count": 21,
     "metadata": {},
     "output_type": "execute_result"
    }
   ],
   "source": [
    "Employee.__mro__"
   ]
  },
  {
   "cell_type": "code",
   "execution_count": 37,
   "metadata": {},
   "outputs": [],
   "source": [
    "class Person:\n",
    "\n",
    "    def __init__(self,language):\n",
    "        self.language=language\n",
    "    def speak(self):\n",
    "        return 'speak freely'\n",
    "class Citizen():\n",
    "    def __init__(self,nationallity):\n",
    "        self.nationallity=nationallity\n",
    "    def vote(self):\n",
    "        return 'voting'\n",
    "    \n",
    "class Employee(Person,Citizen):\n",
    "    \n",
    "    def __init__(self,occupation,language,nationallity):\n",
    "        self.occupation=occupation\n",
    "        Person.__init__(self,language)\n",
    "        Citizen.__init__(self,nationallity)\n",
    "    def speak(self):\n",
    "        return 'shadowing parent\"s method'"
   ]
  },
  {
   "cell_type": "code",
   "execution_count": 38,
   "metadata": {},
   "outputs": [],
   "source": [
    "E=Employee('Engineer','English','Canadian')"
   ]
  },
  {
   "cell_type": "code",
   "execution_count": 39,
   "metadata": {},
   "outputs": [
    {
     "data": {
      "text/plain": [
       "{'occupation': 'Engineer', 'language': 'English', 'nationallity': 'Canadian'}"
      ]
     },
     "execution_count": 39,
     "metadata": {},
     "output_type": "execute_result"
    }
   ],
   "source": [
    "E.__dict__"
   ]
  },
  {
   "cell_type": "code",
   "execution_count": 41,
   "metadata": {},
   "outputs": [],
   "source": [
    "E=Employee(occupation='Engineer',language='English',nationallity='Canadian')"
   ]
  },
  {
   "cell_type": "code",
   "execution_count": 32,
   "metadata": {},
   "outputs": [],
   "source": [
    "# super class inits are not called if init is present in child class, we have to call them"
   ]
  },
  {
   "cell_type": "markdown",
   "metadata": {},
   "source": [
    "Revisiting super()"
   ]
  },
  {
   "cell_type": "code",
   "execution_count": 49,
   "metadata": {},
   "outputs": [],
   "source": [
    "class Citizen():\n",
    "    def __init__(self,nationallity):\n",
    "        self.nationallity=nationallity\n",
    "        print(super())\n",
    "    def vote(self):\n",
    "        return 'voting'\n",
    "class Person:\n",
    "\n",
    "    def __init__(self,language):\n",
    "        self.language=language\n",
    "        print(super())\n",
    "    def speak(self):\n",
    "        return 'speak freely'\n",
    "\n",
    "    \n",
    "class Employee(Person,Citizen):\n",
    "    \n",
    "    def __init__(self,occupation,language,nationallity):\n",
    "        self.occupation=occupation\n",
    "        Person.__init__(self,language)\n",
    "        Citizen.__init__(self,nationallity)\n",
    "        print(super())\n",
    "        print(type(super()))\n",
    "    def speak(self):\n",
    "        return 'shadowing parent\"s method'"
   ]
  },
  {
   "cell_type": "code",
   "execution_count": 50,
   "metadata": {},
   "outputs": [
    {
     "name": "stdout",
     "output_type": "stream",
     "text": [
      "<super: <class 'Person'>, <Employee object>>\n",
      "<super: <class 'Citizen'>, <Employee object>>\n",
      "<super: <class 'Employee'>, <Employee object>>\n",
      "<class 'super'>\n"
     ]
    }
   ],
   "source": [
    "E=Employee(occupation='Engineer',language='English',nationallity='Canadian')"
   ]
  },
  {
   "cell_type": "code",
   "execution_count": 51,
   "metadata": {},
   "outputs": [
    {
     "data": {
      "text/plain": [
       "(__main__.Employee, __main__.Person, __main__.Citizen, object)"
      ]
     },
     "execution_count": 51,
     "metadata": {},
     "output_type": "execute_result"
    }
   ],
   "source": [
    "Employee.__mro__"
   ]
  },
  {
   "cell_type": "code",
   "execution_count": 56,
   "metadata": {},
   "outputs": [],
   "source": [
    "class Citizen():\n",
    "    def __init__(self,language,nationallity):\n",
    "        super().__init__(language)\n",
    "        self.nationallity=nationallity\n",
    "        \n",
    "    def vote(self):\n",
    "        return 'voting'\n",
    "class Person:\n",
    "\n",
    "    def __init__(self,language):\n",
    "        self.language=language\n",
    "        \n",
    "    def speak(self):\n",
    "        return 'speak freely'\n",
    "\n",
    "    \n",
    "class Employee(Citizen,Person):\n",
    "    \n",
    "    def __init__(self,occupation,language,nationallity):\n",
    "        super().__init__(language,nationallity)\n",
    "        self.occupation=occupation\n",
    "        \n",
    "\n",
    "    def speak(self):\n",
    "        return 'shadowing parent\"s method'"
   ]
  },
  {
   "cell_type": "code",
   "execution_count": 57,
   "metadata": {},
   "outputs": [],
   "source": [
    "E=Employee(occupation='Engineer',language='English',nationallity='Canadian')"
   ]
  },
  {
   "cell_type": "code",
   "execution_count": 58,
   "metadata": {},
   "outputs": [
    {
     "data": {
      "text/plain": [
       "{'language': 'English', 'nationallity': 'Canadian', 'occupation': 'Engineer'}"
      ]
     },
     "execution_count": 58,
     "metadata": {},
     "output_type": "execute_result"
    }
   ],
   "source": [
    "E.__dict__"
   ]
  },
  {
   "cell_type": "markdown",
   "metadata": {},
   "source": [
    "Variadics"
   ]
  },
  {
   "cell_type": "code",
   "execution_count": 82,
   "metadata": {},
   "outputs": [],
   "source": [
    "class Citizen():\n",
    "    def __init__(self,language,nationallity):\n",
    "        super().__init__(language)\n",
    "        self.nationallity=nationallity\n",
    "        \n",
    "    def vote(self):\n",
    "        return 'voting'\n",
    "class Person:\n",
    "\n",
    "    def __init__(self,language):\n",
    "        self.language=language\n",
    "        \n",
    "    def speak(self):\n",
    "        return 'speak freely'\n",
    "\n",
    "\n",
    "class Employee(Citizen,Person):\n",
    "    \n",
    "    def __init__(self,occupation,language,nationallity):\n",
    "        super().__init__(language,nationallity)\n",
    "        self.occupation=occupation\n",
    "        \n",
    "\n",
    "    def speak(self):\n",
    "        return 'shadowing parent\"s method'"
   ]
  },
  {
   "cell_type": "code",
   "execution_count": 59,
   "metadata": {},
   "outputs": [],
   "source": [
    "# variadics detour"
   ]
  },
  {
   "cell_type": "code",
   "execution_count": 60,
   "metadata": {},
   "outputs": [],
   "source": [
    "def some_func(name,age=12):\n",
    "    print(name,age)"
   ]
  },
  {
   "cell_type": "code",
   "execution_count": 61,
   "metadata": {},
   "outputs": [
    {
     "name": "stdout",
     "output_type": "stream",
     "text": [
      "Andrew 47\n"
     ]
    }
   ],
   "source": [
    "some_func('Andrew',47)"
   ]
  },
  {
   "cell_type": "code",
   "execution_count": 62,
   "metadata": {},
   "outputs": [
    {
     "ename": "TypeError",
     "evalue": "some_func() takes from 1 to 2 positional arguments but 3 were given",
     "output_type": "error",
     "traceback": [
      "\u001b[1;31m---------------------------------------------------------------------------\u001b[0m",
      "\u001b[1;31mTypeError\u001b[0m                                 Traceback (most recent call last)",
      "Cell \u001b[1;32mIn[62], line 1\u001b[0m\n\u001b[1;32m----> 1\u001b[0m some_func(\u001b[38;5;124m'\u001b[39m\u001b[38;5;124mAndrew\u001b[39m\u001b[38;5;124m'\u001b[39m,\u001b[38;5;241m47\u001b[39m,\u001b[38;5;241m2\u001b[39m)\n",
      "\u001b[1;31mTypeError\u001b[0m: some_func() takes from 1 to 2 positional arguments but 3 were given"
     ]
    }
   ],
   "source": [
    "some_func('Andrew',47,2)"
   ]
  },
  {
   "cell_type": "code",
   "execution_count": 65,
   "metadata": {},
   "outputs": [],
   "source": [
    "def some_func(name,*more,age=12):\n",
    "    print(name,age)\n",
    "    print(more)"
   ]
  },
  {
   "cell_type": "code",
   "execution_count": 69,
   "metadata": {},
   "outputs": [
    {
     "name": "stdout",
     "output_type": "stream",
     "text": [
      "Andrew 47\n",
      "(2,)\n"
     ]
    }
   ],
   "source": [
    "some_func('Andrew',2,age=47)"
   ]
  },
  {
   "cell_type": "code",
   "execution_count": 70,
   "metadata": {},
   "outputs": [
    {
     "ename": "TypeError",
     "evalue": "some_func() got an unexpected keyword argument 'orientation'",
     "output_type": "error",
     "traceback": [
      "\u001b[1;31m---------------------------------------------------------------------------\u001b[0m",
      "\u001b[1;31mTypeError\u001b[0m                                 Traceback (most recent call last)",
      "Cell \u001b[1;32mIn[70], line 1\u001b[0m\n\u001b[1;32m----> 1\u001b[0m some_func(\u001b[38;5;124m'\u001b[39m\u001b[38;5;124mAndrew\u001b[39m\u001b[38;5;124m'\u001b[39m,\u001b[38;5;241m2\u001b[39m,age\u001b[38;5;241m=\u001b[39m\u001b[38;5;241m47\u001b[39m,orientation\u001b[38;5;241m=\u001b[39m\u001b[38;5;124m'\u001b[39m\u001b[38;5;124mgay\u001b[39m\u001b[38;5;124m'\u001b[39m)\n",
      "\u001b[1;31mTypeError\u001b[0m: some_func() got an unexpected keyword argument 'orientation'"
     ]
    }
   ],
   "source": [
    "some_func('Andrew',2,age=47,orientation='gay')"
   ]
  },
  {
   "cell_type": "code",
   "execution_count": 71,
   "metadata": {},
   "outputs": [],
   "source": [
    "def some_func(name,*more,age=12,**even_more):\n",
    "    print(name,age)\n",
    "    print(more)\n",
    "    print(even_more)"
   ]
  },
  {
   "cell_type": "code",
   "execution_count": 72,
   "metadata": {},
   "outputs": [
    {
     "name": "stdout",
     "output_type": "stream",
     "text": [
      "Andrew 47\n",
      "(2,)\n",
      "{'orientation': 'gay'}\n"
     ]
    }
   ],
   "source": [
    "some_func('Andrew',2,age=47,orientation='gay')"
   ]
  },
  {
   "cell_type": "code",
   "execution_count": null,
   "metadata": {},
   "outputs": [],
   "source": [
    "# variadic"
   ]
  },
  {
   "cell_type": "code",
   "execution_count": 73,
   "metadata": {},
   "outputs": [],
   "source": [
    "# arity not fixed or known ahead of Time "
   ]
  },
  {
   "cell_type": "code",
   "execution_count": 74,
   "metadata": {},
   "outputs": [],
   "source": [
    "def some_func(name,*args,age=12,**kwargs):\n",
    "    print(name,age)\n",
    "    print(args)\n",
    "    print(kwargs)"
   ]
  },
  {
   "cell_type": "code",
   "execution_count": 87,
   "metadata": {},
   "outputs": [
    {
     "name": "stdout",
     "output_type": "stream",
     "text": [
      "{}\n"
     ]
    }
   ],
   "source": [
    "class Citizen:\n",
    "    def __init__(self, nationality, **kwargs):\n",
    "        super().__init__(**kwargs)\n",
    "        self.nationality = nationality\n",
    "        \n",
    "    def vote(self):\n",
    "        return 'voting'\n",
    "\n",
    "class Person:\n",
    "    def __init__(self, language, **kwargs):\n",
    "        print(kwargs)\n",
    "        #super().__init__(**kwargs)\n",
    "        self.language = language\n",
    "        \n",
    "    def speak(self):\n",
    "        return 'speak freely'\n",
    "\n",
    "class Employee(Citizen, Person):\n",
    "    def __init__(self, occupation, nationality, language):\n",
    "        super().__init__(nationality=nationality, language=language)\n",
    "        self.occupation = occupation\n",
    "\n",
    "    def speak(self):\n",
    "        return 'shadowing parent\"s method'\n",
    "\n",
    "Em = Employee(occupation='Employee', nationality='Korean', language='Python')\n",
    "\n"
   ]
  },
  {
   "cell_type": "code",
   "execution_count": 88,
   "metadata": {},
   "outputs": [
    {
     "data": {
      "text/plain": [
       "{'language': 'Python', 'nationality': 'Korean', 'occupation': 'Employee'}"
      ]
     },
     "execution_count": 88,
     "metadata": {},
     "output_type": "execute_result"
    }
   ],
   "source": [
    "Em.__dict__"
   ]
  },
  {
   "cell_type": "code",
   "execution_count": 91,
   "metadata": {},
   "outputs": [
    {
     "data": {
      "text/plain": [
       "(__main__.Employee, __main__.Citizen, __main__.Person, object)"
      ]
     },
     "execution_count": 91,
     "metadata": {},
     "output_type": "execute_result"
    }
   ],
   "source": [
    "Employee.__mro__"
   ]
  },
  {
   "cell_type": "markdown",
   "metadata": {},
   "source": [
    "The diamond problem"
   ]
  },
  {
   "cell_type": "code",
   "execution_count": 92,
   "metadata": {},
   "outputs": [],
   "source": [
    "class Person:\n",
    "    def speak(self):\n",
    "        return 'speaking'\n",
    "class Developer(Person):\n",
    "    def speak(self):\n",
    "        return 'developing'\n",
    "class Citizen(Person):\n",
    "    def speak(self):\n",
    "        return 'citizen'\n",
    "class Employee(Developer, Citizen): # the class that is passed first will be called\n",
    "    \"\"\"The Employee subclass\"\"\""
   ]
  },
  {
   "cell_type": "code",
   "execution_count": 93,
   "metadata": {},
   "outputs": [],
   "source": [
    "e=Employee()"
   ]
  },
  {
   "cell_type": "code",
   "execution_count": 95,
   "metadata": {},
   "outputs": [
    {
     "data": {
      "text/plain": [
       "'developing'"
      ]
     },
     "execution_count": 95,
     "metadata": {},
     "output_type": "execute_result"
    }
   ],
   "source": [
    "e.speak()"
   ]
  },
  {
   "cell_type": "code",
   "execution_count": 97,
   "metadata": {},
   "outputs": [
    {
     "data": {
      "text/plain": [
       "(__main__.Employee,\n",
       " __main__.Developer,\n",
       " __main__.Citizen,\n",
       " __main__.Person,\n",
       " object)"
      ]
     },
     "execution_count": 97,
     "metadata": {},
     "output_type": "execute_result"
    }
   ],
   "source": [
    "Employee.__mro__"
   ]
  },
  {
   "cell_type": "markdown",
   "metadata": {},
   "source": [
    "What drives __mro__"
   ]
  },
  {
   "cell_type": "code",
   "execution_count": 98,
   "metadata": {},
   "outputs": [],
   "source": [
    "class Citizen:\n",
    "    def __init__(self, nationality, **kwargs):\n",
    "        super().__init__(**kwargs)\n",
    "        self.nationality = nationality\n",
    "        \n",
    "    def vote(self):\n",
    "        return 'voting'\n",
    "\n",
    "class Person:\n",
    "    def __init__(self, language, **kwargs):\n",
    "        \n",
    "        self.language = language\n",
    "        \n",
    "    def speak(self):\n",
    "        return 'speak freely'\n",
    "\n",
    "class Employee(Citizen, Person):\n",
    "    def __init__(self, occupation, nationality, language):\n",
    "        super().__init__(nationality=nationality, language=language)\n",
    "        self.occupation = occupation\n",
    "\n",
    "    def speak(self):\n",
    "        return 'shadowing parent\"s method'\n",
    "\n",
    "Em = Employee(occupation='Employee', nationality='Korean', language='Python')\n",
    "\n"
   ]
  },
  {
   "cell_type": "code",
   "execution_count": 99,
   "metadata": {},
   "outputs": [
    {
     "data": {
      "text/plain": [
       "(__main__.Employee, __main__.Citizen, __main__.Person, object)"
      ]
     },
     "execution_count": 99,
     "metadata": {},
     "output_type": "execute_result"
    }
   ],
   "source": [
    "Employee.__mro__"
   ]
  },
  {
   "cell_type": "code",
   "execution_count": 102,
   "metadata": {},
   "outputs": [],
   "source": [
    "# rules of mro:\n",
    "# 1. children classes come before their parents\n",
    "# 2. among siblings, the order reflected in __bases__ is followed"
   ]
  },
  {
   "cell_type": "code",
   "execution_count": 103,
   "metadata": {},
   "outputs": [
    {
     "data": {
      "text/plain": [
       "(__main__.Citizen, __main__.Person)"
      ]
     },
     "execution_count": 103,
     "metadata": {},
     "output_type": "execute_result"
    }
   ],
   "source": [
    "Employee.__bases__"
   ]
  },
  {
   "cell_type": "markdown",
   "metadata": {},
   "source": [
    "Is it woth it?"
   ]
  },
  {
   "cell_type": "markdown",
   "metadata": {},
   "source": [
    "easy to understand\n",
    "itroduce more complexity we want\n",
    "good for mixins and type relationships with abcs"
   ]
  },
  {
   "cell_type": "markdown",
   "metadata": {},
   "source": [
    "Mixins"
   ]
  },
  {
   "cell_type": "code",
   "execution_count": 106,
   "metadata": {},
   "outputs": [],
   "source": [
    "class Worker():\n",
    "    def work(self):\n",
    "        return 'working'\n"
   ]
  },
  {
   "cell_type": "code",
   "execution_count": 107,
   "metadata": {},
   "outputs": [],
   "source": [
    "class over_achieverMixin():\n",
    "    def work(self):\n",
    "        return f'{super().work()} with smth'\n",
    "class CriticalMixin():\n",
    "    def work(self):\n",
    "        return f'{super().work()} on important'\n",
    "class PartTimeMixin():\n",
    "    def work(self):\n",
    "        return f'{super().work()} part time'"
   ]
  },
  {
   "cell_type": "code",
   "execution_count": 108,
   "metadata": {},
   "outputs": [
    {
     "ename": "TypeError",
     "evalue": "over_achieverMixin.work() missing 1 required positional argument: 'self'",
     "output_type": "error",
     "traceback": [
      "\u001b[1;31m---------------------------------------------------------------------------\u001b[0m",
      "\u001b[1;31mTypeError\u001b[0m                                 Traceback (most recent call last)",
      "Cell \u001b[1;32mIn[108], line 1\u001b[0m\n\u001b[1;32m----> 1\u001b[0m over_achieverMixin\u001b[38;5;241m.\u001b[39mwork()\n",
      "\u001b[1;31mTypeError\u001b[0m: over_achieverMixin.work() missing 1 required positional argument: 'self'"
     ]
    }
   ],
   "source": [
    "over_achieverMixin.work()"
   ]
  },
  {
   "cell_type": "code",
   "execution_count": 110,
   "metadata": {},
   "outputs": [],
   "source": [
    "class PartTimeCriticalWorker(PartTimeMixin,CriticalMixin,Worker):\n",
    "    pass"
   ]
  },
  {
   "cell_type": "code",
   "execution_count": 112,
   "metadata": {},
   "outputs": [
    {
     "data": {
      "text/plain": [
       "'working on important part time'"
      ]
     },
     "execution_count": 112,
     "metadata": {},
     "output_type": "execute_result"
    }
   ],
   "source": [
    "PartTimeCriticalWorker().work()"
   ]
  },
  {
   "cell_type": "code",
   "execution_count": 113,
   "metadata": {},
   "outputs": [],
   "source": [
    "class OverachieverWorker(over_achieverMixin, Worker):\n",
    "    pass"
   ]
  },
  {
   "cell_type": "code",
   "execution_count": 114,
   "metadata": {},
   "outputs": [
    {
     "data": {
      "text/plain": [
       "'working with smth'"
      ]
     },
     "execution_count": 114,
     "metadata": {},
     "output_type": "execute_result"
    }
   ],
   "source": [
    "OverachieverWorker().work()"
   ]
  },
  {
   "cell_type": "markdown",
   "metadata": {},
   "source": [
    "Organizing interfaces"
   ]
  },
  {
   "cell_type": "code",
   "execution_count": 115,
   "metadata": {},
   "outputs": [],
   "source": [
    "from abc import ABC, abstractmethod"
   ]
  },
  {
   "cell_type": "code",
   "execution_count": 116,
   "metadata": {},
   "outputs": [],
   "source": [
    "class Playable(ABC):\n",
    "    @abstractmethod\n",
    "    def play(self):\n",
    "        pass\n",
    "    @abstractmethod\n",
    "    def pause(self):\n",
    "        pass\n",
    "    @abstractmethod\n",
    "    def stop(self):\n",
    "        pass\n",
    "class Replpicable(ABC):\n",
    "    @abstractmethod\n",
    "    def copy(self):\n",
    "        pass\n",
    "class Portable(ABC):\n",
    "\n",
    "    @abstractmethod\n",
    "    def move(self):\n",
    "        pass\n",
    "    @abstractmethod\n",
    "    def download(self):\n",
    "        pass\n",
    "class Likable(ABC):\n",
    "    @abstractmethod\n",
    "    def like(self):\n",
    "        pass\n"
   ]
  },
  {
   "cell_type": "code",
   "execution_count": 117,
   "metadata": {},
   "outputs": [],
   "source": [
    "class CloudMediaFile(Playable,Likable):\n",
    "    pass"
   ]
  },
  {
   "cell_type": "code",
   "execution_count": 118,
   "metadata": {},
   "outputs": [],
   "source": [
    "class LocalMediaFile(Playable,Portable,Replpicable):\n",
    "    pass"
   ]
  },
  {
   "cell_type": "code",
   "execution_count": 123,
   "metadata": {},
   "outputs": [],
   "source": [
    "class SpotifySong(CloudMediaFile):\n",
    "    def __init__(self,title,artist):\n",
    "        self.title = title\n",
    "        self.artist = artist\n",
    "    def play(self):\n",
    "        return f'Playing {self.title} by {self.artist}'\n",
    "    def pause(self):\n",
    "        return 'stop'\n",
    "    def stop(self):\n",
    "        return 'stop playing'\n",
    "    def like(self):\n",
    "        return f'liked {self.title}'\n",
    "    "
   ]
  },
  {
   "cell_type": "code",
   "execution_count": 124,
   "metadata": {},
   "outputs": [],
   "source": [
    "song=SpotifySong('Astrounat','Maked')"
   ]
  },
  {
   "cell_type": "code",
   "execution_count": 125,
   "metadata": {},
   "outputs": [
    {
     "data": {
      "text/plain": [
       "'Playing Astrounat by Maked'"
      ]
     },
     "execution_count": 125,
     "metadata": {},
     "output_type": "execute_result"
    }
   ],
   "source": [
    "song.play()"
   ]
  },
  {
   "cell_type": "code",
   "execution_count": 126,
   "metadata": {},
   "outputs": [
    {
     "data": {
      "text/plain": [
       "False"
      ]
     },
     "execution_count": 126,
     "metadata": {},
     "output_type": "execute_result"
    }
   ],
   "source": [
    "isinstance(song,Portable)"
   ]
  },
  {
   "cell_type": "code",
   "execution_count": 128,
   "metadata": {},
   "outputs": [
    {
     "data": {
      "text/plain": [
       "True"
      ]
     },
     "execution_count": 128,
     "metadata": {},
     "output_type": "execute_result"
    }
   ],
   "source": [
    "issubclass(SpotifySong,Playable)"
   ]
  }
 ],
 "metadata": {
  "kernelspec": {
   "display_name": "base",
   "language": "python",
   "name": "python3"
  },
  "language_info": {
   "codemirror_mode": {
    "name": "ipython",
    "version": 3
   },
   "file_extension": ".py",
   "mimetype": "text/x-python",
   "name": "python",
   "nbconvert_exporter": "python",
   "pygments_lexer": "ipython3",
   "version": "3.11.7"
  }
 },
 "nbformat": 4,
 "nbformat_minor": 2
}
