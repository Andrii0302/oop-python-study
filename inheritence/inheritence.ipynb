{
 "cells": [
  {
   "cell_type": "markdown",
   "metadata": {},
   "source": [
    "Inheritence"
   ]
  },
  {
   "cell_type": "code",
   "execution_count": null,
   "metadata": {},
   "outputs": [],
   "source": [
    "class Virus: #superclass, base class, parent class\n",
    "    pass\n",
    "\n",
    "class RNAVirus(Virus): #derived, child class, subclass or subtype\n",
    "    pass\n"
   ]
  },
  {
   "cell_type": "code",
   "execution_count": null,
   "metadata": {},
   "outputs": [],
   "source": [
    "# \"is a \" relationships"
   ]
  },
  {
   "cell_type": "code",
   "execution_count": 2,
   "metadata": {},
   "outputs": [],
   "source": [
    "class Virus: \n",
    "    pass\n",
    "\n",
    "class RNAVirus(Virus):\n",
    "    pass\n",
    "class Coronavirus(RNAVirus):\n",
    "    pass\n",
    "class SARSCov2(Coronavirus):\n",
    "    pass"
   ]
  },
  {
   "cell_type": "code",
   "execution_count": 3,
   "metadata": {},
   "outputs": [
    {
     "data": {
      "text/plain": [
       "True"
      ]
     },
     "execution_count": 3,
     "metadata": {},
     "output_type": "execute_result"
    }
   ],
   "source": [
    "issubclass(SARSCov2,Coronavirus)"
   ]
  },
  {
   "cell_type": "code",
   "execution_count": 4,
   "metadata": {},
   "outputs": [
    {
     "data": {
      "text/plain": [
       "True"
      ]
     },
     "execution_count": 4,
     "metadata": {},
     "output_type": "execute_result"
    }
   ],
   "source": [
    "issubclass(Coronavirus,RNAVirus)"
   ]
  },
  {
   "cell_type": "code",
   "execution_count": 5,
   "metadata": {},
   "outputs": [
    {
     "data": {
      "text/plain": [
       "True"
      ]
     },
     "execution_count": 5,
     "metadata": {},
     "output_type": "execute_result"
    }
   ],
   "source": [
    "issubclass(SARSCov2, Virus)"
   ]
  },
  {
   "cell_type": "code",
   "execution_count": 6,
   "metadata": {},
   "outputs": [],
   "source": [
    "class Virus: \n",
    "    def __init__(self, name, reproduction_rate,resistance ):\n",
    "        self.name = name\n",
    "        self.reproduction_rate = reproduction_rate\n",
    "        self.resistance = resistance\n",
    "        self.load = 1\n",
    "        self.host = None\n",
    "    def infect(self,host):\n",
    "        self.host=host\n",
    "    \n",
    "    def reproduce(self):\n",
    "        if self.host is not None:\n",
    "            self.load*=(1+ self.reproduction_rate)\n",
    "            return True , f'Virus reproduced in {self.host}. Viral load: {int(self.load)}'\n",
    "        raise AttributeError('No host to reproduce')"
   ]
  },
  {
   "cell_type": "code",
   "execution_count": 7,
   "metadata": {},
   "outputs": [],
   "source": [
    "v=Virus('chandipura',1.2,1.1)"
   ]
  },
  {
   "cell_type": "code",
   "execution_count": 10,
   "metadata": {},
   "outputs": [
    {
     "data": {
      "text/plain": [
       "(True, 'Virus reproduced in animal1. Viral load: 2')"
      ]
     },
     "execution_count": 10,
     "metadata": {},
     "output_type": "execute_result"
    }
   ],
   "source": [
    "v.reproduce()"
   ]
  },
  {
   "cell_type": "code",
   "execution_count": 9,
   "metadata": {},
   "outputs": [],
   "source": [
    "v.infect('animal1')"
   ]
  },
  {
   "cell_type": "code",
   "execution_count": 23,
   "metadata": {},
   "outputs": [],
   "source": [
    "class RNAVirus(Virus):\n",
    "    genome='ribonoucleotide'\n",
    "    def reproduce(self):\n",
    "        success,status=Virus.reproduce(self)\n",
    "        if success:\n",
    "            print('all good')"
   ]
  },
  {
   "cell_type": "code",
   "execution_count": 17,
   "metadata": {},
   "outputs": [],
   "source": [
    "class DNAVirus(Virus):\n",
    "    genome='deoxyribonucleic acid'\n",
    "    def reproduce(self):\n",
    "        success,status=Virus.reproduce(self)\n",
    "        if success:\n",
    "            print('all good :')"
   ]
  },
  {
   "cell_type": "code",
   "execution_count": 24,
   "metadata": {},
   "outputs": [],
   "source": [
    "r=RNAVirus('HVI',1.1,0.2)"
   ]
  },
  {
   "cell_type": "code",
   "execution_count": 16,
   "metadata": {},
   "outputs": [
    {
     "name": "stdout",
     "output_type": "stream",
     "text": [
      "all good :\n"
     ]
    }
   ],
   "source": [
    "r.reproduce()"
   ]
  },
  {
   "cell_type": "code",
   "execution_count": 15,
   "metadata": {},
   "outputs": [],
   "source": [
    "r.infect('monkey0')"
   ]
  },
  {
   "cell_type": "code",
   "execution_count": 18,
   "metadata": {},
   "outputs": [],
   "source": [
    "d=DNAVirus('Ecoli',1.2,1.1)"
   ]
  },
  {
   "cell_type": "code",
   "execution_count": 20,
   "metadata": {},
   "outputs": [],
   "source": [
    "d.infect('pop')"
   ]
  },
  {
   "cell_type": "code",
   "execution_count": 21,
   "metadata": {},
   "outputs": [
    {
     "name": "stdout",
     "output_type": "stream",
     "text": [
      "all good :\n"
     ]
    }
   ],
   "source": [
    "d.reproduce()"
   ]
  },
  {
   "cell_type": "code",
   "execution_count": 25,
   "metadata": {},
   "outputs": [
    {
     "data": {
      "text/plain": [
       "('deoxyribonucleic acid', 'ribonoucleotide')"
      ]
     },
     "execution_count": 25,
     "metadata": {},
     "output_type": "execute_result"
    }
   ],
   "source": [
    "d.genome, r.genome"
   ]
  },
  {
   "cell_type": "markdown",
   "metadata": {},
   "source": [
    "All classes inherit from object"
   ]
  },
  {
   "cell_type": "code",
   "execution_count": 31,
   "metadata": {},
   "outputs": [],
   "source": [
    "class Virus1(object):\n",
    "    pass\n",
    "class RNAvirus(Virus):\n",
    "    pass"
   ]
  },
  {
   "cell_type": "code",
   "execution_count": 27,
   "metadata": {},
   "outputs": [],
   "source": [
    "o1=object()"
   ]
  },
  {
   "cell_type": "code",
   "execution_count": 28,
   "metadata": {},
   "outputs": [
    {
     "data": {
      "text/plain": [
       "object"
      ]
     },
     "execution_count": 28,
     "metadata": {},
     "output_type": "execute_result"
    }
   ],
   "source": [
    "o1.__class__"
   ]
  },
  {
   "cell_type": "code",
   "execution_count": 29,
   "metadata": {},
   "outputs": [
    {
     "data": {
      "text/plain": [
       "<method-wrapper '__repr__' of object object at 0x0000020656152510>"
      ]
     },
     "execution_count": 29,
     "metadata": {},
     "output_type": "execute_result"
    }
   ],
   "source": [
    "o1.__repr__"
   ]
  },
  {
   "cell_type": "code",
   "execution_count": 34,
   "metadata": {},
   "outputs": [
    {
     "data": {
      "text/plain": [
       "<method-wrapper '__call__' of type object at 0x0000020654AE0590>"
      ]
     },
     "execution_count": 34,
     "metadata": {},
     "output_type": "execute_result"
    }
   ],
   "source": [
    "Virus1.__call__"
   ]
  },
  {
   "cell_type": "markdown",
   "metadata": {},
   "source": [
    "Method resolution order"
   ]
  },
  {
   "cell_type": "code",
   "execution_count": 35,
   "metadata": {},
   "outputs": [],
   "source": [
    "class TempVirus:\n",
    "    attr='some'\n",
    "    attr_order='some order'\n",
    "    def __init__(self,attr):\n",
    "        self.attr=attr\n",
    "    "
   ]
  },
  {
   "cell_type": "code",
   "execution_count": 36,
   "metadata": {},
   "outputs": [],
   "source": [
    "v1=TempVirus('isinstance_attribute')"
   ]
  },
  {
   "cell_type": "code",
   "execution_count": 37,
   "metadata": {},
   "outputs": [
    {
     "data": {
      "text/plain": [
       "'isinstance_attribute'"
      ]
     },
     "execution_count": 37,
     "metadata": {},
     "output_type": "execute_result"
    }
   ],
   "source": [
    "v1.attr"
   ]
  },
  {
   "cell_type": "code",
   "execution_count": 38,
   "metadata": {},
   "outputs": [
    {
     "data": {
      "text/plain": [
       "{'attr': 'isinstance_attribute'}"
      ]
     },
     "execution_count": 38,
     "metadata": {},
     "output_type": "execute_result"
    }
   ],
   "source": [
    "v1.__dict__"
   ]
  },
  {
   "cell_type": "code",
   "execution_count": 40,
   "metadata": {},
   "outputs": [
    {
     "data": {
      "text/plain": [
       "'some order'"
      ]
     },
     "execution_count": 40,
     "metadata": {},
     "output_type": "execute_result"
    }
   ],
   "source": [
    "v1.attr_order"
   ]
  },
  {
   "cell_type": "code",
   "execution_count": 41,
   "metadata": {},
   "outputs": [
    {
     "data": {
      "text/plain": [
       "mappingproxy({'__module__': '__main__',\n",
       "              'attr': 'some',\n",
       "              'attr_order': 'some order',\n",
       "              '__init__': <function __main__.TempVirus.__init__(self, attr)>,\n",
       "              '__dict__': <attribute '__dict__' of 'TempVirus' objects>,\n",
       "              '__weakref__': <attribute '__weakref__' of 'TempVirus' objects>,\n",
       "              '__doc__': None})"
      ]
     },
     "execution_count": 41,
     "metadata": {},
     "output_type": "execute_result"
    }
   ],
   "source": [
    "type(v1).__dict__"
   ]
  },
  {
   "cell_type": "code",
   "execution_count": null,
   "metadata": {},
   "outputs": [],
   "source": [
    "# instance -> class -> superclass(s) -> object, else AttributeError"
   ]
  },
  {
   "cell_type": "code",
   "execution_count": 42,
   "metadata": {},
   "outputs": [
    {
     "ename": "AttributeError",
     "evalue": "'TempVirus' object has no attribute 'imagine'",
     "output_type": "error",
     "traceback": [
      "\u001b[1;31m---------------------------------------------------------------------------\u001b[0m",
      "\u001b[1;31mAttributeError\u001b[0m                            Traceback (most recent call last)",
      "Cell \u001b[1;32mIn[42], line 1\u001b[0m\n\u001b[1;32m----> 1\u001b[0m v1\u001b[38;5;241m.\u001b[39mimagine\n",
      "\u001b[1;31mAttributeError\u001b[0m: 'TempVirus' object has no attribute 'imagine'"
     ]
    }
   ],
   "source": [
    "v1.imagine"
   ]
  },
  {
   "cell_type": "code",
   "execution_count": 43,
   "metadata": {},
   "outputs": [
    {
     "data": {
      "text/plain": [
       "(object,)"
      ]
     },
     "execution_count": 43,
     "metadata": {},
     "output_type": "execute_result"
    }
   ],
   "source": [
    "TempVirus.__bases__"
   ]
  },
  {
   "cell_type": "code",
   "execution_count": 44,
   "metadata": {},
   "outputs": [
    {
     "data": {
      "text/plain": [
       "(__main__.Virus,)"
      ]
     },
     "execution_count": 44,
     "metadata": {},
     "output_type": "execute_result"
    }
   ],
   "source": [
    "RNAVirus.__bases__"
   ]
  },
  {
   "cell_type": "code",
   "execution_count": 45,
   "metadata": {},
   "outputs": [
    {
     "data": {
      "text/plain": [
       "(__main__.RNAVirus, __main__.Virus, object)"
      ]
     },
     "execution_count": 45,
     "metadata": {},
     "output_type": "execute_result"
    }
   ],
   "source": [
    "RNAVirus.__mro__"
   ]
  },
  {
   "cell_type": "markdown",
   "metadata": {},
   "source": [
    "Subclass Overrides"
   ]
  },
  {
   "cell_type": "code",
   "execution_count": 50,
   "metadata": {},
   "outputs": [],
   "source": [
    "from random import getrandbits"
   ]
  },
  {
   "cell_type": "code",
   "execution_count": 51,
   "metadata": {},
   "outputs": [
    {
     "name": "stdout",
     "output_type": "stream",
     "text": [
      "0\n",
      "1\n",
      "1\n",
      "0\n"
     ]
    }
   ],
   "source": [
    "for i in range(4):\n",
    "    print(getrandbits(1))"
   ]
  },
  {
   "cell_type": "code",
   "execution_count": 53,
   "metadata": {},
   "outputs": [],
   "source": [
    "class Virus: \n",
    "    def __init__(self, name, reproduction_rate,resistance ):\n",
    "        self.name = name\n",
    "        self.reproduction_rate = reproduction_rate\n",
    "        self.resistance = resistance\n",
    "        self.load = 1\n",
    "        self.host = None\n",
    "    def infect(self,host):\n",
    "        self.host=host\n",
    "    \n",
    "    def reproduce(self):\n",
    "        if self.host is not None:\n",
    "            self.load*=(1+ self.reproduction_rate)\n",
    "            should_mutate=getrandbits(1)\n",
    "            print(f'Should mutate: {should_mutate}')\n",
    "            if should_mutate:\n",
    "                try:\n",
    "                    self.mutate()\n",
    "                except AttributeError:\n",
    "                    pass\n",
    "            return True , f'Virus reproduced in {self.host}. Viral load: {int(self.load)}'\n",
    "        raise AttributeError('No host to reproduce')\n",
    "    \n",
    "class RNAVirus(Virus):\n",
    "    genome='ribonoucleotide'\n",
    "    def reproduce(self):\n",
    "        success,status=Virus.reproduce(self)\n",
    "        if success:\n",
    "            print('all good')\n",
    "class DNAVirus(Virus):\n",
    "    genome='deoxyribonucleic acid'\n",
    "    def reproduce(self):\n",
    "        success,status=Virus.reproduce(self)\n",
    "        if success:\n",
    "            print('all good :')"
   ]
  },
  {
   "cell_type": "code",
   "execution_count": 47,
   "metadata": {},
   "outputs": [],
   "source": [
    "# class CoronaVirus(RNAVirus):\n",
    "#     def infect(self):\n",
    "#         print('A coronavir specific method with a different signature from the parent') \n",
    "#         raise NotImplementedError"
   ]
  },
  {
   "cell_type": "code",
   "execution_count": 54,
   "metadata": {},
   "outputs": [
    {
     "name": "stdout",
     "output_type": "stream",
     "text": [
      "Should mutate: 1\n",
      "The original virus just mutated\n",
      "all good\n",
      "None \n",
      "\n",
      "Should mutate: 1\n",
      "The original virus just mutated\n",
      "all good\n",
      "None \n",
      "\n",
      "Should mutate: 0\n",
      "all good\n",
      "None \n",
      "\n",
      "Should mutate: 1\n",
      "The original virus just mutated\n",
      "all good\n",
      "None \n",
      "\n"
     ]
    }
   ],
   "source": [
    "class CoronaVirus(RNAVirus):\n",
    "    pass\n",
    "class SARSCov2(CoronaVirus):\n",
    "    def mutate(self):\n",
    "        print(f'The {self.name} virus just mutated')\n",
    "cv1=SARSCov2('original',2.9,1.2)\n",
    "cv1.infect('tobi')\n",
    "for i in range(4):\n",
    "    print(cv1.reproduce(),'\\n')"
   ]
  },
  {
   "cell_type": "code",
   "execution_count": 48,
   "metadata": {},
   "outputs": [
    {
     "name": "stdout",
     "output_type": "stream",
     "text": [
      "A coronavir specific method with a different signature from the parent\n"
     ]
    },
    {
     "ename": "NotImplementedError",
     "evalue": "",
     "output_type": "error",
     "traceback": [
      "\u001b[1;31m---------------------------------------------------------------------------\u001b[0m",
      "\u001b[1;31mNotImplementedError\u001b[0m                       Traceback (most recent call last)",
      "Cell \u001b[1;32mIn[48], line 2\u001b[0m\n\u001b[0;32m      1\u001b[0m cv\u001b[38;5;241m=\u001b[39mCoronaVirus(\u001b[38;5;124m'\u001b[39m\u001b[38;5;124mMERS\u001b[39m\u001b[38;5;124m'\u001b[39m,\u001b[38;5;241m.1\u001b[39m,\u001b[38;5;241m.2\u001b[39m)\n\u001b[1;32m----> 2\u001b[0m cv\u001b[38;5;241m.\u001b[39minfect()\n",
      "Cell \u001b[1;32mIn[47], line 4\u001b[0m, in \u001b[0;36mCoronaVirus.infect\u001b[1;34m(self)\u001b[0m\n\u001b[0;32m      2\u001b[0m \u001b[38;5;28;01mdef\u001b[39;00m \u001b[38;5;21minfect\u001b[39m(\u001b[38;5;28mself\u001b[39m):\n\u001b[0;32m      3\u001b[0m     \u001b[38;5;28mprint\u001b[39m(\u001b[38;5;124m'\u001b[39m\u001b[38;5;124mA coronavir specific method with a different signature from the parent\u001b[39m\u001b[38;5;124m'\u001b[39m) \n\u001b[1;32m----> 4\u001b[0m     \u001b[38;5;28;01mraise\u001b[39;00m \u001b[38;5;167;01mNotImplementedError\u001b[39;00m\n",
      "\u001b[1;31mNotImplementedError\u001b[0m: "
     ]
    }
   ],
   "source": [
    "cv=CoronaVirus('MERS',.1,.2)\n",
    "cv.infect()"
   ]
  },
  {
   "cell_type": "markdown",
   "metadata": {},
   "source": [
    "Better parent delegation: super()"
   ]
  },
  {
   "cell_type": "code",
   "execution_count": 55,
   "metadata": {},
   "outputs": [],
   "source": [
    "class Virus: \n",
    "    def __init__(self, name, reproduction_rate,resistance ):\n",
    "        self.name = name\n",
    "        self.reproduction_rate = reproduction_rate\n",
    "        self.resistance = resistance\n",
    "        self.load = 1\n",
    "        self.host = None\n",
    "    def infect(self,host):\n",
    "        self.host=host\n",
    "    \n",
    "    def reproduce(self):\n",
    "        if self.host is not None:\n",
    "            self.load*=(1+ self.reproduction_rate)\n",
    "            should_mutate=getrandbits(1)\n",
    "            print(f'Should mutate: {should_mutate}')\n",
    "            if should_mutate:\n",
    "                try:\n",
    "                    self.mutate()\n",
    "                except AttributeError:\n",
    "                    pass\n",
    "            return True , f'Virus reproduced in {self.host}. Viral load: {int(self.load)}'\n",
    "        raise AttributeError('No host to reproduce')\n",
    "    \n",
    "class RNAVirus(Virus):\n",
    "    genome='ribonoucleotide'\n",
    "    def reproduce(self):\n",
    "        success,status=Virus.reproduce(self)\n",
    "        if success:\n",
    "            print('all good')\n",
    "class DNAVirus(Virus):\n",
    "    genome='deoxyribonucleic acid'\n",
    "    def reproduce(self):\n",
    "        # success,status=Virus.reproduce(self)\n",
    "        success,status=super().reproduce()\n",
    "        if success:\n",
    "            print('all good :')\n",
    "class CoronaVirus(RNAVirus):\n",
    "    pass\n",
    "class SARSCov2(CoronaVirus):\n",
    "    def mutate(self):\n",
    "        print(f'The {self.name} virus just mutated')\n"
   ]
  },
  {
   "cell_type": "code",
   "execution_count": null,
   "metadata": {},
   "outputs": [],
   "source": [
    "cv1=SARSCov2('original',2.9,1.2)\n",
    "cv1.infect('tobi')\n",
    "\n",
    "for i in range(4):\n",
    "    print(cv1.reproduce(),'\\n')"
   ]
  },
  {
   "cell_type": "code",
   "execution_count": 56,
   "metadata": {},
   "outputs": [],
   "source": [
    "rv=RNAVirus('F',1.2,1.1)\n",
    "dv=DNAVirus('a',1.2,1.1)"
   ]
  },
  {
   "cell_type": "code",
   "execution_count": 62,
   "metadata": {},
   "outputs": [
    {
     "name": "stdout",
     "output_type": "stream",
     "text": [
      "Should mutate: 1\n",
      "all good\n",
      "Should mutate: 0\n",
      "all good :\n"
     ]
    }
   ],
   "source": [
    "rv.infect('And')\n",
    "dv.infect('Tobi')\n",
    "rv.reproduce()\n",
    "dv.reproduce()"
   ]
  },
  {
   "cell_type": "markdown",
   "metadata": {},
   "source": [
    "subclass __init__"
   ]
  },
  {
   "cell_type": "code",
   "execution_count": 1,
   "metadata": {},
   "outputs": [],
   "source": [
    "class Virus: \n",
    "    def __init__(self, name, reproduction_rate,resistance ):\n",
    "        self.name = name\n",
    "        self.reproduction_rate = reproduction_rate\n",
    "        self.resistance = resistance\n",
    "        self.load = 1\n",
    "        self.host = None\n",
    "    def infect(self,host):\n",
    "        self.host=host\n",
    "    \n",
    "    def reproduce(self):\n",
    "        if self.host is not None:\n",
    "            self.load*=(1+ self.reproduction_rate)\n",
    "            should_mutate=getrandbits(1)\n",
    "            print(f'Should mutate: {should_mutate}')\n",
    "            if should_mutate:\n",
    "                try:\n",
    "                    self.mutate()\n",
    "                except AttributeError:\n",
    "                    pass\n",
    "            return True , f'Virus reproduced in {self.host}. Viral load: {int(self.load)}'\n",
    "        raise AttributeError('No host to reproduce')\n",
    "    \n",
    "class RNAVirus(Virus):\n",
    "    genome='ribonoucleotide'\n",
    "    def reproduce(self):\n",
    "        success,status=Virus.reproduce(self)\n",
    "        if success:\n",
    "            print('all good')\n",
    "class DNAVirus(Virus):\n",
    "    genome='deoxyribonucleic acid'\n",
    "    def reproduce(self):\n",
    "        # success,status=Virus.reproduce(self)\n",
    "        success,status=super().reproduce()\n",
    "        if success:\n",
    "            print('all good :')\n",
    "class CoronaVirus(RNAVirus):\n",
    "    pass\n",
    "class SARSCov2(CoronaVirus):\n",
    "    def __init__(self,variant):\n",
    "        super().__init__(\"SARSCovid2\",2.44,1.3)\n",
    "        self.variant=variant\n",
    "\n",
    "    def mutate(self):\n",
    "        print(f'The {self.name} virus just mutated')\n"
   ]
  },
  {
   "cell_type": "code",
   "execution_count": 67,
   "metadata": {},
   "outputs": [
    {
     "data": {
      "text/plain": [
       "{'name': 'SARSCovid2',\n",
       " 'reproduction_rate': 2.44,\n",
       " 'resistance': 1.3,\n",
       " 'load': 1,\n",
       " 'host': None,\n",
       " 'variant': 'rsa'}"
      ]
     },
     "execution_count": 67,
     "metadata": {},
     "output_type": "execute_result"
    }
   ],
   "source": [
    "cv=SARSCov2('rsa')\n",
    "cv.__dict__"
   ]
  },
  {
   "cell_type": "code",
   "execution_count": null,
   "metadata": {},
   "outputs": [],
   "source": [
    "# - parent - child class relationship defined using inheritence, where the child defined on init only for the purpose of calling the parent init"
   ]
  },
  {
   "cell_type": "code",
   "execution_count": 70,
   "metadata": {},
   "outputs": [],
   "source": [
    "class Parent(object):\n",
    "    def __init__(self):\n",
    "        print('parent init')\n",
    "class Child(Parent):\n",
    "    pass\n",
    "    # def __init__(self):\n",
    "    #     super().__init__()  "
   ]
  },
  {
   "cell_type": "code",
   "execution_count": 71,
   "metadata": {},
   "outputs": [
    {
     "name": "stdout",
     "output_type": "stream",
     "text": [
      "parent init\n"
     ]
    }
   ],
   "source": [
    "c=Child()"
   ]
  },
  {
   "cell_type": "markdown",
   "metadata": {},
   "source": [
    "Subclassing properties"
   ]
  },
  {
   "cell_type": "code",
   "execution_count": 5,
   "metadata": {},
   "outputs": [],
   "source": [
    "class SARSCov2(CoronaVirus):\n",
    "    known_var=['alpha','beta','gamma','epsilon']\n",
    "    def __init__(self,variant):\n",
    "        super().__init__('SARSCovid2',2.49,1.3)\n",
    "        self.variant=variant\n",
    "    def mutate(self):\n",
    "        print(f'The {self.name} virus just mutated its spike protein')\n",
    "    @property\n",
    "    def variant(self):\n",
    "        return self._variant\n",
    "    @variant.setter\n",
    "    def variant(self,value):\n",
    "        if value.lower() not in self.known_var:\n",
    "            raise ValueError(f'{value} is not a known variant of SARSCovid2')\n",
    "        self._variant=value.lower()"
   ]
  },
  {
   "cell_type": "code",
   "execution_count": 6,
   "metadata": {},
   "outputs": [],
   "source": [
    "cv=SARSCov2('ALPHA')"
   ]
  },
  {
   "cell_type": "code",
   "execution_count": 7,
   "metadata": {},
   "outputs": [
    {
     "data": {
      "text/plain": [
       "{'name': 'SARSCovid2',\n",
       " 'reproduction_rate': 2.49,\n",
       " 'resistance': 1.3,\n",
       " 'load': 1,\n",
       " 'host': None,\n",
       " '_variant': 'alpha'}"
      ]
     },
     "execution_count": 7,
     "metadata": {},
     "output_type": "execute_result"
    }
   ],
   "source": [
    "cv.__dict__"
   ]
  },
  {
   "cell_type": "code",
   "execution_count": 8,
   "metadata": {},
   "outputs": [
    {
     "ename": "ValueError",
     "evalue": "smth is not a known variant of SARSCovid2",
     "output_type": "error",
     "traceback": [
      "\u001b[1;31m---------------------------------------------------------------------------\u001b[0m",
      "\u001b[1;31mValueError\u001b[0m                                Traceback (most recent call last)",
      "Cell \u001b[1;32mIn[8], line 1\u001b[0m\n\u001b[1;32m----> 1\u001b[0m cv\u001b[38;5;241m.\u001b[39mvariant\u001b[38;5;241m=\u001b[39m\u001b[38;5;124m'\u001b[39m\u001b[38;5;124msmth\u001b[39m\u001b[38;5;124m'\u001b[39m\n",
      "Cell \u001b[1;32mIn[5], line 14\u001b[0m, in \u001b[0;36mSARSCov2.variant\u001b[1;34m(self, value)\u001b[0m\n\u001b[0;32m     11\u001b[0m \u001b[38;5;129m@variant\u001b[39m\u001b[38;5;241m.\u001b[39msetter\n\u001b[0;32m     12\u001b[0m \u001b[38;5;28;01mdef\u001b[39;00m \u001b[38;5;21mvariant\u001b[39m(\u001b[38;5;28mself\u001b[39m,value):\n\u001b[0;32m     13\u001b[0m     \u001b[38;5;28;01mif\u001b[39;00m value\u001b[38;5;241m.\u001b[39mlower() \u001b[38;5;129;01mnot\u001b[39;00m \u001b[38;5;129;01min\u001b[39;00m \u001b[38;5;28mself\u001b[39m\u001b[38;5;241m.\u001b[39mknown_var:\n\u001b[1;32m---> 14\u001b[0m         \u001b[38;5;28;01mraise\u001b[39;00m \u001b[38;5;167;01mValueError\u001b[39;00m(\u001b[38;5;124mf\u001b[39m\u001b[38;5;124m'\u001b[39m\u001b[38;5;132;01m{\u001b[39;00mvalue\u001b[38;5;132;01m}\u001b[39;00m\u001b[38;5;124m is not a known variant of SARSCovid2\u001b[39m\u001b[38;5;124m'\u001b[39m)\n\u001b[0;32m     15\u001b[0m     \u001b[38;5;28mself\u001b[39m\u001b[38;5;241m.\u001b[39m_variant\u001b[38;5;241m=\u001b[39mvalue\u001b[38;5;241m.\u001b[39mlower()\n",
      "\u001b[1;31mValueError\u001b[0m: smth is not a known variant of SARSCovid2"
     ]
    }
   ],
   "source": [
    "cv.variant='smth' #expected error"
   ]
  },
  {
   "cell_type": "code",
   "execution_count": 9,
   "metadata": {},
   "outputs": [],
   "source": [
    "cv.variant='beta'"
   ]
  },
  {
   "cell_type": "code",
   "execution_count": 10,
   "metadata": {},
   "outputs": [
    {
     "data": {
      "text/plain": [
       "'beta'"
      ]
     },
     "execution_count": 10,
     "metadata": {},
     "output_type": "execute_result"
    }
   ],
   "source": [
    "cv.variant"
   ]
  },
  {
   "cell_type": "code",
   "execution_count": 17,
   "metadata": {},
   "outputs": [],
   "source": [
    "class doublemutant(SARSCov2):\n",
    "    @property\n",
    "    def variant(self):\n",
    "        print('getter called')\n",
    "        return self._variant\n",
    "    @variant.setter\n",
    "    def variant(self,value):\n",
    "        self._variant=value.lower() # won't work without specifying a parent class or without redifying the properties, just write SARSCov2.variant.setter or smth\n",
    "    @variant.deleter\n",
    "    def variant(self):\n",
    "        del self._variant"
   ]
  },
  {
   "cell_type": "code",
   "execution_count": 18,
   "metadata": {},
   "outputs": [],
   "source": [
    "dm=doublemutant('new variant')"
   ]
  },
  {
   "cell_type": "code",
   "execution_count": 19,
   "metadata": {},
   "outputs": [
    {
     "name": "stdout",
     "output_type": "stream",
     "text": [
      "getter called\n"
     ]
    },
    {
     "data": {
      "text/plain": [
       "'new variant'"
      ]
     },
     "execution_count": 19,
     "metadata": {},
     "output_type": "execute_result"
    }
   ],
   "source": [
    "dm.variant"
   ]
  },
  {
   "cell_type": "code",
   "execution_count": 20,
   "metadata": {},
   "outputs": [
    {
     "data": {
      "text/plain": [
       "{'name': 'SARSCovid2',\n",
       " 'reproduction_rate': 2.49,\n",
       " 'resistance': 1.3,\n",
       " 'load': 1,\n",
       " 'host': None,\n",
       " '_variant': 'new variant'}"
      ]
     },
     "execution_count": 20,
     "metadata": {},
     "output_type": "execute_result"
    }
   ],
   "source": [
    "dm.__dict__"
   ]
  },
  {
   "cell_type": "markdown",
   "metadata": {},
   "source": [
    "Extending Built-ins"
   ]
  },
  {
   "cell_type": "code",
   "execution_count": 1,
   "metadata": {},
   "outputs": [],
   "source": [
    "pop={\n",
    "    'can':38,\n",
    "    'usa':329,\n",
    "    'ind':1300\n",
    "}"
   ]
  },
  {
   "cell_type": "code",
   "execution_count": 2,
   "metadata": {},
   "outputs": [
    {
     "data": {
      "text/plain": [
       "38"
      ]
     },
     "execution_count": 2,
     "metadata": {},
     "output_type": "execute_result"
    }
   ],
   "source": [
    "pop['can']"
   ]
  },
  {
   "cell_type": "code",
   "execution_count": 3,
   "metadata": {},
   "outputs": [],
   "source": [
    "from random import choice\n",
    "class ModDict(dict):\n",
    "    not_found=['404','wait','try again']\n",
    "    def __getitem__(self,item):\n",
    "        if not item in self:\n",
    "            return choice(self.not_found)\n",
    "        return super().__getitem__(item)"
   ]
  },
  {
   "cell_type": "code",
   "execution_count": 4,
   "metadata": {},
   "outputs": [],
   "source": [
    "pop=ModDict({\n",
    "    'can':38,\n",
    "    'usa':329,\n",
    "    'ind':1300\n",
    "})"
   ]
  },
  {
   "cell_type": "code",
   "execution_count": 5,
   "metadata": {},
   "outputs": [
    {
     "data": {
      "text/plain": [
       "38"
      ]
     },
     "execution_count": 5,
     "metadata": {},
     "output_type": "execute_result"
    }
   ],
   "source": [
    "pop['can']"
   ]
  },
  {
   "cell_type": "code",
   "execution_count": 10,
   "metadata": {},
   "outputs": [
    {
     "data": {
      "text/plain": [
       "'try again'"
      ]
     },
     "execution_count": 10,
     "metadata": {},
     "output_type": "execute_result"
    }
   ],
   "source": [
    "pop['ca']"
   ]
  },
  {
   "cell_type": "code",
   "execution_count": 11,
   "metadata": {},
   "outputs": [],
   "source": [
    "l=[1,2,3,4,5,6,7,8]"
   ]
  },
  {
   "cell_type": "code",
   "execution_count": 12,
   "metadata": {},
   "outputs": [
    {
     "data": {
      "text/plain": [
       "4.5"
      ]
     },
     "execution_count": 12,
     "metadata": {},
     "output_type": "execute_result"
    }
   ],
   "source": [
    "sum(l)/len(l)"
   ]
  },
  {
   "cell_type": "code",
   "execution_count": 13,
   "metadata": {},
   "outputs": [],
   "source": [
    "class AvgList(list):\n",
    "    def avg(self):\n",
    "        return sum(self)/len(self)"
   ]
  },
  {
   "cell_type": "code",
   "execution_count": 14,
   "metadata": {},
   "outputs": [],
   "source": [
    "l2=AvgList([1,2,3,4,5,6,7,8])"
   ]
  },
  {
   "cell_type": "code",
   "execution_count": 15,
   "metadata": {},
   "outputs": [
    {
     "data": {
      "text/plain": [
       "4.5"
      ]
     },
     "execution_count": 15,
     "metadata": {},
     "output_type": "execute_result"
    }
   ],
   "source": [
    "l2.avg()"
   ]
  },
  {
   "cell_type": "code",
   "execution_count": 19,
   "metadata": {},
   "outputs": [],
   "source": [
    "class AvgList(list):\n",
    "    def __init__(self,*args):\n",
    "        if args and type(args[0]) != list:\n",
    "            super().__init__(args)\n",
    "        else:\n",
    "            super().__init__(args[0])\n",
    "    \n",
    "    @property\n",
    "    def avg(self):\n",
    "        return sum(self)/len(self)"
   ]
  },
  {
   "cell_type": "code",
   "execution_count": 20,
   "metadata": {},
   "outputs": [],
   "source": [
    "l3=AvgList([1,2,3,4,5,6,7,8])"
   ]
  },
  {
   "cell_type": "code",
   "execution_count": 21,
   "metadata": {},
   "outputs": [
    {
     "data": {
      "text/plain": [
       "4.5"
      ]
     },
     "execution_count": 21,
     "metadata": {},
     "output_type": "execute_result"
    }
   ],
   "source": [
    "l3.avg"
   ]
  },
  {
   "cell_type": "code",
   "execution_count": 22,
   "metadata": {},
   "outputs": [],
   "source": [
    "l4=AvgList(1,2,3,4,5,6,7,8)"
   ]
  },
  {
   "cell_type": "code",
   "execution_count": 23,
   "metadata": {},
   "outputs": [
    {
     "data": {
      "text/plain": [
       "4.5"
      ]
     },
     "execution_count": 23,
     "metadata": {},
     "output_type": "execute_result"
    }
   ],
   "source": [
    "l4.avg"
   ]
  },
  {
   "cell_type": "markdown",
   "metadata": {},
   "source": [
    "Pitfalls"
   ]
  },
  {
   "cell_type": "code",
   "execution_count": 34,
   "metadata": {},
   "outputs": [],
   "source": [
    "from random import choice\n",
    "from collections import UserDict\n",
    "class ModDict(UserDict):\n",
    "    not_found=['404','wait','try again']\n",
    "    def __getitem__(self,item):\n",
    "        if not item in self:\n",
    "            return choice(self.not_found)\n",
    "        return super().__getitem__(item)\n",
    "\n",
    "    "
   ]
  },
  {
   "cell_type": "code",
   "execution_count": 35,
   "metadata": {},
   "outputs": [],
   "source": [
    "pop1=ModDict({\n",
    "    'can':38,\n",
    "    'usa':329,\n",
    "    'ind':1300\n",
    "})\n",
    "pop2={\n",
    "    'can':38,\n",
    "    'usa':329,\n",
    "    'ind':1300\n",
    "}"
   ]
  },
  {
   "cell_type": "code",
   "execution_count": 46,
   "metadata": {},
   "outputs": [
    {
     "data": {
      "text/plain": [
       "38"
      ]
     },
     "execution_count": 46,
     "metadata": {},
     "output_type": "execute_result"
    }
   ],
   "source": [
    "pop2.get('can')"
   ]
  },
  {
   "cell_type": "code",
   "execution_count": 45,
   "metadata": {},
   "outputs": [
    {
     "data": {
      "text/plain": [
       "38"
      ]
     },
     "execution_count": 45,
     "metadata": {},
     "output_type": "execute_result"
    }
   ],
   "source": [
    "pop1.get('can')"
   ]
  },
  {
   "cell_type": "code",
   "execution_count": 44,
   "metadata": {},
   "outputs": [
    {
     "data": {
      "text/plain": [
       "'wait'"
      ]
     },
     "execution_count": 44,
     "metadata": {},
     "output_type": "execute_result"
    }
   ],
   "source": [
    "pop1.get('ca')"
   ]
  },
  {
   "cell_type": "code",
   "execution_count": 47,
   "metadata": {},
   "outputs": [
    {
     "data": {
      "text/plain": [
       "{'can': 38, 'usa': 329, 'ind': 1300}"
      ]
     },
     "execution_count": 47,
     "metadata": {},
     "output_type": "execute_result"
    }
   ],
   "source": [
    "pop1.data"
   ]
  }
 ],
 "metadata": {
  "kernelspec": {
   "display_name": "base",
   "language": "python",
   "name": "python3"
  },
  "language_info": {
   "codemirror_mode": {
    "name": "ipython",
    "version": 3
   },
   "file_extension": ".py",
   "mimetype": "text/x-python",
   "name": "python",
   "nbconvert_exporter": "python",
   "pygments_lexer": "ipython3",
   "version": "3.11.7"
  }
 },
 "nbformat": 4,
 "nbformat_minor": 2
}
