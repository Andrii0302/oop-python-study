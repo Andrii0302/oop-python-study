{
 "cells": [
  {
   "cell_type": "markdown",
   "metadata": {},
   "source": [
    "Enumerations"
   ]
  },
  {
   "cell_type": "code",
   "execution_count": null,
   "metadata": {},
   "outputs": [],
   "source": [
    "# static collection of value"
   ]
  },
  {
   "cell_type": "code",
   "execution_count": null,
   "metadata": {},
   "outputs": [],
   "source": [
    "# Conservative party \n",
    "# Liberal party\n",
    "# Bloc\n",
    "# Democratic party\n",
    "# green party"
   ]
  },
  {
   "cell_type": "code",
   "execution_count": 1,
   "metadata": {},
   "outputs": [],
   "source": [
    "PARTIES=('CPS','LPC','BQ','NDP','GPC')"
   ]
  },
  {
   "cell_type": "code",
   "execution_count": 2,
   "metadata": {},
   "outputs": [
    {
     "data": {
      "text/plain": [
       "'BQ'"
      ]
     },
     "execution_count": 2,
     "metadata": {},
     "output_type": "execute_result"
    }
   ],
   "source": [
    "PARTIES[2]"
   ]
  },
  {
   "cell_type": "code",
   "execution_count": 3,
   "metadata": {},
   "outputs": [
    {
     "name": "stdout",
     "output_type": "stream",
     "text": [
      "CPS\n",
      "LPC\n",
      "BQ\n",
      "NDP\n",
      "GPC\n"
     ]
    }
   ],
   "source": [
    "for party in PARTIES:\n",
    "    print(party)"
   ]
  },
  {
   "cell_type": "code",
   "execution_count": null,
   "metadata": {},
   "outputs": [],
   "source": [
    "# liberal -> PARTIES[1]\n",
    "# ..."
   ]
  },
  {
   "cell_type": "code",
   "execution_count": 4,
   "metadata": {},
   "outputs": [
    {
     "data": {
      "text/plain": [
       "'CPS'"
      ]
     },
     "execution_count": 4,
     "metadata": {},
     "output_type": "execute_result"
    }
   ],
   "source": [
    "sorted(PARTIES)[1] # now value changed in specific index"
   ]
  },
  {
   "cell_type": "code",
   "execution_count": null,
   "metadata": {},
   "outputs": [],
   "source": [
    "# enumeration -> enum to solve it"
   ]
  },
  {
   "cell_type": "code",
   "execution_count": 5,
   "metadata": {},
   "outputs": [],
   "source": [
    "from enum import Enum"
   ]
  },
  {
   "cell_type": "code",
   "execution_count": 6,
   "metadata": {},
   "outputs": [],
   "source": [
    "class Parties(Enum):\n",
    "    CPC= 'Conservative party' \n",
    "    LPC= 'Liberal party'\n",
    "    BQ= 'Bloc Q'\n",
    "    NDP= 'Democratic party'\n",
    "    GPC= 'green party'\n",
    "    "
   ]
  },
  {
   "cell_type": "code",
   "execution_count": 7,
   "metadata": {},
   "outputs": [
    {
     "data": {
      "text/plain": [
       "<Parties.CPC: 'Conservative party'>"
      ]
     },
     "execution_count": 7,
     "metadata": {},
     "output_type": "execute_result"
    }
   ],
   "source": [
    "Parties.CPC"
   ]
  },
  {
   "cell_type": "code",
   "execution_count": 8,
   "metadata": {},
   "outputs": [
    {
     "name": "stdout",
     "output_type": "stream",
     "text": [
      "Parties.CPC\n",
      "Parties.LPC\n",
      "Parties.BQ\n",
      "Parties.NDP\n",
      "Parties.GPC\n"
     ]
    }
   ],
   "source": [
    "for party in Parties:\n",
    "    print(party)"
   ]
  },
  {
   "cell_type": "code",
   "execution_count": null,
   "metadata": {},
   "outputs": [],
   "source": [
    "# enum isn't sortable, howewer it has __eq__"
   ]
  },
  {
   "cell_type": "code",
   "execution_count": 9,
   "metadata": {},
   "outputs": [
    {
     "data": {
      "text/plain": [
       "<Parties.CPC: 'Conservative party'>"
      ]
     },
     "execution_count": 9,
     "metadata": {},
     "output_type": "execute_result"
    }
   ],
   "source": [
    "Parties.CPC"
   ]
  },
  {
   "cell_type": "code",
   "execution_count": 10,
   "metadata": {},
   "outputs": [
    {
     "ename": "AttributeError",
     "evalue": "cannot reassign member 'CPC'",
     "output_type": "error",
     "traceback": [
      "\u001b[1;31m---------------------------------------------------------------------------\u001b[0m",
      "\u001b[1;31mAttributeError\u001b[0m                            Traceback (most recent call last)",
      "Cell \u001b[1;32mIn[10], line 1\u001b[0m\n\u001b[1;32m----> 1\u001b[0m Parties\u001b[38;5;241m.\u001b[39mCPC\u001b[38;5;241m=\u001b[39m\u001b[38;5;241m2\u001b[39m\n",
      "File \u001b[1;32mc:\\Users\\hfdkw\\anaconda3\\Lib\\enum.py:836\u001b[0m, in \u001b[0;36mEnumType.__setattr__\u001b[1;34m(cls, name, value)\u001b[0m\n\u001b[0;32m    834\u001b[0m member_map \u001b[38;5;241m=\u001b[39m \u001b[38;5;28mcls\u001b[39m\u001b[38;5;241m.\u001b[39m\u001b[38;5;18m__dict__\u001b[39m\u001b[38;5;241m.\u001b[39mget(\u001b[38;5;124m'\u001b[39m\u001b[38;5;124m_member_map_\u001b[39m\u001b[38;5;124m'\u001b[39m, {})\n\u001b[0;32m    835\u001b[0m \u001b[38;5;28;01mif\u001b[39;00m name \u001b[38;5;129;01min\u001b[39;00m member_map:\n\u001b[1;32m--> 836\u001b[0m     \u001b[38;5;28;01mraise\u001b[39;00m \u001b[38;5;167;01mAttributeError\u001b[39;00m(\u001b[38;5;124m'\u001b[39m\u001b[38;5;124mcannot reassign member \u001b[39m\u001b[38;5;132;01m%r\u001b[39;00m\u001b[38;5;124m'\u001b[39m \u001b[38;5;241m%\u001b[39m (name, ))\n\u001b[0;32m    837\u001b[0m \u001b[38;5;28msuper\u001b[39m()\u001b[38;5;241m.\u001b[39m\u001b[38;5;21m__setattr__\u001b[39m(name, value)\n",
      "\u001b[1;31mAttributeError\u001b[0m: cannot reassign member 'CPC'"
     ]
    }
   ],
   "source": [
    "Parties.CPC=2 # immuttable, iterable and hashable"
   ]
  },
  {
   "cell_type": "code",
   "execution_count": 11,
   "metadata": {},
   "outputs": [
    {
     "data": {
      "text/plain": [
       "<enum 'Parties'>"
      ]
     },
     "execution_count": 11,
     "metadata": {},
     "output_type": "execute_result"
    }
   ],
   "source": [
    "type(Parties.LPC) # has it's own type"
   ]
  },
  {
   "cell_type": "code",
   "execution_count": 12,
   "metadata": {},
   "outputs": [],
   "source": [
    "from dataclasses import dataclass\n",
    "@dataclass\n",
    "class Party:\n",
    "    member_count: int\n",
    "    coalition: bool\n",
    "    seats: int"
   ]
  },
  {
   "cell_type": "markdown",
   "metadata": {},
   "source": [
    "Members"
   ]
  },
  {
   "cell_type": "code",
   "execution_count": 13,
   "metadata": {},
   "outputs": [],
   "source": [
    "class Parties(Enum):\n",
    "    CPC= 'Conservative party' \n",
    "    LPC= 'Liberal party'\n",
    "    BQ= 'Bloc Q'\n",
    "    NDP= 'Democratic party'\n",
    "    GPC= 'green party'\n",
    "    "
   ]
  },
  {
   "cell_type": "code",
   "execution_count": 14,
   "metadata": {},
   "outputs": [
    {
     "data": {
      "text/plain": [
       "['CPC', 'LPC', 'BQ', 'NDP', 'GPC']"
      ]
     },
     "execution_count": 14,
     "metadata": {},
     "output_type": "execute_result"
    }
   ],
   "source": [
    "Parties._member_names_"
   ]
  },
  {
   "cell_type": "code",
   "execution_count": 15,
   "metadata": {},
   "outputs": [
    {
     "data": {
      "text/plain": [
       "mappingproxy({'CPC': <Parties.CPC: 'Conservative party'>,\n",
       "              'LPC': <Parties.LPC: 'Liberal party'>,\n",
       "              'BQ': <Parties.BQ: 'Bloc Q'>,\n",
       "              'NDP': <Parties.NDP: 'Democratic party'>,\n",
       "              'GPC': <Parties.GPC: 'green party'>})"
      ]
     },
     "execution_count": 15,
     "metadata": {},
     "output_type": "execute_result"
    }
   ],
   "source": [
    "Parties.__members__"
   ]
  },
  {
   "cell_type": "code",
   "execution_count": null,
   "metadata": {},
   "outputs": [],
   "source": [
    "# attr of this class are instances of class itself"
   ]
  },
  {
   "cell_type": "code",
   "execution_count": 16,
   "metadata": {},
   "outputs": [
    {
     "data": {
      "text/plain": [
       "<Parties.CPC: 'Conservative party'>"
      ]
     },
     "execution_count": 16,
     "metadata": {},
     "output_type": "execute_result"
    }
   ],
   "source": [
    "Parties.CPC # it's a member, own type and instance"
   ]
  },
  {
   "cell_type": "code",
   "execution_count": 17,
   "metadata": {},
   "outputs": [
    {
     "data": {
      "text/plain": [
       "True"
      ]
     },
     "execution_count": 17,
     "metadata": {},
     "output_type": "execute_result"
    }
   ],
   "source": [
    "isinstance(Parties.CPC,Parties)"
   ]
  },
  {
   "cell_type": "code",
   "execution_count": 18,
   "metadata": {},
   "outputs": [],
   "source": [
    "class RegParties(object):\n",
    "    CPC= 'Conservative party' \n",
    "    LPC= 'Liberal party'\n",
    "    BQ= 'Bloc Q'\n",
    "    NDP= 'Democratic party'\n",
    "    GPC= 'green party'\n",
    "    "
   ]
  },
  {
   "cell_type": "code",
   "execution_count": 19,
   "metadata": {},
   "outputs": [
    {
     "data": {
      "text/plain": [
       "'Conservative party'"
      ]
     },
     "execution_count": 19,
     "metadata": {},
     "output_type": "execute_result"
    }
   ],
   "source": [
    "RegParties.CPC # just a class variable"
   ]
  },
  {
   "cell_type": "code",
   "execution_count": 20,
   "metadata": {},
   "outputs": [
    {
     "data": {
      "text/plain": [
       "False"
      ]
     },
     "execution_count": 20,
     "metadata": {},
     "output_type": "execute_result"
    }
   ],
   "source": [
    "isinstance(RegParties.CPC,RegParties)"
   ]
  },
  {
   "cell_type": "code",
   "execution_count": 22,
   "metadata": {},
   "outputs": [
    {
     "data": {
      "text/plain": [
       "True"
      ]
     },
     "execution_count": 22,
     "metadata": {},
     "output_type": "execute_result"
    }
   ],
   "source": [
    "Parties('Conservative party') is Parties.CPC"
   ]
  },
  {
   "cell_type": "markdown",
   "metadata": {},
   "source": [
    "Aliases vs Masters"
   ]
  },
  {
   "cell_type": "code",
   "execution_count": 26,
   "metadata": {},
   "outputs": [],
   "source": [
    "class Parties(Enum):\n",
    "    CPC= 'Conservative party' # Master now\n",
    "    CPoC='Conservative party' # Alies - the member that has the same value as some other is called Alies\n",
    "    LPC= 'Liberal party'\n",
    "    BQ= 'Bloc Q'\n",
    "    NDP= 'Democratic party'\n",
    "    GPC= 'green party'\n",
    "    # we can not repeat member's names, but can repeat values"
   ]
  },
  {
   "cell_type": "code",
   "execution_count": 24,
   "metadata": {},
   "outputs": [
    {
     "data": {
      "text/plain": [
       "<Parties.BQ: 'Bloc Q'>"
      ]
     },
     "execution_count": 24,
     "metadata": {},
     "output_type": "execute_result"
    }
   ],
   "source": [
    "Parties.BQ"
   ]
  },
  {
   "cell_type": "code",
   "execution_count": null,
   "metadata": {},
   "outputs": [],
   "source": [
    "# - master name \n",
    "# - alised name \n",
    "# - value"
   ]
  },
  {
   "cell_type": "code",
   "execution_count": 27,
   "metadata": {},
   "outputs": [
    {
     "data": {
      "text/plain": [
       "True"
      ]
     },
     "execution_count": 27,
     "metadata": {},
     "output_type": "execute_result"
    }
   ],
   "source": [
    "Parties.CPC is Parties.CPoC is Parties('Conservative party')"
   ]
  },
  {
   "cell_type": "code",
   "execution_count": 29,
   "metadata": {},
   "outputs": [
    {
     "data": {
      "text/plain": [
       "mappingproxy({'CPC': <Parties.CPC: 'Conservative party'>,\n",
       "              'CPoC': <Parties.CPC: 'Conservative party'>,\n",
       "              'LPC': <Parties.LPC: 'Liberal party'>,\n",
       "              'BQ': <Parties.BQ: 'Bloc Q'>,\n",
       "              'NDP': <Parties.NDP: 'Democratic party'>,\n",
       "              'GPC': <Parties.GPC: 'green party'>})"
      ]
     },
     "execution_count": 29,
     "metadata": {},
     "output_type": "execute_result"
    }
   ],
   "source": [
    "Parties.__members__ # CPoC point to the same part of memoery as CPC"
   ]
  },
  {
   "cell_type": "code",
   "execution_count": 31,
   "metadata": {},
   "outputs": [
    {
     "data": {
      "text/plain": [
       "['CPC', 'LPC', 'BQ', 'NDP', 'GPC']"
      ]
     },
     "execution_count": 31,
     "metadata": {},
     "output_type": "execute_result"
    }
   ],
   "source": [
    "Parties._member_names_"
   ]
  },
  {
   "cell_type": "code",
   "execution_count": 33,
   "metadata": {},
   "outputs": [
    {
     "data": {
      "text/plain": [
       "{'Conservative party': <Parties.CPC: 'Conservative party'>,\n",
       " 'Liberal party': <Parties.LPC: 'Liberal party'>,\n",
       " 'Bloc Q': <Parties.BQ: 'Bloc Q'>,\n",
       " 'Democratic party': <Parties.NDP: 'Democratic party'>,\n",
       " 'green party': <Parties.GPC: 'green party'>}"
      ]
     },
     "execution_count": 33,
     "metadata": {},
     "output_type": "execute_result"
    }
   ],
   "source": [
    "Parties._value2member_map_ # Alies is not even in the list"
   ]
  },
  {
   "cell_type": "markdown",
   "metadata": {},
   "source": [
    "Uniqueness"
   ]
  },
  {
   "cell_type": "code",
   "execution_count": 37,
   "metadata": {},
   "outputs": [
    {
     "ename": "ValueError",
     "evalue": "duplicate values found in <enum 'Parties'>: CPoC -> CPC",
     "output_type": "error",
     "traceback": [
      "\u001b[1;31m---------------------------------------------------------------------------\u001b[0m",
      "\u001b[1;31mValueError\u001b[0m                                Traceback (most recent call last)",
      "Cell \u001b[1;32mIn[37], line 2\u001b[0m\n\u001b[0;32m      1\u001b[0m \u001b[38;5;28;01mfrom\u001b[39;00m \u001b[38;5;21;01menum\u001b[39;00m \u001b[38;5;28;01mimport\u001b[39;00m unique\n\u001b[1;32m----> 2\u001b[0m \u001b[38;5;129m@unique\u001b[39m\n\u001b[0;32m      3\u001b[0m \u001b[38;5;28;01mclass\u001b[39;00m \u001b[38;5;21;01mParties\u001b[39;00m(Enum):\n\u001b[0;32m      4\u001b[0m     CPC\u001b[38;5;241m=\u001b[39m \u001b[38;5;124m'\u001b[39m\u001b[38;5;124mConservative party\u001b[39m\u001b[38;5;124m'\u001b[39m \u001b[38;5;66;03m# Master \u001b[39;00m\n\u001b[0;32m      5\u001b[0m     CPoC\u001b[38;5;241m=\u001b[39m\u001b[38;5;124m'\u001b[39m\u001b[38;5;124mConservative party\u001b[39m\u001b[38;5;124m'\u001b[39m \u001b[38;5;66;03m# Alies \u001b[39;00m\n",
      "File \u001b[1;32mc:\\Users\\hfdkw\\anaconda3\\Lib\\enum.py:1571\u001b[0m, in \u001b[0;36munique\u001b[1;34m(enumeration)\u001b[0m\n\u001b[0;32m   1568\u001b[0m \u001b[38;5;28;01mif\u001b[39;00m duplicates:\n\u001b[0;32m   1569\u001b[0m     alias_details \u001b[38;5;241m=\u001b[39m \u001b[38;5;124m'\u001b[39m\u001b[38;5;124m, \u001b[39m\u001b[38;5;124m'\u001b[39m\u001b[38;5;241m.\u001b[39mjoin(\n\u001b[0;32m   1570\u001b[0m             [\u001b[38;5;124m\"\u001b[39m\u001b[38;5;132;01m%s\u001b[39;00m\u001b[38;5;124m -> \u001b[39m\u001b[38;5;132;01m%s\u001b[39;00m\u001b[38;5;124m\"\u001b[39m \u001b[38;5;241m%\u001b[39m (alias, name) \u001b[38;5;28;01mfor\u001b[39;00m (alias, name) \u001b[38;5;129;01min\u001b[39;00m duplicates])\n\u001b[1;32m-> 1571\u001b[0m     \u001b[38;5;28;01mraise\u001b[39;00m \u001b[38;5;167;01mValueError\u001b[39;00m(\u001b[38;5;124m'\u001b[39m\u001b[38;5;124mduplicate values found in \u001b[39m\u001b[38;5;132;01m%r\u001b[39;00m\u001b[38;5;124m: \u001b[39m\u001b[38;5;132;01m%s\u001b[39;00m\u001b[38;5;124m'\u001b[39m \u001b[38;5;241m%\u001b[39m\n\u001b[0;32m   1572\u001b[0m             (enumeration, alias_details))\n\u001b[0;32m   1573\u001b[0m \u001b[38;5;28;01mreturn\u001b[39;00m enumeration\n",
      "\u001b[1;31mValueError\u001b[0m: duplicate values found in <enum 'Parties'>: CPoC -> CPC"
     ]
    }
   ],
   "source": [
    "from enum import unique\n",
    "@unique # now we can't repeat values\n",
    "class Parties(Enum):\n",
    "    CPC= 'Conservative party' # Master \n",
    "    CPoC='Conservative party' # Alias \n",
    "    LPC= 'Liberal party' # members and all below\n",
    "    BQ= 'Bloc Q'\n",
    "    NDP= 'Democratic party'\n",
    "    GPC= 'green party'\n",
    "    "
   ]
  },
  {
   "cell_type": "code",
   "execution_count": 38,
   "metadata": {},
   "outputs": [
    {
     "data": {
      "text/plain": [
       "mappingproxy({'CPC': <Parties.CPC: 'Conservative party'>,\n",
       "              'CPoC': <Parties.CPC: 'Conservative party'>,\n",
       "              'LPC': <Parties.LPC: 'Liberal party'>,\n",
       "              'BQ': <Parties.BQ: 'Bloc Q'>,\n",
       "              'NDP': <Parties.NDP: 'Democratic party'>,\n",
       "              'GPC': <Parties.GPC: 'green party'>})"
      ]
     },
     "execution_count": 38,
     "metadata": {},
     "output_type": "execute_result"
    }
   ],
   "source": [
    "Parties.__members__"
   ]
  },
  {
   "cell_type": "code",
   "execution_count": 42,
   "metadata": {},
   "outputs": [
    {
     "name": "stdout",
     "output_type": "stream",
     "text": [
      "CPC CPC\n",
      "CPoC CPC\n",
      "LPC LPC\n",
      "BQ BQ\n",
      "NDP NDP\n",
      "GPC GPC\n"
     ]
    }
   ],
   "source": [
    "for symbolic_name,member_name in Parties.__members__.items():\n",
    "    print(symbolic_name,member_name.name)"
   ]
  },
  {
   "cell_type": "code",
   "execution_count": 43,
   "metadata": {},
   "outputs": [],
   "source": [
    "def should_be_unique(my_enum):\n",
    "    is_unique=True\n",
    "    for symbolic_name,member_name in Parties.__members__.items():\n",
    "        if symbolic_name != member_name.name:\n",
    "            is_unique=False\n",
    "    if not is_unique:\n",
    "        raise ValueError('The enum Parties has duplicate values')\n",
    "    return my_enum"
   ]
  },
  {
   "cell_type": "code",
   "execution_count": 44,
   "metadata": {},
   "outputs": [
    {
     "ename": "ValueError",
     "evalue": "The enum Parties has duplicate values",
     "output_type": "error",
     "traceback": [
      "\u001b[1;31m---------------------------------------------------------------------------\u001b[0m",
      "\u001b[1;31mValueError\u001b[0m                                Traceback (most recent call last)",
      "Cell \u001b[1;32mIn[44], line 1\u001b[0m\n\u001b[1;32m----> 1\u001b[0m \u001b[38;5;129m@should_be_unique\u001b[39m\n\u001b[0;32m      2\u001b[0m \u001b[38;5;28;01mclass\u001b[39;00m \u001b[38;5;21;01mParties\u001b[39;00m(Enum):\n\u001b[0;32m      3\u001b[0m     CPC\u001b[38;5;241m=\u001b[39m \u001b[38;5;124m'\u001b[39m\u001b[38;5;124mConservative party\u001b[39m\u001b[38;5;124m'\u001b[39m \u001b[38;5;66;03m# Master \u001b[39;00m\n\u001b[0;32m      4\u001b[0m     CPoC\u001b[38;5;241m=\u001b[39m\u001b[38;5;124m'\u001b[39m\u001b[38;5;124mConservative party\u001b[39m\u001b[38;5;124m'\u001b[39m \u001b[38;5;66;03m# Alias \u001b[39;00m\n",
      "Cell \u001b[1;32mIn[43], line 7\u001b[0m, in \u001b[0;36mshould_be_unique\u001b[1;34m(my_enum)\u001b[0m\n\u001b[0;32m      5\u001b[0m         is_unique\u001b[38;5;241m=\u001b[39m\u001b[38;5;28;01mFalse\u001b[39;00m\n\u001b[0;32m      6\u001b[0m \u001b[38;5;28;01mif\u001b[39;00m \u001b[38;5;129;01mnot\u001b[39;00m is_unique:\n\u001b[1;32m----> 7\u001b[0m     \u001b[38;5;28;01mraise\u001b[39;00m \u001b[38;5;167;01mValueError\u001b[39;00m(\u001b[38;5;124m'\u001b[39m\u001b[38;5;124mThe enum Parties has duplicate values\u001b[39m\u001b[38;5;124m'\u001b[39m)\n\u001b[0;32m      8\u001b[0m \u001b[38;5;28;01mreturn\u001b[39;00m my_enum\n",
      "\u001b[1;31mValueError\u001b[0m: The enum Parties has duplicate values"
     ]
    }
   ],
   "source": [
    "@should_be_unique\n",
    "class Parties(Enum):\n",
    "    CPC= 'Conservative party' # Master \n",
    "    CPoC='Conservative party' # Alias \n",
    "    LPC= 'Liberal party' # members and all below\n",
    "    BQ= 'Bloc Q'\n",
    "    NDP= 'Democratic party'\n",
    "    GPC= 'green party'\n",
    "    "
   ]
  },
  {
   "cell_type": "markdown",
   "metadata": {},
   "source": [
    "Functional syntax"
   ]
  },
  {
   "cell_type": "code",
   "execution_count": 45,
   "metadata": {},
   "outputs": [],
   "source": [
    "from enum import Enum\n",
    "class Parties(Enum):\n",
    "    CPC= 'Conservative party' \n",
    "    LPC= 'Liberal party' \n",
    "    BQ= 'Bloc Q'\n",
    "    NDP= 'Democratic party'\n",
    "    GPC= 'green party'"
   ]
  },
  {
   "cell_type": "code",
   "execution_count": 51,
   "metadata": {},
   "outputs": [],
   "source": [
    "Parties=Enum('Parties', [('CPC','Conservative party' ),('LPC','Liberal party' )])"
   ]
  },
  {
   "cell_type": "code",
   "execution_count": 52,
   "metadata": {},
   "outputs": [
    {
     "data": {
      "text/plain": [
       "(<Parties.CPC: 'Conservative party'>, <Parties.LPC: 'Liberal party'>)"
      ]
     },
     "execution_count": 52,
     "metadata": {},
     "output_type": "execute_result"
    }
   ],
   "source": [
    "Parties.CPC,Parties.LPC"
   ]
  },
  {
   "cell_type": "code",
   "execution_count": 53,
   "metadata": {},
   "outputs": [],
   "source": [
    "Parties=Enum('Parties', {'CPC':'Conservative party' ,'LPC':'Liberal party'})"
   ]
  },
  {
   "cell_type": "code",
   "execution_count": 54,
   "metadata": {},
   "outputs": [
    {
     "data": {
      "text/plain": [
       "(<Parties.CPC: 'Conservative party'>, <Parties.LPC: 'Liberal party'>)"
      ]
     },
     "execution_count": 54,
     "metadata": {},
     "output_type": "execute_result"
    }
   ],
   "source": [
    "Parties.CPC,Parties.LPC"
   ]
  },
  {
   "cell_type": "markdown",
   "metadata": {},
   "source": [
    "Automatic values"
   ]
  },
  {
   "cell_type": "code",
   "execution_count": null,
   "metadata": {},
   "outputs": [],
   "source": [
    "from enum import Enum\n",
    "class Parties(Enum):\n",
    "    CPC= 'Conservative party' \n",
    "    CPoC='Conservative party' \n",
    "    LPC= 'Liberal party' \n",
    "    BQ= 'Bloc Q'\n",
    "    NDP= 'Democratic party'\n",
    "    GPC= 'green party'"
   ]
  },
  {
   "cell_type": "code",
   "execution_count": 57,
   "metadata": {},
   "outputs": [],
   "source": [
    "from enum import Enum\n",
    "class Parties(Enum):\n",
    "    CPC =object()\n",
    "    LPC=object()\n",
    "    BQ=object()\n",
    "    NDP=object()\n",
    "    GPC=object()\n",
    "    # sentinals"
   ]
  },
  {
   "cell_type": "code",
   "execution_count": 56,
   "metadata": {},
   "outputs": [
    {
     "data": {
      "text/plain": [
       "False"
      ]
     },
     "execution_count": 56,
     "metadata": {},
     "output_type": "execute_result"
    }
   ],
   "source": [
    "object() is object()"
   ]
  },
  {
   "cell_type": "code",
   "execution_count": 58,
   "metadata": {},
   "outputs": [
    {
     "data": {
      "text/plain": [
       "<Parties.CPC: <object object at 0x000001B0D7945BC0>>"
      ]
     },
     "execution_count": 58,
     "metadata": {},
     "output_type": "execute_result"
    }
   ],
   "source": [
    "Parties.CPC"
   ]
  },
  {
   "cell_type": "code",
   "execution_count": null,
   "metadata": {},
   "outputs": [],
   "source": [
    "Parties('')"
   ]
  },
  {
   "cell_type": "code",
   "execution_count": 59,
   "metadata": {},
   "outputs": [],
   "source": [
    "from enum import auto"
   ]
  },
  {
   "cell_type": "code",
   "execution_count": 60,
   "metadata": {},
   "outputs": [],
   "source": [
    "from enum import Enum\n",
    "class Parties(Enum):\n",
    "    CPC =auto()\n",
    "    LPC=auto()\n",
    "    BQ=auto()\n",
    "    NDP=auto()\n",
    "    GPC=auto()\n"
   ]
  },
  {
   "cell_type": "code",
   "execution_count": 61,
   "metadata": {},
   "outputs": [
    {
     "data": {
      "text/plain": [
       "mappingproxy({'CPC': <Parties.CPC: 1>,\n",
       "              'LPC': <Parties.LPC: 2>,\n",
       "              'BQ': <Parties.BQ: 3>,\n",
       "              'NDP': <Parties.NDP: 4>,\n",
       "              'GPC': <Parties.GPC: 5>})"
      ]
     },
     "execution_count": 61,
     "metadata": {},
     "output_type": "execute_result"
    }
   ],
   "source": [
    "Parties.__members__"
   ]
  },
  {
   "cell_type": "code",
   "execution_count": 63,
   "metadata": {},
   "outputs": [
    {
     "name": "stderr",
     "output_type": "stream",
     "text": [
      "C:\\Users\\hfdkw\\AppData\\Local\\Temp\\ipykernel_24424\\848598960.py:4: DeprecationWarning: In 3.13 the default `auto()`/`_generate_next_value_` will require all values to be sortable and support adding +1\n",
      "and the value returned will be the largest value in the enum incremented by 1\n",
      "  LPC=auto()\n",
      "C:\\Users\\hfdkw\\AppData\\Local\\Temp\\ipykernel_24424\\848598960.py:6: DeprecationWarning: In 3.13 the default `auto()`/`_generate_next_value_` will require all values to be sortable and support adding +1\n",
      "and the value returned will be the largest value in the enum incremented by 1\n",
      "  NDP=auto()\n"
     ]
    }
   ],
   "source": [
    "from enum import Enum\n",
    "class Parties(Enum):\n",
    "    CPC =object()\n",
    "    LPC=auto()\n",
    "    BQ=4\n",
    "    NDP=auto()\n",
    "    GPC=3\n"
   ]
  },
  {
   "cell_type": "code",
   "execution_count": 64,
   "metadata": {},
   "outputs": [
    {
     "data": {
      "text/plain": [
       "mappingproxy({'CPC': <Parties.CPC: <object object at 0x000001B0D7945C30>>,\n",
       "              'LPC': <Parties.LPC: 1>,\n",
       "              'BQ': <Parties.BQ: 4>,\n",
       "              'NDP': <Parties.NDP: 5>,\n",
       "              'GPC': <Parties.GPC: 3>})"
      ]
     },
     "execution_count": 64,
     "metadata": {},
     "output_type": "execute_result"
    }
   ],
   "source": [
    "Parties.__members__"
   ]
  },
  {
   "cell_type": "markdown",
   "metadata": {},
   "source": [
    "Customazing next values"
   ]
  },
  {
   "cell_type": "code",
   "execution_count": 65,
   "metadata": {},
   "outputs": [],
   "source": [
    "from enum import Enum\n",
    "class Parties(Enum):\n",
    "    CPC =auto()\n",
    "    LPC=auto()\n",
    "    BQ=auto()\n",
    "    NDP=auto()\n",
    "    GPC=auto()\n"
   ]
  },
  {
   "cell_type": "code",
   "execution_count": 67,
   "metadata": {},
   "outputs": [
    {
     "data": {
      "text/plain": [
       "(1, 2)"
      ]
     },
     "execution_count": 67,
     "metadata": {},
     "output_type": "execute_result"
    }
   ],
   "source": [
    "Parties.CPC.value,Parties.LPC.value"
   ]
  },
  {
   "cell_type": "code",
   "execution_count": 68,
   "metadata": {},
   "outputs": [],
   "source": [
    "def get_value_for(this_enum):\n",
    "    return list(this_enum._value2member_map_.keys())"
   ]
  },
  {
   "cell_type": "code",
   "execution_count": 73,
   "metadata": {},
   "outputs": [
    {
     "name": "stdout",
     "output_type": "stream",
     "text": [
      "CPC 1 0 []\n",
      "LPC 1 1 [1]\n",
      "BQ 1 2 [1, 2]\n",
      "NDP 1 3 [1, 2, 3]\n",
      "GPC 1 4 [1, 2, 3, 4]\n"
     ]
    }
   ],
   "source": [
    "from enum import Enum\n",
    "class Parties(Enum):\n",
    "    def _generate_next_value_(name, start, count, last_values):\n",
    "        print(name,start,count,last_values)\n",
    "        return start+count\n",
    "        \n",
    "    CPC =auto()\n",
    "    LPC=auto()\n",
    "    BQ=auto()\n",
    "    NDP=auto()\n",
    "    GPC=auto()\n"
   ]
  },
  {
   "cell_type": "code",
   "execution_count": 74,
   "metadata": {},
   "outputs": [
    {
     "data": {
      "text/plain": [
       "[1, 2, 3, 4, 5]"
      ]
     },
     "execution_count": 74,
     "metadata": {},
     "output_type": "execute_result"
    }
   ],
   "source": [
    "get_value_for(Parties)"
   ]
  },
  {
   "cell_type": "code",
   "execution_count": 75,
   "metadata": {},
   "outputs": [],
   "source": [
    "class Parties(Enum):\n",
    "    def _generate_next_value_(name, start, count, last_values):\n",
    "        \n",
    "        return object()\n",
    "        \n",
    "    CPC =auto()\n",
    "    LPC=auto()\n",
    "    BQ=auto()\n",
    "    NDP=auto()\n",
    "    GPC=auto()\n"
   ]
  },
  {
   "cell_type": "code",
   "execution_count": 76,
   "metadata": {},
   "outputs": [
    {
     "data": {
      "text/plain": [
       "[<object at 0x1b0d7945b00>,\n",
       " <object at 0x1b0d7945d60>,\n",
       " <object at 0x1b0d7945980>,\n",
       " <object at 0x1b0d7945cb0>,\n",
       " <object at 0x1b0d7945dd0>]"
      ]
     },
     "execution_count": 76,
     "metadata": {},
     "output_type": "execute_result"
    }
   ],
   "source": [
    "get_value_for(Parties)"
   ]
  },
  {
   "cell_type": "code",
   "execution_count": 77,
   "metadata": {},
   "outputs": [],
   "source": [
    "class PolParty():\n",
    "    def __init__(self,name):\n",
    "        self.name=name\n",
    "    def __repr__(self):\n",
    "        return f'{type(self).__name__}({self.name})'"
   ]
  },
  {
   "cell_type": "code",
   "execution_count": 78,
   "metadata": {},
   "outputs": [],
   "source": [
    "class Parties(Enum):\n",
    "    def _generate_next_value_(name, start, count, last_values):\n",
    "        \n",
    "        return PolParty(name)\n",
    "        \n",
    "    CPC =auto()\n",
    "    LPC=auto()\n",
    "    BQ=auto()\n",
    "    NDP=auto()\n",
    "    GPC=auto()\n"
   ]
  },
  {
   "cell_type": "code",
   "execution_count": 79,
   "metadata": {},
   "outputs": [
    {
     "data": {
      "text/plain": [
       "[PolParty(CPC), PolParty(LPC), PolParty(BQ), PolParty(NDP), PolParty(GPC)]"
      ]
     },
     "execution_count": 79,
     "metadata": {},
     "output_type": "execute_result"
    }
   ],
   "source": [
    "get_value_for(Parties)"
   ]
  },
  {
   "cell_type": "code",
   "execution_count": 80,
   "metadata": {},
   "outputs": [],
   "source": [
    "class BasePartyEnum(Enum):\n",
    "    def _generate_next_value_(name, start, count, last_values):\n",
    "        \n",
    "        return PolParty(name)\n",
    "class Parties(BasePartyEnum):\n",
    "\n",
    "    CPC =auto()\n",
    "    LPC=auto()\n",
    "    BQ=auto()\n",
    "    NDP=auto()\n",
    "    GPC=auto()\n"
   ]
  },
  {
   "cell_type": "code",
   "execution_count": 81,
   "metadata": {},
   "outputs": [
    {
     "data": {
      "text/plain": [
       "[PolParty(CPC), PolParty(LPC), PolParty(BQ), PolParty(NDP), PolParty(GPC)]"
      ]
     },
     "execution_count": 81,
     "metadata": {},
     "output_type": "execute_result"
    }
   ],
   "source": [
    "get_value_for(Parties)"
   ]
  },
  {
   "cell_type": "code",
   "execution_count": 82,
   "metadata": {},
   "outputs": [
    {
     "data": {
      "text/plain": [
       "mappingproxy({'CPC': <Parties.CPC: PolParty(CPC)>,\n",
       "              'LPC': <Parties.LPC: PolParty(LPC)>,\n",
       "              'BQ': <Parties.BQ: PolParty(BQ)>,\n",
       "              'NDP': <Parties.NDP: PolParty(NDP)>,\n",
       "              'GPC': <Parties.GPC: PolParty(GPC)>})"
      ]
     },
     "execution_count": 82,
     "metadata": {},
     "output_type": "execute_result"
    }
   ],
   "source": [
    "Parties.__members__"
   ]
  },
  {
   "cell_type": "markdown",
   "metadata": {},
   "source": [
    "Extensibility"
   ]
  },
  {
   "cell_type": "code",
   "execution_count": 83,
   "metadata": {},
   "outputs": [],
   "source": [
    "class Parties(Enum):\n",
    "    CPC =auto()\n",
    "    LPC=auto()\n",
    "    BQ=auto()\n",
    "    NDP=auto()\n",
    "    GPC=auto()\n",
    "    @property\n",
    "    def is_left(self):\n",
    "        return self in (Parties.LPC,Parties.NDP)\n",
    "    "
   ]
  },
  {
   "cell_type": "code",
   "execution_count": null,
   "metadata": {},
   "outputs": [],
   "source": [
    "# left vs right"
   ]
  },
  {
   "cell_type": "code",
   "execution_count": 84,
   "metadata": {},
   "outputs": [
    {
     "data": {
      "text/plain": [
       "False"
      ]
     },
     "execution_count": 84,
     "metadata": {},
     "output_type": "execute_result"
    }
   ],
   "source": [
    "Parties.CPC.is_left"
   ]
  },
  {
   "cell_type": "code",
   "execution_count": 85,
   "metadata": {},
   "outputs": [
    {
     "data": {
      "text/plain": [
       "True"
      ]
     },
     "execution_count": 85,
     "metadata": {},
     "output_type": "execute_result"
    }
   ],
   "source": [
    "Parties.LPC.is_left"
   ]
  },
  {
   "cell_type": "code",
   "execution_count": 86,
   "metadata": {},
   "outputs": [],
   "source": [
    "def get_value_for(this_enum):\n",
    "    return list(this_enum._value2member_map_.keys())"
   ]
  },
  {
   "cell_type": "code",
   "execution_count": 87,
   "metadata": {},
   "outputs": [
    {
     "data": {
      "text/plain": [
       "[1, 2, 3, 4, 5]"
      ]
     },
     "execution_count": 87,
     "metadata": {},
     "output_type": "execute_result"
    }
   ],
   "source": [
    "get_value_for(Parties)"
   ]
  },
  {
   "cell_type": "code",
   "execution_count": 88,
   "metadata": {},
   "outputs": [
    {
     "data": {
      "text/plain": [
       "mappingproxy({'CPC': <Parties.CPC: 1>,\n",
       "              'LPC': <Parties.LPC: 2>,\n",
       "              'BQ': <Parties.BQ: 3>,\n",
       "              'NDP': <Parties.NDP: 4>,\n",
       "              'GPC': <Parties.GPC: 5>})"
      ]
     },
     "execution_count": 88,
     "metadata": {},
     "output_type": "execute_result"
    }
   ],
   "source": [
    "Parties.__members__"
   ]
  },
  {
   "cell_type": "code",
   "execution_count": 89,
   "metadata": {},
   "outputs": [
    {
     "data": {
      "text/plain": [
       "['CPC', 'LPC', 'BQ', 'NDP', 'GPC']"
      ]
     },
     "execution_count": 89,
     "metadata": {},
     "output_type": "execute_result"
    }
   ],
   "source": [
    "Parties._member_names_"
   ]
  },
  {
   "cell_type": "code",
   "execution_count": 90,
   "metadata": {},
   "outputs": [],
   "source": [
    "class Parties(Enum):\n",
    "    CPC =auto()\n",
    "    LPC=auto()\n",
    "    BQ=auto()\n",
    "    NDP=auto()\n",
    "    GPC=auto()\n",
    "    @property\n",
    "    def is_left(self):\n",
    "        return self in (Parties.LPC,Parties.NDP)\n",
    "    @classmethod\n",
    "    def values(cls):\n",
    "        return [member.value for member in cls]"
   ]
  },
  {
   "cell_type": "code",
   "execution_count": 91,
   "metadata": {},
   "outputs": [
    {
     "data": {
      "text/plain": [
       "[1, 2, 3, 4, 5]"
      ]
     },
     "execution_count": 91,
     "metadata": {},
     "output_type": "execute_result"
    }
   ],
   "source": [
    "Parties.values()"
   ]
  },
  {
   "cell_type": "code",
   "execution_count": 92,
   "metadata": {},
   "outputs": [
    {
     "ename": "TypeError",
     "evalue": "<enum 'Prov'> cannot extend <enum 'Parties'>",
     "output_type": "error",
     "traceback": [
      "\u001b[1;31m---------------------------------------------------------------------------\u001b[0m",
      "\u001b[1;31mTypeError\u001b[0m                                 Traceback (most recent call last)",
      "Cell \u001b[1;32mIn[92], line 1\u001b[0m\n\u001b[1;32m----> 1\u001b[0m \u001b[38;5;28;01mclass\u001b[39;00m \u001b[38;5;21;01mProv\u001b[39;00m(Parties):\n\u001b[0;32m      2\u001b[0m     \u001b[38;5;28;01mpass\u001b[39;00m\n",
      "File \u001b[1;32mc:\\Users\\hfdkw\\anaconda3\\Lib\\enum.py:485\u001b[0m, in \u001b[0;36mEnumType.__prepare__\u001b[1;34m(metacls, cls, bases, **kwds)\u001b[0m\n\u001b[0;32m    482\u001b[0m \u001b[38;5;129m@classmethod\u001b[39m\n\u001b[0;32m    483\u001b[0m \u001b[38;5;28;01mdef\u001b[39;00m \u001b[38;5;21m__prepare__\u001b[39m(metacls, \u001b[38;5;28mcls\u001b[39m, bases, \u001b[38;5;241m*\u001b[39m\u001b[38;5;241m*\u001b[39mkwds):\n\u001b[0;32m    484\u001b[0m     \u001b[38;5;66;03m# check that previous enum members do not exist\u001b[39;00m\n\u001b[1;32m--> 485\u001b[0m     metacls\u001b[38;5;241m.\u001b[39m_check_for_existing_members_(\u001b[38;5;28mcls\u001b[39m, bases)\n\u001b[0;32m    486\u001b[0m     \u001b[38;5;66;03m# create the namespace dict\u001b[39;00m\n\u001b[0;32m    487\u001b[0m     enum_dict \u001b[38;5;241m=\u001b[39m _EnumDict()\n",
      "File \u001b[1;32mc:\\Users\\hfdkw\\anaconda3\\Lib\\enum.py:936\u001b[0m, in \u001b[0;36mEnumType._check_for_existing_members_\u001b[1;34m(mcls, class_name, bases)\u001b[0m\n\u001b[0;32m    934\u001b[0m \u001b[38;5;28;01mfor\u001b[39;00m base \u001b[38;5;129;01min\u001b[39;00m chain\u001b[38;5;241m.\u001b[39m\u001b[38;5;18m__mro__\u001b[39m:\n\u001b[0;32m    935\u001b[0m     \u001b[38;5;28;01mif\u001b[39;00m \u001b[38;5;28misinstance\u001b[39m(base, EnumType) \u001b[38;5;129;01mand\u001b[39;00m base\u001b[38;5;241m.\u001b[39m_member_names_:\n\u001b[1;32m--> 936\u001b[0m         \u001b[38;5;28;01mraise\u001b[39;00m \u001b[38;5;167;01mTypeError\u001b[39;00m(\n\u001b[0;32m    937\u001b[0m                 \u001b[38;5;124m\"\u001b[39m\u001b[38;5;124m<enum \u001b[39m\u001b[38;5;132;01m%r\u001b[39;00m\u001b[38;5;124m> cannot extend \u001b[39m\u001b[38;5;132;01m%r\u001b[39;00m\u001b[38;5;124m\"\u001b[39m\n\u001b[0;32m    938\u001b[0m                 \u001b[38;5;241m%\u001b[39m (class_name, base)\n\u001b[0;32m    939\u001b[0m                 )\n",
      "\u001b[1;31mTypeError\u001b[0m: <enum 'Prov'> cannot extend <enum 'Parties'>"
     ]
    }
   ],
   "source": [
    "class Prov(Parties):\n",
    "    pass # can't inherit if there are members"
   ]
  },
  {
   "cell_type": "code",
   "execution_count": 93,
   "metadata": {},
   "outputs": [],
   "source": [
    "class BaseParty(Enum):\n",
    "    @classmethod\n",
    "    def values(cls):\n",
    "        return [member.value for member in cls]\n",
    "class Parties(BaseParty):\n",
    "    CPC =auto()\n",
    "    LPC=auto()\n",
    "    BQ=auto()\n",
    "    NDP=auto()\n",
    "    GPC=auto()\n",
    "    @property\n",
    "    def is_left(self):\n",
    "        return self in (Parties.LPC,Parties.NDP)"
   ]
  },
  {
   "cell_type": "code",
   "execution_count": 94,
   "metadata": {},
   "outputs": [
    {
     "data": {
      "text/plain": [
       "[1, 2, 3, 4, 5]"
      ]
     },
     "execution_count": 94,
     "metadata": {},
     "output_type": "execute_result"
    }
   ],
   "source": [
    "Parties.values()"
   ]
  },
  {
   "cell_type": "code",
   "execution_count": 95,
   "metadata": {},
   "outputs": [
    {
     "data": {
      "text/plain": [
       "True"
      ]
     },
     "execution_count": 95,
     "metadata": {},
     "output_type": "execute_result"
    }
   ],
   "source": [
    "Parties.LPC.is_left"
   ]
  },
  {
   "cell_type": "markdown",
   "metadata": {},
   "source": [
    "Flags"
   ]
  },
  {
   "cell_type": "code",
   "execution_count": null,
   "metadata": {},
   "outputs": [],
   "source": [
    "class Parties(Enum):\n",
    "    CPC =auto()\n",
    "    LPC=auto()\n",
    "    BQ=auto()\n",
    "    NDP=auto()\n",
    "    GPC=auto()"
   ]
  },
  {
   "cell_type": "code",
   "execution_count": null,
   "metadata": {},
   "outputs": [],
   "source": [
    "# bitmasks"
   ]
  },
  {
   "cell_type": "code",
   "execution_count": 98,
   "metadata": {},
   "outputs": [],
   "source": [
    "from enum import Flag\n",
    "class Style(Flag):\n",
    "    ITALIC =auto()\n",
    "    BOLD=auto()\n",
    "    UNDERLINE=auto()\n",
    "    SUPERSCRIPT=auto()\n",
    "    SUBSCRIPT=auto()"
   ]
  },
  {
   "cell_type": "code",
   "execution_count": 99,
   "metadata": {},
   "outputs": [
    {
     "data": {
      "text/plain": [
       "{1: <Style.ITALIC: 1>,\n",
       " 2: <Style.BOLD: 2>,\n",
       " 4: <Style.UNDERLINE: 4>,\n",
       " 8: <Style.SUPERSCRIPT: 8>,\n",
       " 16: <Style.SUBSCRIPT: 16>}"
      ]
     },
     "execution_count": 99,
     "metadata": {},
     "output_type": "execute_result"
    }
   ],
   "source": [
    "Style._value2member_map_"
   ]
  },
  {
   "cell_type": "code",
   "execution_count": null,
   "metadata": {},
   "outputs": [],
   "source": [
    "# text_style_state = 2"
   ]
  },
  {
   "cell_type": "markdown",
   "metadata": {},
   "source": [
    "Bitmasks"
   ]
  },
  {
   "cell_type": "code",
   "execution_count": 100,
   "metadata": {},
   "outputs": [],
   "source": [
    "from enum import Flag\n",
    "class Style(Flag):\n",
    "    ITALIC =auto()\n",
    "    BOLD=auto()\n",
    "    UNDERLINE=auto()\n",
    "    SUPERSCRIPT=auto()\n",
    "    SUBSCRIPT=auto()"
   ]
  },
  {
   "cell_type": "code",
   "execution_count": 101,
   "metadata": {},
   "outputs": [
    {
     "data": {
      "text/plain": [
       "{1: <Style.ITALIC: 1>,\n",
       " 2: <Style.BOLD: 2>,\n",
       " 4: <Style.UNDERLINE: 4>,\n",
       " 8: <Style.SUPERSCRIPT: 8>,\n",
       " 16: <Style.SUBSCRIPT: 16>}"
      ]
     },
     "execution_count": 101,
     "metadata": {},
     "output_type": "execute_result"
    }
   ],
   "source": [
    "Style._value2member_map_"
   ]
  },
  {
   "cell_type": "code",
   "execution_count": null,
   "metadata": {},
   "outputs": [],
   "source": [
    "# | (OR)\n",
    "# ~ (not)\n",
    "# & (and)\n",
    "# ^ (xor)"
   ]
  },
  {
   "cell_type": "code",
   "execution_count": 102,
   "metadata": {},
   "outputs": [
    {
     "data": {
      "text/plain": [
       "5"
      ]
     },
     "execution_count": 102,
     "metadata": {},
     "output_type": "execute_result"
    }
   ],
   "source": [
    "1 | 4"
   ]
  },
  {
   "cell_type": "code",
   "execution_count": 103,
   "metadata": {},
   "outputs": [
    {
     "data": {
      "text/plain": [
       "<Style.ITALIC|UNDERLINE: 5>"
      ]
     },
     "execution_count": 103,
     "metadata": {},
     "output_type": "execute_result"
    }
   ],
   "source": [
    "Style.ITALIC | Style.UNDERLINE"
   ]
  },
  {
   "cell_type": "code",
   "execution_count": 104,
   "metadata": {},
   "outputs": [
    {
     "data": {
      "text/plain": [
       "<Style.BOLD|UNDERLINE|SUPERSCRIPT|SUBSCRIPT: 30>"
      ]
     },
     "execution_count": 104,
     "metadata": {},
     "output_type": "execute_result"
    }
   ],
   "source": [
    "~ Style.ITALIC"
   ]
  },
  {
   "cell_type": "code",
   "execution_count": 105,
   "metadata": {},
   "outputs": [],
   "source": [
    "a=Style.ITALIC | Style.UNDERLINE\n",
    "b=Style.UNDERLINE"
   ]
  },
  {
   "cell_type": "code",
   "execution_count": 106,
   "metadata": {},
   "outputs": [
    {
     "data": {
      "text/plain": [
       "<Style.UNDERLINE: 4>"
      ]
     },
     "execution_count": 106,
     "metadata": {},
     "output_type": "execute_result"
    }
   ],
   "source": [
    "a&b"
   ]
  },
  {
   "cell_type": "code",
   "execution_count": null,
   "metadata": {},
   "outputs": [],
   "source": [
    "a=Style.ITALIC | Style.UNDERLINE\n",
    "b=Style.UNDERLINE"
   ]
  },
  {
   "cell_type": "code",
   "execution_count": 107,
   "metadata": {},
   "outputs": [
    {
     "data": {
      "text/plain": [
       "<Style.ITALIC: 1>"
      ]
     },
     "execution_count": 107,
     "metadata": {},
     "output_type": "execute_result"
    }
   ],
   "source": [
    "a ^ b"
   ]
  },
  {
   "cell_type": "code",
   "execution_count": 115,
   "metadata": {},
   "outputs": [],
   "source": [
    "class TextStyleSet:\n",
    "    def __init__(self,*styles):\n",
    "        self._text_styles = Style(0)\n",
    "        for style in styles:\n",
    "            self._text_styles |= style\n",
    "    def __repr__(self):\n",
    "        return f\"TextStyleSet({self._text_styles})\"\n",
    "    def __add__(self,other):\n",
    "        if type(other) == Style:\n",
    "            self._text_styles |= other\n",
    "            return self\n",
    "        return NotImplemented\n",
    "    def __sub__(self,other):\n",
    "        if type(other) == Style:\n",
    "            self._text_styles &= ~other\n",
    "            return self\n",
    "        return NotImplemented\n",
    "    def __contains__(self,item):\n",
    "        if type(item) == Style:\n",
    "            return self._text_styles & item\n",
    "        return NotImplemented"
   ]
  },
  {
   "cell_type": "code",
   "execution_count": 109,
   "metadata": {},
   "outputs": [
    {
     "data": {
      "text/plain": [
       "TextStyleSet(Style.ITALIC)"
      ]
     },
     "execution_count": 109,
     "metadata": {},
     "output_type": "execute_result"
    }
   ],
   "source": [
    "TextStyleSet(Style.ITALIC)"
   ]
  },
  {
   "cell_type": "code",
   "execution_count": 114,
   "metadata": {},
   "outputs": [
    {
     "data": {
      "text/plain": [
       "TextStyleSet(Style.BOLD|UNDERLINE)"
      ]
     },
     "execution_count": 114,
     "metadata": {},
     "output_type": "execute_result"
    }
   ],
   "source": [
    "TextStyleSet(Style.ITALIC,Style.BOLD) + Style.UNDERLINE - Style.ITALIC"
   ]
  },
  {
   "cell_type": "code",
   "execution_count": 117,
   "metadata": {},
   "outputs": [
    {
     "data": {
      "text/plain": [
       "True"
      ]
     },
     "execution_count": 117,
     "metadata": {},
     "output_type": "execute_result"
    }
   ],
   "source": [
    "Style.BOLD in TextStyleSet(Style.BOLD)"
   ]
  },
  {
   "cell_type": "markdown",
   "metadata": {},
   "source": [
    "How Bitwise works"
   ]
  },
  {
   "cell_type": "code",
   "execution_count": null,
   "metadata": {},
   "outputs": [],
   "source": [
    "# working on bits"
   ]
  },
  {
   "cell_type": "code",
   "execution_count": 120,
   "metadata": {},
   "outputs": [],
   "source": [
    "def get_binary(n):\n",
    "    return f\"{n:08b}\""
   ]
  },
  {
   "cell_type": "code",
   "execution_count": 121,
   "metadata": {},
   "outputs": [
    {
     "data": {
      "text/plain": [
       "'00000100'"
      ]
     },
     "execution_count": 121,
     "metadata": {},
     "output_type": "execute_result"
    }
   ],
   "source": [
    "get_binary(4)"
   ]
  },
  {
   "cell_type": "code",
   "execution_count": 122,
   "metadata": {},
   "outputs": [
    {
     "data": {
      "text/plain": [
       "0"
      ]
     },
     "execution_count": 122,
     "metadata": {},
     "output_type": "execute_result"
    }
   ],
   "source": [
    "1 & 4"
   ]
  },
  {
   "cell_type": "code",
   "execution_count": 123,
   "metadata": {},
   "outputs": [],
   "source": [
    "import pandas as pd"
   ]
  },
  {
   "cell_type": "code",
   "execution_count": 125,
   "metadata": {},
   "outputs": [],
   "source": [
    "def build_table(*nums):\n",
    "    return pd.DataFrame({num: list(get_binary(num)) for num in nums}\n",
    "        ,index=sorted(range(8),reverse=True)).transpose()"
   ]
  },
  {
   "cell_type": "code",
   "execution_count": 126,
   "metadata": {},
   "outputs": [
    {
     "data": {
      "text/html": [
       "<div>\n",
       "<style scoped>\n",
       "    .dataframe tbody tr th:only-of-type {\n",
       "        vertical-align: middle;\n",
       "    }\n",
       "\n",
       "    .dataframe tbody tr th {\n",
       "        vertical-align: top;\n",
       "    }\n",
       "\n",
       "    .dataframe thead th {\n",
       "        text-align: right;\n",
       "    }\n",
       "</style>\n",
       "<table border=\"1\" class=\"dataframe\">\n",
       "  <thead>\n",
       "    <tr style=\"text-align: right;\">\n",
       "      <th></th>\n",
       "      <th>7</th>\n",
       "      <th>6</th>\n",
       "      <th>5</th>\n",
       "      <th>4</th>\n",
       "      <th>3</th>\n",
       "      <th>2</th>\n",
       "      <th>1</th>\n",
       "      <th>0</th>\n",
       "    </tr>\n",
       "  </thead>\n",
       "  <tbody>\n",
       "    <tr>\n",
       "      <th>1</th>\n",
       "      <td>0</td>\n",
       "      <td>0</td>\n",
       "      <td>0</td>\n",
       "      <td>0</td>\n",
       "      <td>0</td>\n",
       "      <td>0</td>\n",
       "      <td>0</td>\n",
       "      <td>1</td>\n",
       "    </tr>\n",
       "    <tr>\n",
       "      <th>4</th>\n",
       "      <td>0</td>\n",
       "      <td>0</td>\n",
       "      <td>0</td>\n",
       "      <td>0</td>\n",
       "      <td>0</td>\n",
       "      <td>1</td>\n",
       "      <td>0</td>\n",
       "      <td>0</td>\n",
       "    </tr>\n",
       "  </tbody>\n",
       "</table>\n",
       "</div>"
      ],
      "text/plain": [
       "   7  6  5  4  3  2  1  0\n",
       "1  0  0  0  0  0  0  0  1\n",
       "4  0  0  0  0  0  1  0  0"
      ]
     },
     "execution_count": 126,
     "metadata": {},
     "output_type": "execute_result"
    }
   ],
   "source": [
    "build_table(1,4)"
   ]
  },
  {
   "cell_type": "code",
   "execution_count": null,
   "metadata": {},
   "outputs": [],
   "source": [
    "# 1 | 4 = 2**2 + 2**0 =5"
   ]
  },
  {
   "cell_type": "code",
   "execution_count": 127,
   "metadata": {},
   "outputs": [
    {
     "data": {
      "text/html": [
       "<div>\n",
       "<style scoped>\n",
       "    .dataframe tbody tr th:only-of-type {\n",
       "        vertical-align: middle;\n",
       "    }\n",
       "\n",
       "    .dataframe tbody tr th {\n",
       "        vertical-align: top;\n",
       "    }\n",
       "\n",
       "    .dataframe thead th {\n",
       "        text-align: right;\n",
       "    }\n",
       "</style>\n",
       "<table border=\"1\" class=\"dataframe\">\n",
       "  <thead>\n",
       "    <tr style=\"text-align: right;\">\n",
       "      <th></th>\n",
       "      <th>7</th>\n",
       "      <th>6</th>\n",
       "      <th>5</th>\n",
       "      <th>4</th>\n",
       "      <th>3</th>\n",
       "      <th>2</th>\n",
       "      <th>1</th>\n",
       "      <th>0</th>\n",
       "    </tr>\n",
       "  </thead>\n",
       "  <tbody>\n",
       "    <tr>\n",
       "      <th>1</th>\n",
       "      <td>0</td>\n",
       "      <td>0</td>\n",
       "      <td>0</td>\n",
       "      <td>0</td>\n",
       "      <td>0</td>\n",
       "      <td>0</td>\n",
       "      <td>0</td>\n",
       "      <td>1</td>\n",
       "    </tr>\n",
       "    <tr>\n",
       "      <th>7</th>\n",
       "      <td>0</td>\n",
       "      <td>0</td>\n",
       "      <td>0</td>\n",
       "      <td>0</td>\n",
       "      <td>0</td>\n",
       "      <td>1</td>\n",
       "      <td>1</td>\n",
       "      <td>1</td>\n",
       "    </tr>\n",
       "  </tbody>\n",
       "</table>\n",
       "</div>"
      ],
      "text/plain": [
       "   7  6  5  4  3  2  1  0\n",
       "1  0  0  0  0  0  0  0  1\n",
       "7  0  0  0  0  0  1  1  1"
      ]
     },
     "execution_count": 127,
     "metadata": {},
     "output_type": "execute_result"
    }
   ],
   "source": [
    "build_table(1,7)"
   ]
  },
  {
   "cell_type": "code",
   "execution_count": null,
   "metadata": {},
   "outputs": [],
   "source": [
    "# 1 ^ 7 = 2**2 + 2**1 = 6"
   ]
  }
 ],
 "metadata": {
  "kernelspec": {
   "display_name": "base",
   "language": "python",
   "name": "python3"
  },
  "language_info": {
   "codemirror_mode": {
    "name": "ipython",
    "version": 3
   },
   "file_extension": ".py",
   "mimetype": "text/x-python",
   "name": "python",
   "nbconvert_exporter": "python",
   "pygments_lexer": "ipython3",
   "version": "3.11.7"
  }
 },
 "nbformat": 4,
 "nbformat_minor": 2
}
