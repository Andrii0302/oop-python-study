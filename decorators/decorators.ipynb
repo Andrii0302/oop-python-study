{
 "cells": [
  {
   "cell_type": "markdown",
   "metadata": {},
   "source": [
    "*args and **kwargs"
   ]
  },
  {
   "cell_type": "code",
   "execution_count": 17,
   "metadata": {},
   "outputs": [],
   "source": [
    "def greet(*args):\n",
    "    print(f'Hi {\" and \".join(args)}')"
   ]
  },
  {
   "cell_type": "code",
   "execution_count": 18,
   "metadata": {},
   "outputs": [
    {
     "name": "stdout",
     "output_type": "stream",
     "text": [
      "Hi gay and mom and pop\n"
     ]
    }
   ],
   "source": [
    "greet('gay','mom','pop')"
   ]
  },
  {
   "cell_type": "code",
   "execution_count": 19,
   "metadata": {},
   "outputs": [],
   "source": [
    "def introduce(**kwargs):\n",
    "    for key, value in kwargs.items():\n",
    "        print(f'{key} : {value}')"
   ]
  },
  {
   "cell_type": "code",
   "execution_count": 20,
   "metadata": {},
   "outputs": [
    {
     "name": "stdout",
     "output_type": "stream",
     "text": [
      "name : gay\n",
      "age : 18\n",
      "country : USA\n"
     ]
    }
   ],
   "source": [
    "introduce(name='gay', age=18,country='USA')"
   ]
  },
  {
   "cell_type": "code",
   "execution_count": 21,
   "metadata": {},
   "outputs": [],
   "source": [
    "def both(*args,**kwargs):\n",
    "    for arg in args:\n",
    "        print(\n",
    "            arg\n",
    "        )\n",
    "    for k, v in kwargs.items():\n",
    "        print(k,v)"
   ]
  },
  {
   "cell_type": "code",
   "execution_count": 22,
   "metadata": {},
   "outputs": [
    {
     "name": "stdout",
     "output_type": "stream",
     "text": [
      "1\n",
      "2\n",
      "3\n",
      "name gay\n",
      "age 18\n"
     ]
    }
   ],
   "source": [
    "both(1,2,3,name='gay',age=18)"
   ]
  },
  {
   "cell_type": "code",
   "execution_count": 32,
   "metadata": {},
   "outputs": [
    {
     "name": "stdout",
     "output_type": "stream",
     "text": [
      "Count: 5, Average: 4.6\n"
     ]
    },
    {
     "data": {
      "text/plain": [
       "4.6"
      ]
     },
     "execution_count": 32,
     "metadata": {},
     "output_type": "execute_result"
    }
   ],
   "source": [
    "def calculate_avg(*num,round_to=2):\n",
    "    if not num:\n",
    "        print('Nope')\n",
    "        return None\n",
    "    else:\n",
    "        avg=sum(num)/len(num)\n",
    "        print(f'Count: {len(num)}, Average: {round(avg,round_to)}')\n",
    "        return avg\n",
    "calculate_avg(1,2,3,12,5,round_to=3)"
   ]
  },
  {
   "cell_type": "markdown",
   "metadata": {},
   "source": [
    "Higher order functions"
   ]
  },
  {
   "cell_type": "code",
   "execution_count": 34,
   "metadata": {},
   "outputs": [],
   "source": [
    "def loud(func):\n",
    "    def wrapper():\n",
    "        return func().upper() + \"!!!\"\n",
    "    return wrapper"
   ]
  },
  {
   "cell_type": "code",
   "execution_count": 36,
   "metadata": {},
   "outputs": [],
   "source": [
    "def greet():\n",
    "    return 'hi'"
   ]
  },
  {
   "cell_type": "code",
   "execution_count": 42,
   "metadata": {},
   "outputs": [
    {
     "data": {
      "text/plain": [
       "'HI!!!'"
      ]
     },
     "execution_count": 42,
     "metadata": {},
     "output_type": "execute_result"
    }
   ],
   "source": [
    "loud(greet)()"
   ]
  },
  {
   "cell_type": "code",
   "execution_count": 43,
   "metadata": {},
   "outputs": [
    {
     "data": {
      "text/plain": [
       "'HI!!!'"
      ]
     },
     "execution_count": 43,
     "metadata": {},
     "output_type": "execute_result"
    }
   ],
   "source": [
    "ld=loud(greet)\n",
    "ld()"
   ]
  },
  {
   "cell_type": "code",
   "execution_count": 54,
   "metadata": {},
   "outputs": [],
   "source": [
    "def double(func):\n",
    "    def wrapper(*args):\n",
    "        return func(*args) * 2\n",
    "    return wrapper"
   ]
  },
  {
   "cell_type": "code",
   "execution_count": 55,
   "metadata": {},
   "outputs": [],
   "source": [
    "def add(num1,num2):\n",
    "    return num1+num2"
   ]
  },
  {
   "cell_type": "code",
   "execution_count": 61,
   "metadata": {},
   "outputs": [
    {
     "data": {
      "text/plain": [
       "6"
      ]
     },
     "execution_count": 61,
     "metadata": {},
     "output_type": "execute_result"
    }
   ],
   "source": [
    "double(add)(1,2)"
   ]
  },
  {
   "cell_type": "markdown",
   "metadata": {},
   "source": [
    "First-class functions"
   ]
  },
  {
   "cell_type": "code",
   "execution_count": 62,
   "metadata": {},
   "outputs": [],
   "source": [
    "def ld(name):\n",
    "    return f\"{name.upper()}\""
   ]
  },
  {
   "cell_type": "code",
   "execution_count": 63,
   "metadata": {},
   "outputs": [],
   "source": [
    "def quet(name):\n",
    "    return f'{name}...'"
   ]
  },
  {
   "cell_type": "code",
   "execution_count": 64,
   "metadata": {},
   "outputs": [],
   "source": [
    "def greet(name,func):\n",
    "    return (func(name))"
   ]
  },
  {
   "cell_type": "code",
   "execution_count": 67,
   "metadata": {},
   "outputs": [
    {
     "data": {
      "text/plain": [
       "'ANDY'"
      ]
     },
     "execution_count": 67,
     "metadata": {},
     "output_type": "execute_result"
    }
   ],
   "source": [
    "greet('Andy',ld)"
   ]
  },
  {
   "cell_type": "code",
   "execution_count": 68,
   "metadata": {},
   "outputs": [
    {
     "data": {
      "text/plain": [
       "'Andy...'"
      ]
     },
     "execution_count": 68,
     "metadata": {},
     "output_type": "execute_result"
    }
   ],
   "source": [
    "greet('Andy',quet)"
   ]
  },
  {
   "cell_type": "code",
   "execution_count": 69,
   "metadata": {},
   "outputs": [],
   "source": [
    "from typing import Callable\n",
    "def greet(name: str, greeting: Callable[[str], str]) -> str:\n",
    "    return greeting(name)"
   ]
  },
  {
   "cell_type": "markdown",
   "metadata": {},
   "source": [
    "Closures"
   ]
  },
  {
   "cell_type": "code",
   "execution_count": 70,
   "metadata": {},
   "outputs": [],
   "source": [
    "def outer(x):\n",
    "    def inner(y):\n",
    "        return x+y\n",
    "    return inner"
   ]
  },
  {
   "cell_type": "code",
   "execution_count": 72,
   "metadata": {},
   "outputs": [],
   "source": [
    "closure=outer(10)()"
   ]
  },
  {
   "cell_type": "code",
   "execution_count": 73,
   "metadata": {},
   "outputs": [
    {
     "data": {
      "text/plain": [
       "16"
      ]
     },
     "execution_count": 73,
     "metadata": {},
     "output_type": "execute_result"
    }
   ],
   "source": [
    "closure(6)"
   ]
  },
  {
   "cell_type": "code",
   "execution_count": 74,
   "metadata": {},
   "outputs": [
    {
     "data": {
      "text/plain": [
       "30"
      ]
     },
     "execution_count": 74,
     "metadata": {},
     "output_type": "execute_result"
    }
   ],
   "source": [
    "outer(10)(20)"
   ]
  },
  {
   "cell_type": "code",
   "execution_count": 75,
   "metadata": {},
   "outputs": [],
   "source": [
    "def make_multiplier(x):\n",
    "    def multi(n):\n",
    "        return x * n\n",
    "    return multi"
   ]
  },
  {
   "cell_type": "code",
   "execution_count": 77,
   "metadata": {},
   "outputs": [],
   "source": [
    "times_two=make_multiplier(2)\n",
    "times_three=make_multiplier(3)"
   ]
  },
  {
   "cell_type": "code",
   "execution_count": 78,
   "metadata": {},
   "outputs": [
    {
     "data": {
      "text/plain": [
       "12"
      ]
     },
     "execution_count": 78,
     "metadata": {},
     "output_type": "execute_result"
    }
   ],
   "source": [
    "times_three(4)"
   ]
  },
  {
   "cell_type": "code",
   "execution_count": 79,
   "metadata": {},
   "outputs": [
    {
     "data": {
      "text/plain": [
       "14"
      ]
     },
     "execution_count": 79,
     "metadata": {},
     "output_type": "execute_result"
    }
   ],
   "source": [
    "times_two(7)"
   ]
  },
  {
   "cell_type": "code",
   "execution_count": 85,
   "metadata": {},
   "outputs": [],
   "source": [
    "def create_counter(start=0):\n",
    "    count=[start]\n",
    "    def counter():\n",
    "        count[0]+=1\n",
    "        return count[0]\n",
    "    return counter"
   ]
  },
  {
   "cell_type": "code",
   "execution_count": 86,
   "metadata": {},
   "outputs": [
    {
     "data": {
      "text/plain": [
       "3"
      ]
     },
     "execution_count": 86,
     "metadata": {},
     "output_type": "execute_result"
    }
   ],
   "source": [
    "countera=create_counter(1)\n",
    "countera()\n",
    "countera()"
   ]
  },
  {
   "cell_type": "markdown",
   "metadata": {},
   "source": [
    "Decorators intro"
   ]
  },
  {
   "cell_type": "code",
   "execution_count": 87,
   "metadata": {},
   "outputs": [],
   "source": [
    "def fry():\n",
    "    return 'fry'\n",
    "def grill():\n",
    "    return 'grill'\n",
    "def boil():\n",
    "    return 'boil'"
   ]
  },
  {
   "cell_type": "code",
   "execution_count": 89,
   "metadata": {},
   "outputs": [],
   "source": [
    "def seasoning(chef):\n",
    "    def wrapper():\n",
    "        print('smth')\n",
    "        return chef()\n",
    "    return wrapper"
   ]
  },
  {
   "cell_type": "code",
   "execution_count": 90,
   "metadata": {},
   "outputs": [],
   "source": [
    "@seasoning\n",
    "def fry():\n",
    "    return 'fry'\n",
    "def grill():\n",
    "    return 'grill'\n",
    "def boil():\n",
    "    return 'boil'"
   ]
  },
  {
   "cell_type": "code",
   "execution_count": 91,
   "metadata": {},
   "outputs": [
    {
     "name": "stdout",
     "output_type": "stream",
     "text": [
      "smth\n"
     ]
    },
    {
     "data": {
      "text/plain": [
       "'fry'"
      ]
     },
     "execution_count": 91,
     "metadata": {},
     "output_type": "execute_result"
    }
   ],
   "source": [
    "fry()"
   ]
  },
  {
   "cell_type": "code",
   "execution_count": 92,
   "metadata": {},
   "outputs": [
    {
     "name": "stdout",
     "output_type": "stream",
     "text": [
      "smth\n"
     ]
    },
    {
     "data": {
      "text/plain": [
       "'boil'"
      ]
     },
     "execution_count": 92,
     "metadata": {},
     "output_type": "execute_result"
    }
   ],
   "source": [
    "seasoning(boil)()"
   ]
  },
  {
   "cell_type": "markdown",
   "metadata": {},
   "source": [
    "Decorating parameterized funcs"
   ]
  },
  {
   "cell_type": "code",
   "execution_count": 94,
   "metadata": {},
   "outputs": [],
   "source": [
    "def simple_dec(func):\n",
    "    def wrapper():\n",
    "        print('before')\n",
    "        result=func()\n",
    "        print('after')\n",
    "        return result\n",
    "    return wrapper\n",
    "@simple_dec\n",
    "def greet():\n",
    "    return 'hi'"
   ]
  },
  {
   "cell_type": "code",
   "execution_count": 95,
   "metadata": {},
   "outputs": [
    {
     "name": "stdout",
     "output_type": "stream",
     "text": [
      "before\n",
      "after\n"
     ]
    },
    {
     "data": {
      "text/plain": [
       "'hi'"
      ]
     },
     "execution_count": 95,
     "metadata": {},
     "output_type": "execute_result"
    }
   ],
   "source": [
    "greet()"
   ]
  },
  {
   "cell_type": "code",
   "execution_count": 96,
   "metadata": {},
   "outputs": [],
   "source": [
    "def simple_dec(func):\n",
    "    def wrapper(name):\n",
    "        print('before')\n",
    "        result=func(name)\n",
    "        print('after')\n",
    "        return result\n",
    "    return wrapper\n",
    "@simple_dec\n",
    "def greet(name):\n",
    "    return f'hi {name}'"
   ]
  },
  {
   "cell_type": "code",
   "execution_count": 98,
   "metadata": {},
   "outputs": [
    {
     "name": "stdout",
     "output_type": "stream",
     "text": [
      "before\n",
      "after\n"
     ]
    },
    {
     "data": {
      "text/plain": [
       "'hi gay'"
      ]
     },
     "execution_count": 98,
     "metadata": {},
     "output_type": "execute_result"
    }
   ],
   "source": [
    "greet('gay')"
   ]
  },
  {
   "cell_type": "code",
   "execution_count": 101,
   "metadata": {},
   "outputs": [],
   "source": [
    "def simple_dec(func):\n",
    "    def wrapper(*args,**kwargs):\n",
    "        print('before')\n",
    "        result=func(*args,*kwargs)\n",
    "        print('after')\n",
    "        return result\n",
    "    return wrapper\n",
    "@simple_dec\n",
    "def greet(name,surname):\n",
    "    return f'hi {name},{surname}'"
   ]
  },
  {
   "cell_type": "code",
   "execution_count": 104,
   "metadata": {},
   "outputs": [
    {
     "name": "stdout",
     "output_type": "stream",
     "text": [
      "before\n",
      "after\n"
     ]
    },
    {
     "data": {
      "text/plain": [
       "'hi gay,gay_too'"
      ]
     },
     "execution_count": 104,
     "metadata": {},
     "output_type": "execute_result"
    }
   ],
   "source": [
    "greet('gay','gay_too')"
   ]
  },
  {
   "cell_type": "code",
   "execution_count": 105,
   "metadata": {},
   "outputs": [],
   "source": [
    "def logger(func):\n",
    "    def wrapper(*args,**kwargs):\n",
    "        print(f'Calling function: {func.__name__} with args: {args}, {kwargs}')\n",
    "        result=func(*args,**kwargs)\n",
    "        print(f\"Function {func.__name__} returned: {result}\")\n",
    "        return result\n",
    "    return wrapper"
   ]
  },
  {
   "cell_type": "code",
   "execution_count": 106,
   "metadata": {},
   "outputs": [
    {
     "name": "stdout",
     "output_type": "stream",
     "text": [
      "Calling function: calc with args: (3, 6), {}\n",
      "Function calc returned: 9\n"
     ]
    },
    {
     "data": {
      "text/plain": [
       "9"
      ]
     },
     "execution_count": 106,
     "metadata": {},
     "output_type": "execute_result"
    }
   ],
   "source": [
    "@logger\n",
    "def calc(a,b):\n",
    "    return a+b\n",
    "calc(3,6)"
   ]
  },
  {
   "cell_type": "code",
   "execution_count": 126,
   "metadata": {},
   "outputs": [],
   "source": [
    "from random import randint\n",
    "def repeat(func):\n",
    "    def wrapper(*args,**kwargs):\n",
    "\n",
    "        func(*args,**kwargs)\n",
    "        func(*args,**kwargs)\n",
    "        \n",
    "    return wrapper"
   ]
  },
  {
   "cell_type": "code",
   "execution_count": 134,
   "metadata": {},
   "outputs": [
    {
     "name": "stdout",
     "output_type": "stream",
     "text": [
      "randomly drawn number is : 2\n",
      "randomly drawn number is : 21\n"
     ]
    }
   ],
   "source": [
    "@repeat\n",
    "def lotto_draw(start,end):\n",
    "    num=randint(start,end)\n",
    "    print( f'randomly drawn number is : {num}')\n",
    "lotto_draw(1,45)"
   ]
  },
  {
   "cell_type": "code",
   "execution_count": 150,
   "metadata": {},
   "outputs": [],
   "source": [
    "import time\n",
    "def timed(func):\n",
    "    def wrapper(*args,**kwargs):\n",
    "        start_time = time.time()\n",
    "        func(*args,**kwargs)\n",
    "        end_time = time.time()\n",
    "        execution_time = end_time - start_time\n",
    "        return f\"Function {func.__name__} took {round(execution_time,5)} seconds to execute\"\n",
    "    return wrapper"
   ]
  },
  {
   "cell_type": "code",
   "execution_count": 151,
   "metadata": {},
   "outputs": [],
   "source": [
    "@timed\n",
    "def some_func():\n",
    "    for i in range(10000000):\n",
    "        continue"
   ]
  },
  {
   "cell_type": "code",
   "execution_count": 152,
   "metadata": {},
   "outputs": [
    {
     "data": {
      "text/plain": [
       "'Function some_func took 0.13674 seconds to execute'"
      ]
     },
     "execution_count": 152,
     "metadata": {},
     "output_type": "execute_result"
    }
   ],
   "source": [
    "some_func()"
   ]
  },
  {
   "cell_type": "markdown",
   "metadata": {},
   "source": [
    "Decorators with arguments"
   ]
  },
  {
   "cell_type": "code",
   "execution_count": 153,
   "metadata": {},
   "outputs": [],
   "source": [
    "def calories_burned(duration,burned):\n",
    "    return duration * burned"
   ]
  },
  {
   "cell_type": "code",
   "execution_count": 154,
   "metadata": {},
   "outputs": [
    {
     "data": {
      "text/plain": [
       "300"
      ]
     },
     "execution_count": 154,
     "metadata": {},
     "output_type": "execute_result"
    }
   ],
   "source": [
    "calories_burned(30,10)"
   ]
  },
  {
   "cell_type": "code",
   "execution_count": 156,
   "metadata": {},
   "outputs": [],
   "source": [
    "def ensure_healthy_workout(func):\n",
    "    def wrapper(*args,**kwargs):\n",
    "        result=func(*args,**kwargs)\n",
    "        if result < 500:\n",
    "            print('gay')\n",
    "        else:\n",
    "            print(f'nice, {result -500} cals')\n",
    "    return wrapper"
   ]
  },
  {
   "cell_type": "code",
   "execution_count": 157,
   "metadata": {},
   "outputs": [],
   "source": [
    "@ensure_healthy_workout\n",
    "def calories_burned(duration,burned):\n",
    "    return duration * burned"
   ]
  },
  {
   "cell_type": "code",
   "execution_count": 158,
   "metadata": {},
   "outputs": [
    {
     "name": "stdout",
     "output_type": "stream",
     "text": [
      "gay\n"
     ]
    }
   ],
   "source": [
    "calories_burned(30,10)"
   ]
  },
  {
   "cell_type": "code",
   "execution_count": 159,
   "metadata": {},
   "outputs": [
    {
     "name": "stdout",
     "output_type": "stream",
     "text": [
      "nice, 100 cals\n"
     ]
    }
   ],
   "source": [
    "calories_burned(60,10)"
   ]
  },
  {
   "cell_type": "code",
   "execution_count": 165,
   "metadata": {},
   "outputs": [],
   "source": [
    "@ensure_healthy_workout(min_cal=700)\n",
    "def calories_burned(duration,burned):\n",
    "    return duration * burned"
   ]
  },
  {
   "cell_type": "code",
   "execution_count": 163,
   "metadata": {},
   "outputs": [],
   "source": [
    "\n",
    "def ensure_healthy_workout(min_cal):\n",
    "    def actual_decorator(func):\n",
    "        def wrapper(*args,**kwargs):\n",
    "            result=func(*args,**kwargs)\n",
    "            if result < min_cal:\n",
    "                print('gay')\n",
    "            else:\n",
    "                print(f'nice, {result -min_cal} cals')\n",
    "        return wrapper\n",
    "    return actual_decorator"
   ]
  },
  {
   "cell_type": "code",
   "execution_count": 166,
   "metadata": {},
   "outputs": [
    {
     "name": "stdout",
     "output_type": "stream",
     "text": [
      "nice, 0 cals\n"
     ]
    }
   ],
   "source": [
    "calories_burned(70,10)"
   ]
  },
  {
   "cell_type": "code",
   "execution_count": 177,
   "metadata": {},
   "outputs": [],
   "source": [
    "from random import randint\n",
    "def repeat(times_to_repeat):\n",
    "    def decorator(func):\n",
    "        def wrapper(*args,**kwargs):\n",
    "            s=[]\n",
    "            for _ in range(times_to_repeat):\n",
    "                num=(func(*args,*kwargs))\n",
    "                s.append(num)\n",
    "            return sorted(s)\n",
    "        return wrapper\n",
    "    return decorator"
   ]
  },
  {
   "cell_type": "code",
   "execution_count": 178,
   "metadata": {},
   "outputs": [
    {
     "data": {
      "text/plain": [
       "[5, 6, 23, 34]"
      ]
     },
     "execution_count": 178,
     "metadata": {},
     "output_type": "execute_result"
    }
   ],
   "source": [
    "@repeat(times_to_repeat=4)\n",
    "def lotto_draw(start,end):\n",
    "    return randint(start,end)\n",
    "lotto_draw(1,45)"
   ]
  },
  {
   "cell_type": "markdown",
   "metadata": {},
   "source": [
    "Chaining multiple decorators"
   ]
  },
  {
   "cell_type": "code",
   "execution_count": 1,
   "metadata": {},
   "outputs": [],
   "source": [
    "def uppercase(func):\n",
    "    def wrapper():\n",
    "        result=func()\n",
    "        return result.upper()\n",
    "    return wrapper\n",
    "def split(func):\n",
    "    def wrapper():\n",
    "        result=func()\n",
    "        return result.split()\n",
    "    return wrapper"
   ]
  },
  {
   "cell_type": "code",
   "execution_count": 3,
   "metadata": {},
   "outputs": [],
   "source": [
    "@split\n",
    "@uppercase #from bottom to top\n",
    "def passphrase():\n",
    "    return 'bla Bla BLA'"
   ]
  },
  {
   "cell_type": "code",
   "execution_count": 4,
   "metadata": {},
   "outputs": [
    {
     "data": {
      "text/plain": [
       "['BLA', 'BLA', 'BLA']"
      ]
     },
     "execution_count": 4,
     "metadata": {},
     "output_type": "execute_result"
    }
   ],
   "source": [
    "passphrase()"
   ]
  },
  {
   "cell_type": "markdown",
   "metadata": {},
   "source": [
    "Preserving identity with @wraps"
   ]
  },
  {
   "cell_type": "code",
   "execution_count": 5,
   "metadata": {},
   "outputs": [],
   "source": [
    "def split(func):\n",
    "    def wrapper():\n",
    "        result=func()\n",
    "        return result.split()\n",
    "    return wrapper"
   ]
  },
  {
   "cell_type": "code",
   "execution_count": 9,
   "metadata": {},
   "outputs": [],
   "source": [
    "@split\n",
    "def passphrase():\n",
    "    \"\"\"Smth\"\"\"\n",
    "    print('bla Bla BLA')"
   ]
  },
  {
   "cell_type": "code",
   "execution_count": 10,
   "metadata": {},
   "outputs": [
    {
     "data": {
      "text/plain": [
       "<function __main__.split.<locals>.wrapper()>"
      ]
     },
     "execution_count": 10,
     "metadata": {},
     "output_type": "execute_result"
    }
   ],
   "source": [
    "passphrase"
   ]
  },
  {
   "cell_type": "code",
   "execution_count": 11,
   "metadata": {},
   "outputs": [],
   "source": [
    "passphrase.__doc__"
   ]
  },
  {
   "cell_type": "code",
   "execution_count": 16,
   "metadata": {},
   "outputs": [],
   "source": [
    "@split\n",
    "def passphrase():\n",
    "    \"\"\"\"wtf\"\"\"\n",
    "    return 'bla Bla BLA'"
   ]
  },
  {
   "cell_type": "code",
   "execution_count": 17,
   "metadata": {},
   "outputs": [
    {
     "data": {
      "text/plain": [
       "['bla', 'Bla', 'BLA']"
      ]
     },
     "execution_count": 17,
     "metadata": {},
     "output_type": "execute_result"
    }
   ],
   "source": [
    "passphrase()"
   ]
  },
  {
   "cell_type": "code",
   "execution_count": 18,
   "metadata": {},
   "outputs": [
    {
     "data": {
      "text/plain": [
       "'wrapper'"
      ]
     },
     "execution_count": 18,
     "metadata": {},
     "output_type": "execute_result"
    }
   ],
   "source": [
    "passphrase.__name__"
   ]
  },
  {
   "cell_type": "code",
   "execution_count": 19,
   "metadata": {},
   "outputs": [],
   "source": [
    "from functools import wraps"
   ]
  },
  {
   "cell_type": "code",
   "execution_count": 21,
   "metadata": {},
   "outputs": [],
   "source": [
    "def split(func):\n",
    "    @wraps(func)\n",
    "    def wrapper():\n",
    "        result=func()\n",
    "        return result.split()\n",
    "    return wrapper"
   ]
  },
  {
   "cell_type": "code",
   "execution_count": 22,
   "metadata": {},
   "outputs": [],
   "source": [
    "@split\n",
    "def passphrase():\n",
    "    \"\"\"\"wtf\"\"\"\n",
    "    return 'bla Bla BLA'"
   ]
  },
  {
   "cell_type": "code",
   "execution_count": 23,
   "metadata": {},
   "outputs": [
    {
     "data": {
      "text/plain": [
       "['bla', 'Bla', 'BLA']"
      ]
     },
     "execution_count": 23,
     "metadata": {},
     "output_type": "execute_result"
    }
   ],
   "source": [
    "passphrase()"
   ]
  },
  {
   "cell_type": "code",
   "execution_count": 25,
   "metadata": {},
   "outputs": [
    {
     "data": {
      "text/plain": [
       "'passphrase'"
      ]
     },
     "execution_count": 25,
     "metadata": {},
     "output_type": "execute_result"
    }
   ],
   "source": [
    "passphrase.__name__ # no longer lose his identity"
   ]
  },
  {
   "cell_type": "code",
   "execution_count": 39,
   "metadata": {},
   "outputs": [],
   "source": [
    "from uuid import uuid4\n",
    "@decorator1\n",
    "def download(user_id,resource):\n",
    "    generate_link = uuid4()\n",
    "    download_str=f'andydid.com/{generate_link}'\n",
    "    return f'Your resource is ready at: {download_str}'\n",
    "\n"
   ]
  },
  {
   "cell_type": "code",
   "execution_count": 38,
   "metadata": {},
   "outputs": [],
   "source": [
    "import time\n",
    "user_delay={}\n",
    "def decorator1(func):\n",
    "    def wrapper(*args,**kwargs):\n",
    "        delay=user_delay.get(kwargs.get('user_id'),0)\n",
    "        user_delay[kwargs.get('user_id')] = max(1,delay*2)\n",
    "        if delay > 0:\n",
    "            print(f\"Your download will start in {delay}s\")\n",
    "        time.sleep(delay)\n",
    "        return func(*args,**kwargs)\n",
    "    return wrapper"
   ]
  },
  {
   "cell_type": "code",
   "execution_count": 43,
   "metadata": {},
   "outputs": [
    {
     "name": "stdout",
     "output_type": "stream",
     "text": [
      "Your download will start in 4s\n"
     ]
    },
    {
     "data": {
      "text/plain": [
       "'Your resource is ready at: andydid.com/15bf971e-a481-4ca2-917f-e17f87bd14b4'"
      ]
     },
     "execution_count": 43,
     "metadata": {},
     "output_type": "execute_result"
    }
   ],
   "source": [
    "download(2,'Python')\n"
   ]
  },
  {
   "cell_type": "markdown",
   "metadata": {},
   "source": [
    "auth skill chal"
   ]
  },
  {
   "cell_type": "code",
   "execution_count": 17,
   "metadata": {},
   "outputs": [],
   "source": [
    "from functools import wraps\n",
    "PASSWORD='pw'\n",
    "USERNAME='admin'\n",
    "AUTH_USER=set()\n",
    "ROSTER=[\n",
    "    {\"name\":'Alice',\"votes\":12},\n",
    "    {'name': 'Bob',\"votes\":10},\n",
    "    {'name': 'Carol',\"votes\":13}\n",
    "]\n",
    "def authd(func):\n",
    "    @wraps(func)\n",
    "    def wrapper(*args,**kwargs):\n",
    "        if USERNAME not in AUTH_USER:\n",
    "            username=input('Enter username: ')\n",
    "            password=(input('Enter password: '))\n",
    "            if username != USERNAME or password != PASSWORD:\n",
    "                print('Invalid username or password')\n",
    "                return\n",
    "            AUTH_USER.add(USERNAME)\n",
    "        func(*args,**kwargs)\n",
    "    return wrapper\n",
    "\n",
    "def view_roaster():\n",
    "    sort_roster=sorted(ROSTER,key=lambda x:x['votes'],reverse=True)\n",
    "    for person in sort_roster:\n",
    "        print(f'{person[\"name\"]} has {person[\"votes\"]} votes')\n",
    "@authd\n",
    "def upvote():\n",
    "    name = input('Enter name: ').lower()\n",
    "    for person in ROSTER:\n",
    "        if person['name'].lower() == name:\n",
    "            person['votes'] += 1\n",
    "            print(f'Upvoted {person[\"name\"]}')\n",
    "            break\n",
    "    else:\n",
    "        print('Name not found')\n",
    "@authd\n",
    "def add_to_roaster():\n",
    "    name = input('Enter name: ')\n",
    "    ROSTER.append({'name': name, 'votes': 0})\n",
    "    print(f'Added {name} to the roster')\n",
    "\n",
    "def menu():\n",
    "    while True:\n",
    "        print('''\n",
    "        1. View roaster\n",
    "        2. Upvote\n",
    "        3. Add to roaster\n",
    "        4. Quit\n",
    "        ''')\n",
    "        choice = int(input('Enter your choice: '))\n",
    "        if choice == 1:\n",
    "            view_roaster()\n",
    "        elif choice == 2:\n",
    "            upvote()\n",
    "        elif choice == 3:\n",
    "            add_to_roaster()\n",
    "        elif choice == 4:\n",
    "            break\n",
    "        else:\n",
    "            break\n"
   ]
  },
  {
   "cell_type": "code",
   "execution_count": 18,
   "metadata": {},
   "outputs": [
    {
     "name": "stdout",
     "output_type": "stream",
     "text": [
      "\n",
      "        1. View roaster\n",
      "        2. Upvote\n",
      "        3. Add to roaster\n",
      "        4. Quit\n",
      "        \n",
      "Upvoted Carol\n",
      "\n",
      "        1. View roaster\n",
      "        2. Upvote\n",
      "        3. Add to roaster\n",
      "        4. Quit\n",
      "        \n",
      "Carol has 14 votes\n",
      "Alice has 12 votes\n",
      "Bob has 10 votes\n",
      "\n",
      "        1. View roaster\n",
      "        2. Upvote\n",
      "        3. Add to roaster\n",
      "        4. Quit\n",
      "        \n",
      "Added gay to the roster\n",
      "\n",
      "        1. View roaster\n",
      "        2. Upvote\n",
      "        3. Add to roaster\n",
      "        4. Quit\n",
      "        \n",
      "Carol has 14 votes\n",
      "Alice has 12 votes\n",
      "Bob has 10 votes\n",
      "gay has 0 votes\n",
      "\n",
      "        1. View roaster\n",
      "        2. Upvote\n",
      "        3. Add to roaster\n",
      "        4. Quit\n",
      "        \n"
     ]
    }
   ],
   "source": [
    "menu()"
   ]
  },
  {
   "cell_type": "markdown",
   "metadata": {},
   "source": [
    "cache skill chal"
   ]
  },
  {
   "cell_type": "code",
   "execution_count": 33,
   "metadata": {},
   "outputs": [],
   "source": [
    "import time\n",
    "import random\n",
    "from functools import wraps\n",
    "\n",
    "cache={}\n",
    "def cache_decorator(func):\n",
    "    @wraps(func)\n",
    "    def wrapper(city):\n",
    "        if city in cache and time.time() - cache[city]['time'] < 10:\n",
    "            print(f'Returning cached result for {city}')\n",
    "            return cache[city]['data']\n",
    "        result=func(city)\n",
    "        cache[city]={'data':result,'time':time.time()}\n",
    "        return result\n",
    "    return wrapper\n",
    "@cache_decorator\n",
    "def get_weather(city):\n",
    "    print(f'Fetching weather for {city}')\n",
    "    time.sleep(1)\n",
    "    weather_data={\n",
    "        'temperature': random.randint(-10, 30),\n",
    "        'humidity': random.randint(0, 100),\n",
    "    }\n",
    "    return weather_data"
   ]
  },
  {
   "cell_type": "code",
   "execution_count": 38,
   "metadata": {},
   "outputs": [
    {
     "name": "stdout",
     "output_type": "stream",
     "text": [
      "Fetching weather for Toronto\n"
     ]
    },
    {
     "data": {
      "text/plain": [
       "{'temperature': -1, 'humidity': 90}"
      ]
     },
     "execution_count": 38,
     "metadata": {},
     "output_type": "execute_result"
    }
   ],
   "source": [
    "get_weather('Toronto')"
   ]
  },
  {
   "cell_type": "code",
   "execution_count": null,
   "metadata": {},
   "outputs": [],
   "source": []
  }
 ],
 "metadata": {
  "kernelspec": {
   "display_name": "base",
   "language": "python",
   "name": "python3"
  },
  "language_info": {
   "codemirror_mode": {
    "name": "ipython",
    "version": 3
   },
   "file_extension": ".py",
   "mimetype": "text/x-python",
   "name": "python",
   "nbconvert_exporter": "python",
   "pygments_lexer": "ipython3",
   "version": "3.11.7"
  }
 },
 "nbformat": 4,
 "nbformat_minor": 2
}
