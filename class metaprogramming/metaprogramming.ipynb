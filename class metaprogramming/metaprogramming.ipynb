{
 "cells": [
  {
   "cell_type": "markdown",
   "metadata": {},
   "source": [
    "Classes are objects"
   ]
  },
  {
   "cell_type": "code",
   "execution_count": 1,
   "metadata": {},
   "outputs": [],
   "source": [
    "class School:\n",
    "    def __init__(self,enrollment):\n",
    "        self.enrollment = enrollment\n",
    "    def enroll(self):\n",
    "        self.enrollment+=1\n",
    "    def graduate(self):\n",
    "        self.enrollment-=1"
   ]
  },
  {
   "cell_type": "code",
   "execution_count": 2,
   "metadata": {},
   "outputs": [],
   "source": [
    "s1=School(100)\n",
    "s2=School(350)"
   ]
  },
  {
   "cell_type": "code",
   "execution_count": 3,
   "metadata": {},
   "outputs": [
    {
     "data": {
      "text/plain": [
       "(<__main__.School at 0x16e5e78f250>, <__main__.School at 0x16e5e78dd50>)"
      ]
     },
     "execution_count": 3,
     "metadata": {},
     "output_type": "execute_result"
    }
   ],
   "source": [
    "s1,s2"
   ]
  },
  {
   "cell_type": "code",
   "execution_count": 4,
   "metadata": {},
   "outputs": [],
   "source": [
    "# blueprint -> instance\n",
    "# class -> object\n",
    "# everything in python is an object\n",
    "# metaclass -> class -> object"
   ]
  },
  {
   "cell_type": "code",
   "execution_count": 5,
   "metadata": {},
   "outputs": [],
   "source": [
    "SchoolClass=School\n"
   ]
  },
  {
   "cell_type": "code",
   "execution_count": 6,
   "metadata": {},
   "outputs": [
    {
     "data": {
      "text/plain": [
       "<__main__.School at 0x16e5e78f890>"
      ]
     },
     "execution_count": 6,
     "metadata": {},
     "output_type": "execute_result"
    }
   ],
   "source": [
    "SchoolClass(500)"
   ]
  },
  {
   "cell_type": "code",
   "execution_count": 7,
   "metadata": {},
   "outputs": [],
   "source": [
    "School.montessori = False"
   ]
  },
  {
   "cell_type": "code",
   "execution_count": 8,
   "metadata": {},
   "outputs": [],
   "source": [
    "School.is_montessori = lambda self: self.montessori"
   ]
  },
  {
   "cell_type": "code",
   "execution_count": 9,
   "metadata": {},
   "outputs": [
    {
     "data": {
      "text/plain": [
       "False"
      ]
     },
     "execution_count": 9,
     "metadata": {},
     "output_type": "execute_result"
    }
   ],
   "source": [
    "School(202).is_montessori()"
   ]
  },
  {
   "cell_type": "code",
   "execution_count": 10,
   "metadata": {},
   "outputs": [],
   "source": [
    "s1=School(20312)"
   ]
  },
  {
   "cell_type": "code",
   "execution_count": 11,
   "metadata": {},
   "outputs": [
    {
     "data": {
      "text/plain": [
       "__main__.School"
      ]
     },
     "execution_count": 11,
     "metadata": {},
     "output_type": "execute_result"
    }
   ],
   "source": [
    "type(s1)"
   ]
  },
  {
   "cell_type": "code",
   "execution_count": 12,
   "metadata": {},
   "outputs": [
    {
     "data": {
      "text/plain": [
       "type"
      ]
     },
     "execution_count": 12,
     "metadata": {},
     "output_type": "execute_result"
    }
   ],
   "source": [
    "type(School)"
   ]
  },
  {
   "cell_type": "code",
   "execution_count": 13,
   "metadata": {},
   "outputs": [
    {
     "data": {
      "text/plain": [
       "type"
      ]
     },
     "execution_count": 13,
     "metadata": {},
     "output_type": "execute_result"
    }
   ],
   "source": [
    "type(type)"
   ]
  },
  {
   "cell_type": "markdown",
   "metadata": {},
   "source": [
    "type() as class factory"
   ]
  },
  {
   "cell_type": "code",
   "execution_count": 14,
   "metadata": {},
   "outputs": [],
   "source": [
    "s1=School(1900)"
   ]
  },
  {
   "cell_type": "code",
   "execution_count": 15,
   "metadata": {},
   "outputs": [
    {
     "data": {
      "text/plain": [
       "float"
      ]
     },
     "execution_count": 15,
     "metadata": {},
     "output_type": "execute_result"
    }
   ],
   "source": [
    "type(2.1)"
   ]
  },
  {
   "cell_type": "code",
   "execution_count": 16,
   "metadata": {},
   "outputs": [
    {
     "data": {
      "text/plain": [
       "type"
      ]
     },
     "execution_count": 16,
     "metadata": {},
     "output_type": "execute_result"
    }
   ],
   "source": [
    "type(School)"
   ]
  },
  {
   "cell_type": "code",
   "execution_count": 17,
   "metadata": {},
   "outputs": [
    {
     "data": {
      "text/plain": [
       "(__main__.School, __main__.School)"
      ]
     },
     "execution_count": 17,
     "metadata": {},
     "output_type": "execute_result"
    }
   ],
   "source": [
    "type(s1), s1.__class__"
   ]
  },
  {
   "cell_type": "code",
   "execution_count": 18,
   "metadata": {},
   "outputs": [],
   "source": [
    "# type(name,bases,namespace) -> new class"
   ]
  },
  {
   "cell_type": "code",
   "execution_count": 19,
   "metadata": {},
   "outputs": [],
   "source": [
    "class Student:\n",
    "    pass"
   ]
  },
  {
   "cell_type": "code",
   "execution_count": 20,
   "metadata": {},
   "outputs": [
    {
     "data": {
      "text/plain": [
       "__main__.School"
      ]
     },
     "execution_count": 20,
     "metadata": {},
     "output_type": "execute_result"
    }
   ],
   "source": [
    "type(\"School\",(),{})"
   ]
  },
  {
   "cell_type": "code",
   "execution_count": 21,
   "metadata": {},
   "outputs": [],
   "source": [
    "class Student:\n",
    "    major='nope'"
   ]
  },
  {
   "cell_type": "code",
   "execution_count": 22,
   "metadata": {},
   "outputs": [],
   "source": [
    "student2=type(\"School\",(),{\"major\":\"nope\"})"
   ]
  },
  {
   "cell_type": "code",
   "execution_count": 23,
   "metadata": {},
   "outputs": [],
   "source": [
    "s2=student2()"
   ]
  },
  {
   "cell_type": "code",
   "execution_count": 24,
   "metadata": {},
   "outputs": [
    {
     "data": {
      "text/plain": [
       "'nope'"
      ]
     },
     "execution_count": 24,
     "metadata": {},
     "output_type": "execute_result"
    }
   ],
   "source": [
    "s2.major"
   ]
  },
  {
   "cell_type": "code",
   "execution_count": 25,
   "metadata": {},
   "outputs": [],
   "source": [
    "class Student:\n",
    "    major='nope'\n",
    "    def greet(self):\n",
    "        return 'hi'"
   ]
  },
  {
   "cell_type": "code",
   "execution_count": 26,
   "metadata": {},
   "outputs": [],
   "source": [
    "student3=type(\"School\",(),{\"major\":\"nope\",\"greet\":lambda self: \"hi\"})"
   ]
  },
  {
   "cell_type": "code",
   "execution_count": 27,
   "metadata": {},
   "outputs": [],
   "source": [
    "s3=student3()"
   ]
  },
  {
   "cell_type": "code",
   "execution_count": 28,
   "metadata": {},
   "outputs": [
    {
     "data": {
      "text/plain": [
       "'hi'"
      ]
     },
     "execution_count": 28,
     "metadata": {},
     "output_type": "execute_result"
    }
   ],
   "source": [
    "s3.greet()"
   ]
  },
  {
   "cell_type": "code",
   "execution_count": 29,
   "metadata": {},
   "outputs": [],
   "source": [
    "class Person:\n",
    "    pass\n",
    "class Student(Person):\n",
    "    major='nope'\n",
    "    def greet(self):\n",
    "        return 'hi'"
   ]
  },
  {
   "cell_type": "code",
   "execution_count": 30,
   "metadata": {},
   "outputs": [],
   "source": [
    "student4=type(\"School\",(Person,),{\"major\":\"nope\",\"greet\":lambda self: \"hi\"})"
   ]
  },
  {
   "cell_type": "code",
   "execution_count": 31,
   "metadata": {},
   "outputs": [],
   "source": [
    "s4=student4()"
   ]
  },
  {
   "cell_type": "code",
   "execution_count": 33,
   "metadata": {},
   "outputs": [
    {
     "data": {
      "text/plain": [
       "(__main__.Person,)"
      ]
     },
     "execution_count": 33,
     "metadata": {},
     "output_type": "execute_result"
    }
   ],
   "source": [
    "student4.__bases__"
   ]
  },
  {
   "cell_type": "markdown",
   "metadata": {},
   "source": [
    "More on dynamic class creation"
   ]
  },
  {
   "cell_type": "code",
   "execution_count": 35,
   "metadata": {},
   "outputs": [],
   "source": [
    "class School:\n",
    "    def __init__(self,enrollment):\n",
    "        self.enrollment = enrollment\n",
    "    def enroll_student(self):\n",
    "        self.enrollment+=1\n",
    "    def graduate(self):\n",
    "        self.enrollment-=1"
   ]
  },
  {
   "cell_type": "code",
   "execution_count": 36,
   "metadata": {},
   "outputs": [],
   "source": [
    "class Person:\n",
    "    pass\n",
    "class Student(Person):\n",
    "    major='nope'\n",
    "    def __init__(self,name,last_name,age):\n",
    "        self.name=name\n",
    "        self.last_name=last_name\n",
    "        self.age=age\n",
    "    def __repr__(self):\n",
    "        return f\"Student(name={self.name}, last_name={self.last_name}, age={self.age})\"\n",
    "    def greet(self):\n",
    "        return f\"Hello, my name is {self.name}\"\n",
    "    def drop_out(self):\n",
    "        return f\"{self.name} {self.last_name} is dropping out\"\n",
    "    def enroll(self,obj):\n",
    "        if not isinstance(obj,School):\n",
    "            raise ValueError(\"Only in school\")\n",
    "        obj.enroll_student(self)"
   ]
  },
  {
   "cell_type": "code",
   "execution_count": 37,
   "metadata": {},
   "outputs": [],
   "source": [
    "major='nope'\n",
    "def __init__(self,name,last_name,age):\n",
    "    self.name=name\n",
    "    self.last_name=last_name\n",
    "    self.age=age\n",
    "def __repr__(self):\n",
    "    return f\"Student(name={self.name}, last_name={self.last_name}, age={self.age})\"\n",
    "def greet(self):\n",
    "    return f\"Hello, my name is {self.name}\"\n",
    "def drop_out(self):\n",
    "    return f\"{self.name} {self.last_name} is dropping out\"\n",
    "def enroll(self,obj):\n",
    "    if not isinstance(obj,School):\n",
    "        raise ValueError(\"Only in school\")\n",
    "    obj.enroll_student(self)\n",
    "namespace_bindings={\n",
    "    \"major\":major,\n",
    "    \"__init__\":__init__,\n",
    "    \"__repr__\":__repr__,\n",
    "    \"greet\":greet,\n",
    "    \"drop_out\":drop_out,\n",
    "    \"enroll\":enroll\n",
    "}"
   ]
  },
  {
   "cell_type": "code",
   "execution_count": 38,
   "metadata": {},
   "outputs": [],
   "source": [
    "studdefinedfunc=type('Student',(Person,),namespace_bindings)"
   ]
  },
  {
   "cell_type": "code",
   "execution_count": 39,
   "metadata": {},
   "outputs": [
    {
     "data": {
      "text/plain": [
       "Student(name=Po, last_name=Boken, age=18)"
      ]
     },
     "execution_count": 39,
     "metadata": {},
     "output_type": "execute_result"
    }
   ],
   "source": [
    "studdefinedfunc('Po','Boken',18)"
   ]
  },
  {
   "cell_type": "code",
   "execution_count": 40,
   "metadata": {},
   "outputs": [],
   "source": [
    "from types import new_class"
   ]
  },
  {
   "cell_type": "code",
   "execution_count": 41,
   "metadata": {},
   "outputs": [],
   "source": [
    "# new_class(name,bases,kwds,exec_body) -> new class "
   ]
  },
  {
   "cell_type": "code",
   "execution_count": 45,
   "metadata": {},
   "outputs": [
    {
     "data": {
      "text/plain": [
       "types.Student"
      ]
     },
     "execution_count": 45,
     "metadata": {},
     "output_type": "execute_result"
    }
   ],
   "source": [
    "new_class('Student',(Person,),exec_body=lambda namespace: namespace.update(namespace_bindings))"
   ]
  },
  {
   "cell_type": "markdown",
   "metadata": {},
   "source": [
    "defining our own metaclass"
   ]
  },
  {
   "cell_type": "code",
   "execution_count": 60,
   "metadata": {},
   "outputs": [],
   "source": [
    "class my_metaclass(type):\n",
    "    @classmethod\n",
    "    def __prepare__(metacls,name,bases):\n",
    "        print(metacls,name,bases)\n",
    "        return {\"is_montessori\":False,'say_motto':lambda:'gay'}"
   ]
  },
  {
   "cell_type": "code",
   "execution_count": 61,
   "metadata": {},
   "outputs": [
    {
     "name": "stdout",
     "output_type": "stream",
     "text": [
      "<class '__main__.my_metaclass'> School ()\n"
     ]
    }
   ],
   "source": [
    "class School(metaclass=my_metaclass):\n",
    "    pass"
   ]
  },
  {
   "cell_type": "code",
   "execution_count": 62,
   "metadata": {},
   "outputs": [
    {
     "data": {
      "text/plain": [
       "__main__.my_metaclass"
      ]
     },
     "execution_count": 62,
     "metadata": {},
     "output_type": "execute_result"
    }
   ],
   "source": [
    "type(School)"
   ]
  },
  {
   "cell_type": "code",
   "execution_count": 59,
   "metadata": {},
   "outputs": [
    {
     "data": {
      "text/plain": [
       "mappingproxy({'is_montessori': False,\n",
       "              '__module__': '__main__',\n",
       "              '__dict__': <attribute '__dict__' of 'School' objects>,\n",
       "              '__weakref__': <attribute '__weakref__' of 'School' objects>,\n",
       "              '__doc__': None})"
      ]
     },
     "execution_count": 59,
     "metadata": {},
     "output_type": "execute_result"
    }
   ],
   "source": [
    "School.__dict__"
   ]
  },
  {
   "cell_type": "code",
   "execution_count": 63,
   "metadata": {},
   "outputs": [
    {
     "data": {
      "text/plain": [
       "'gay'"
      ]
     },
     "execution_count": 63,
     "metadata": {},
     "output_type": "execute_result"
    }
   ],
   "source": [
    "School.say_motto()"
   ]
  },
  {
   "cell_type": "code",
   "execution_count": 69,
   "metadata": {},
   "outputs": [
    {
     "name": "stdout",
     "output_type": "stream",
     "text": [
      "<class '__main__.my_metaclass'> School ()\n",
      "<class '__main__.School'> School () {'is_montessori': False, 'say_motto': <function my_metaclass.__prepare__.<locals>.<lambda> at 0x0000016E5E90FBA0>, '__module__': '__main__', '__qualname__': 'School'}\n"
     ]
    }
   ],
   "source": [
    "class my_metaclass(type):\n",
    "    @classmethod\n",
    "    def __prepare__(metacls,name,bases):\n",
    "        print(metacls,name,bases)\n",
    "        return {\"is_montessori\":False,'say_motto':lambda:'gay'}\n",
    "    @staticmethod\n",
    "    def __new__(metacls,name,bases,namespace):\n",
    "        return super().__new__(metacls,name,bases,namespace)\n",
    "    def __init__(cls,name,bases,namespace):\n",
    "        print(cls,name,bases,namespace)\n",
    "        #super().__init__(name,bases,namespace)\n",
    "    def __call__(self,*args,**kwargs):\n",
    "        print(args,kwargs)\n",
    "class School(metaclass=my_metaclass):\n",
    "    pass"
   ]
  },
  {
   "cell_type": "code",
   "execution_count": 70,
   "metadata": {},
   "outputs": [
    {
     "name": "stdout",
     "output_type": "stream",
     "text": [
      "(202,) {}\n"
     ]
    }
   ],
   "source": [
    "s1=School(202)"
   ]
  },
  {
   "cell_type": "markdown",
   "metadata": {},
   "source": [
    "Zero instance classes and singletons"
   ]
  },
  {
   "cell_type": "code",
   "execution_count": 71,
   "metadata": {},
   "outputs": [],
   "source": [
    "class MicroServiceDashboard:\n",
    "    pass"
   ]
  },
  {
   "cell_type": "code",
   "execution_count": 72,
   "metadata": {},
   "outputs": [],
   "source": [
    "m1=MicroServiceDashboard()\n",
    "m2=MicroServiceDashboard()"
   ]
  },
  {
   "cell_type": "code",
   "execution_count": 73,
   "metadata": {},
   "outputs": [
    {
     "data": {
      "text/plain": [
       "(<__main__.MicroServiceDashboard at 0x16e5ed70250>,\n",
       " <__main__.MicroServiceDashboard at 0x16e5ed70d10>)"
      ]
     },
     "execution_count": 73,
     "metadata": {},
     "output_type": "execute_result"
    }
   ],
   "source": [
    "m1,m2"
   ]
  },
  {
   "cell_type": "code",
   "execution_count": 79,
   "metadata": {},
   "outputs": [],
   "source": [
    "class my_meta(type):\n",
    "    def __call__(self,*args,**kwargs):\n",
    "        raise TypeError('Direct class instantiation not allowed')"
   ]
  },
  {
   "cell_type": "code",
   "execution_count": 80,
   "metadata": {},
   "outputs": [],
   "source": [
    "class MicroServiceDashboard(metaclass=my_meta):\n",
    "    pass"
   ]
  },
  {
   "cell_type": "code",
   "execution_count": 81,
   "metadata": {},
   "outputs": [
    {
     "ename": "TypeError",
     "evalue": "Direct class instantiation not allowed",
     "output_type": "error",
     "traceback": [
      "\u001b[1;31m---------------------------------------------------------------------------\u001b[0m",
      "\u001b[1;31mTypeError\u001b[0m                                 Traceback (most recent call last)",
      "Cell \u001b[1;32mIn[81], line 1\u001b[0m\n\u001b[1;32m----> 1\u001b[0m MicroServiceDashboard()\n",
      "Cell \u001b[1;32mIn[79], line 3\u001b[0m, in \u001b[0;36mmy_meta.__call__\u001b[1;34m(self, *args, **kwargs)\u001b[0m\n\u001b[0;32m      2\u001b[0m \u001b[38;5;28;01mdef\u001b[39;00m \u001b[38;5;21m__call__\u001b[39m(\u001b[38;5;28mself\u001b[39m,\u001b[38;5;241m*\u001b[39margs,\u001b[38;5;241m*\u001b[39m\u001b[38;5;241m*\u001b[39mkwargs):\n\u001b[1;32m----> 3\u001b[0m     \u001b[38;5;28;01mraise\u001b[39;00m \u001b[38;5;167;01mTypeError\u001b[39;00m(\u001b[38;5;124m'\u001b[39m\u001b[38;5;124mDirect class instantiation not allowed\u001b[39m\u001b[38;5;124m'\u001b[39m)\n",
      "\u001b[1;31mTypeError\u001b[0m: Direct class instantiation not allowed"
     ]
    }
   ],
   "source": [
    "MicroServiceDashboard()"
   ]
  },
  {
   "cell_type": "code",
   "execution_count": 87,
   "metadata": {},
   "outputs": [],
   "source": [
    "class MicroServiceDashboard(metaclass=my_meta):\n",
    "    @staticmethod\n",
    "    def running():\n",
    "        pass\n",
    "    @staticmethod\n",
    "    def stopped():\n",
    "        pass\n",
    "    @staticmethod\n",
    "    def health():\n",
    "        pass"
   ]
  },
  {
   "cell_type": "code",
   "execution_count": 88,
   "metadata": {},
   "outputs": [],
   "source": [
    "class my_singleton_meta(type):\n",
    "    def __init__(cls,name,bases,namespace):\n",
    "        cls._instance=None\n",
    "        super().__init__(name,bases,namespace)\n",
    "    def __call__(cls,*args,**kwargs):\n",
    "        if cls._instance is None:\n",
    "            cls._instance=super().__call__(*args,**kwargs)\n",
    "        return cls._instance"
   ]
  },
  {
   "cell_type": "code",
   "execution_count": 91,
   "metadata": {},
   "outputs": [],
   "source": [
    "class MicroServiceDashboard(metaclass=my_singleton_meta):\n",
    "    pass\n"
   ]
  },
  {
   "cell_type": "code",
   "execution_count": 92,
   "metadata": {},
   "outputs": [
    {
     "data": {
      "text/plain": [
       "<__main__.MicroServiceDashboard at 0x16e5f746d10>"
      ]
     },
     "execution_count": 92,
     "metadata": {},
     "output_type": "execute_result"
    }
   ],
   "source": [
    "MicroServiceDashboard()"
   ]
  },
  {
   "cell_type": "code",
   "execution_count": 93,
   "metadata": {},
   "outputs": [],
   "source": [
    "m1=MicroServiceDashboard()\n",
    "m2=MicroServiceDashboard()"
   ]
  },
  {
   "cell_type": "code",
   "execution_count": 94,
   "metadata": {},
   "outputs": [
    {
     "data": {
      "text/plain": [
       "True"
      ]
     },
     "execution_count": 94,
     "metadata": {},
     "output_type": "execute_result"
    }
   ],
   "source": [
    "m1 is m2"
   ]
  },
  {
   "cell_type": "markdown",
   "metadata": {},
   "source": [
    "Enforcing unique method names"
   ]
  },
  {
   "cell_type": "code",
   "execution_count": 101,
   "metadata": {},
   "outputs": [
    {
     "name": "stdout",
     "output_type": "stream",
     "text": [
      "<class '__main__.unique_methods_meta'> Tractor ()\n",
      "{'__module__': '__main__', '__qualname__': 'Tractor', 'tow': <function Tractor.tow at 0x0000016E5FAADBC0>}\n"
     ]
    }
   ],
   "source": [
    "class UniqueConstraintDict(dict):\n",
    "    def __setitem__(self,key,value):\n",
    "        if key in self:\n",
    "            raise KeyError(f'Key {key} already exists')\n",
    "        super().__setitem__(key,value)\n",
    "class unique_methods_meta(type):\n",
    "    @classmethod\n",
    "    def __prepare__(metacls,name,bases):\n",
    "        print(metacls,name,bases)\n",
    "        return dict()\n",
    "    def __new__(metacls,name,bases,namespace):\n",
    "        print(namespace)\n",
    "        return super().__new__(metacls,name,bases,namespace)\n",
    "class Tractor(metaclass=unique_methods_meta):\n",
    "    def tow(self,load):\n",
    "        return f'towing {load}'\n",
    "    def tow(self):\n",
    "        return 'towing'"
   ]
  },
  {
   "cell_type": "code",
   "execution_count": 98,
   "metadata": {},
   "outputs": [
    {
     "data": {
      "text/plain": [
       "<__main__.Tractor at 0x16e5f42b010>"
      ]
     },
     "execution_count": 98,
     "metadata": {},
     "output_type": "execute_result"
    }
   ],
   "source": [
    "Tractor()"
   ]
  }
 ],
 "metadata": {
  "kernelspec": {
   "display_name": "base",
   "language": "python",
   "name": "python3"
  },
  "language_info": {
   "codemirror_mode": {
    "name": "ipython",
    "version": 3
   },
   "file_extension": ".py",
   "mimetype": "text/x-python",
   "name": "python",
   "nbconvert_exporter": "python",
   "pygments_lexer": "ipython3",
   "version": "3.11.7"
  }
 },
 "nbformat": 4,
 "nbformat_minor": 2
}
