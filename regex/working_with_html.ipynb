{
 "cells": [
  {
   "cell_type": "code",
   "execution_count": 1,
   "metadata": {},
   "outputs": [
    {
     "name": "stdout",
     "output_type": "stream",
     "text": [
      "                        Type Mutability  \\\n",
      "0                       bool  immutable   \n",
      "1                  bytearray    mutable   \n",
      "2                      bytes  immutable   \n",
      "3                    complex  immutable   \n",
      "4                       dict    mutable   \n",
      "5         types.EllipsisType  immutable   \n",
      "6                      float  immutable   \n",
      "7                  frozenset  immutable   \n",
      "8                        int  immutable   \n",
      "9                       list    mutable   \n",
      "10            types.NoneType  immutable   \n",
      "11  types.NotImplementedType  immutable   \n",
      "12                     range  immutable   \n",
      "13                       set    mutable   \n",
      "14                       str  immutable   \n",
      "15                     tuple  immutable   \n",
      "\n",
      "                                          Description  \\\n",
      "0                                       Boolean value   \n",
      "1                                   Sequence of bytes   \n",
      "2                                   Sequence of bytes   \n",
      "3        Complex number with real and imaginary parts   \n",
      "4   Associative array (or dictionary) of key and v...   \n",
      "5   An ellipsis placeholder to be used as an index...   \n",
      "6   Double-precision floating-point number. The pr...   \n",
      "7   Unordered set, contains no duplicates; can con...   \n",
      "8                 Integer of unlimited magnitude[117]   \n",
      "9                       List, can contain mixed types   \n",
      "10  An object representing the absence of a value,...   \n",
      "11  A placeholder that can be returned from overlo...   \n",
      "12  An immutable sequence of numbers commonly used...   \n",
      "13  Unordered set, contains no duplicates; can con...   \n",
      "14  A character string: sequence of Unicode codepo...   \n",
      "15                            Can contain mixed types   \n",
      "\n",
      "                                      Syntax examples  \n",
      "0                                          True False  \n",
      "1   bytearray(b'Some ASCII') bytearray(b\"Some ASCI...  \n",
      "2   b'Some ASCII' b\"Some ASCII\" bytes([119, 105, 1...  \n",
      "3                                     3+2.7j 3 + 2.7j  \n",
      "4                          {'key1': 1.0, 3: False} {}  \n",
      "5                                        ... Ellipsis  \n",
      "6                                             1.33333  \n",
      "7                    frozenset([4.0, 'string', True])  \n",
      "8                                                  42  \n",
      "9                            [4.0, 'string', True] []  \n",
      "10                                                NaN  \n",
      "11                                     NotImplemented  \n",
      "12                    range(−1, 10) range(10, −5, −2)  \n",
      "13                        {4.0, 'string', True} set()  \n",
      "14  'Wikipedia' \"Wikipedia\"\"\"\"Spanning multiple li...  \n",
      "15       (4.0, 'string', True) ('single element',) ()  \n"
     ]
    }
   ],
   "source": [
    "import pandas as pd\n",
    "url = \"https://en.wikipedia.org/wiki/Python_(programming_language)\"\n",
    "d = pd.read_html(url)[1]\n",
    "print(d)"
   ]
  },
  {
   "cell_type": "code",
   "execution_count": 2,
   "metadata": {},
   "outputs": [],
   "source": [
    "import re"
   ]
  },
  {
   "cell_type": "code",
   "execution_count": 3,
   "metadata": {},
   "outputs": [],
   "source": [
    "data=d.to_string()"
   ]
  },
  {
   "cell_type": "code",
   "execution_count": 4,
   "metadata": {},
   "outputs": [
    {
     "data": {
      "text/plain": [
       "'                        Type Mutability                                                                                                                                                                      Description                                                                    Syntax examples\\n0                       bool  immutable                                                                                                                                                                    Boolean value                                                                         True False\\n1                  bytearray    mutable                                                                                                                                                                Sequence of bytes  bytearray(b\\'Some ASCII\\') bytearray(b\"Some ASCII\") bytearray([119, 105, 107, 105])\\n2                      bytes  immutable                                                                                                                                                                Sequence of bytes                            b\\'Some ASCII\\' b\"Some ASCII\" bytes([119, 105, 107, 105])\\n3                    complex  immutable                                                                                                                                     Complex number with real and imaginary parts                                                                    3+2.7j 3 + 2.7j\\n4                       dict    mutable                                                Associative array (or dictionary) of key and value pairs; can contain mixed types (keys and values), keys must be a hashable type                                                         {\\'key1\\': 1.0, 3: False} {}\\n5         types.EllipsisType  immutable                                                                                                                   An ellipsis placeholder to be used as an index in NumPy arrays                                                                       ... Ellipsis\\n6                      float  immutable  Double-precision floating-point number. The precision is machine-dependent but in practice is generally implemented as a 64-bit IEEE\\xa0754 number with 53\\xa0bits of precision.[116]                                                                            1.33333\\n7                  frozenset  immutable                                                                                                      Unordered set, contains no duplicates; can contain mixed types, if hashable                                                   frozenset([4.0, \\'string\\', True])\\n8                        int  immutable                                                                                                                                              Integer of unlimited magnitude[117]                                                                                 42\\n9                       list    mutable                                                                                                                                                    List, can contain mixed types                                                           [4.0, \\'string\\', True] []\\n10            types.NoneType  immutable                                                                                              An object representing the absence of a value, often called null in other languages                                                                                NaN\\n11  types.NotImplementedType  immutable                                                                              A placeholder that can be returned from overloaded operators to indicate unsupported operand types.                                                                     NotImplemented\\n12                     range  immutable                                                                          An immutable sequence of numbers commonly used for looping a specific number of times in for loops[118]                                                    range(−1, 10) range(10, −5, −2)\\n13                       set    mutable                                                                                                      Unordered set, contains no duplicates; can contain mixed types, if hashable                                                        {4.0, \\'string\\', True} set()\\n14                       str  immutable                                                                                                                               A character string: sequence of Unicode codepoints       \\'Wikipedia\\' \"Wikipedia\"\"\"\"Spanning multiple lines\"\"\" Spanning multiple lines\\n15                     tuple  immutable                                                                                                                                                          Can contain mixed types                                       (4.0, \\'string\\', True) (\\'single element\\',) ()'"
      ]
     },
     "execution_count": 4,
     "metadata": {},
     "output_type": "execute_result"
    }
   ],
   "source": [
    "data"
   ]
  },
  {
   "cell_type": "code",
   "execution_count": 6,
   "metadata": {},
   "outputs": [],
   "source": [
    "s1=re.findall(r'\\n\\d{1,}\\s{1,}(.+?)\\s{1,}mutable.+',data)"
   ]
  },
  {
   "cell_type": "code",
   "execution_count": 8,
   "metadata": {},
   "outputs": [
    {
     "data": {
      "text/plain": [
       "['bytearray', 'dict', 'list', 'set']"
      ]
     },
     "execution_count": 8,
     "metadata": {},
     "output_type": "execute_result"
    }
   ],
   "source": [
    "s1"
   ]
  },
  {
   "cell_type": "code",
   "execution_count": 9,
   "metadata": {},
   "outputs": [
    {
     "data": {
      "text/plain": [
       "['dict', 'set']"
      ]
     },
     "execution_count": 9,
     "metadata": {},
     "output_type": "execute_result"
    }
   ],
   "source": [
    "s2=re.findall(r'\\d{1,}\\s{1,}(\\w+?)\\s{1,}.+\\{.*\\}',data)\n",
    "s2"
   ]
  },
  {
   "cell_type": "code",
   "execution_count": 11,
   "metadata": {},
   "outputs": [
    {
     "data": {
      "text/plain": [
       "['Boolean value',\n",
       " 'Associative array (or dictionary) of key and value pairs; can contain mixed types (keys and values), keys must be a hashable type',\n",
       " 'precision.[116]',\n",
       " 'immutable',\n",
       " 'Integer of unlimited magnitude[117]',\n",
       " 'mutable',\n",
       " 'Unordered set, contains no duplicates; can contain mixed types, if hashable',\n",
       " 'A character string: sequence of Unicode codepoints']"
      ]
     },
     "execution_count": 11,
     "metadata": {},
     "output_type": "execute_result"
    }
   ],
   "source": [
    "s3=re.findall(r'\\d{1,}\\s{1,}\\w{1,4}\\s{1,}\\w+?\\s{1,}(.+?)\\s{2,}',data)\n",
    "s3"
   ]
  },
  {
   "cell_type": "code",
   "execution_count": 13,
   "metadata": {},
   "outputs": [
    {
     "data": {
      "text/plain": [
       "['Sequence o',\n",
       " 'Complex nu',\n",
       " 'precision.',\n",
       " 'immutable ',\n",
       " 'List, can ',\n",
       " 'Unordered ',\n",
       " 'Can contai']"
      ]
     },
     "execution_count": 13,
     "metadata": {},
     "output_type": "execute_result"
    }
   ],
   "source": [
    "s4=re.findall(r'\\d*[13579]\\s{1,}\\w+?\\s{1,}\\w+?\\s{1,}(.{10})',data)\n",
    "s4"
   ]
  },
  {
   "cell_type": "code",
   "execution_count": 16,
   "metadata": {},
   "outputs": [
    {
     "data": {
      "text/plain": [
       "['complex', 'dict', 'float', 'frozenset', 'list', 'set', 'tuple']"
      ]
     },
     "execution_count": 16,
     "metadata": {},
     "output_type": "execute_result"
    }
   ],
   "source": [
    "s5=re.findall(r'\\n\\d{1,}\\s{1,}(\\w+?)\\s{1,}.+\\d{1,}\\.\\d{1,}',data)\n",
    "s5"
   ]
  },
  {
   "cell_type": "code",
   "execution_count": 31,
   "metadata": {},
   "outputs": [
    {
     "data": {
      "text/plain": [
       "['complex', 'frozenset']"
      ]
     },
     "execution_count": 31,
     "metadata": {},
     "output_type": "execute_result"
    }
   ],
   "source": [
    "ex1=re.findall(r\"\\d{1,}\\s{1,}(\\w{7,})\\s{1,}immutable\", data)\n",
    "ex1"
   ]
  },
  {
   "cell_type": "code",
   "execution_count": 35,
   "metadata": {},
   "outputs": [
    {
     "data": {
      "text/plain": [
       "['Integer of unlimited magnitude[117]',\n",
       " 'A character string: sequence of Unicode codepoints']"
      ]
     },
     "execution_count": 35,
     "metadata": {},
     "output_type": "execute_result"
    }
   ],
   "source": [
    "ex2=re.findall(r\"\\d{1,}\\s{1,}\\w{1,3}\\s{1,}immutable\\s{1,}(.+?)\\s{2,}\", data)\n",
    "ex2"
   ]
  },
  {
   "cell_type": "code",
   "execution_count": 38,
   "metadata": {},
   "outputs": [
    {
     "data": {
      "text/plain": [
       "['bool', 'bytes', 'dict', 'float', 'int', 'range', 'str']"
      ]
     },
     "execution_count": 38,
     "metadata": {},
     "output_type": "execute_result"
    }
   ],
   "source": [
    "ex3=re.findall(r'\\n\\d*[02468]\\s{1,}(\\w+?)\\s{1,}',data)\n",
    "ex3"
   ]
  },
  {
   "cell_type": "code",
   "execution_count": 40,
   "metadata": {},
   "outputs": [
    {
     "data": {
      "text/plain": [
       "['bytearray', 'bytes', 'float', 'int']"
      ]
     },
     "execution_count": 40,
     "metadata": {},
     "output_type": "execute_result"
    }
   ],
   "source": [
    "ex4=re.findall(r'\\n\\d{1}\\s{1,}(\\w+?)\\s{1,}\\w+?\\s{1,}.+\\d{3}',data)\n",
    "ex4"
   ]
  },
  {
   "cell_type": "code",
   "execution_count": 42,
   "metadata": {},
   "outputs": [
    {
     "data": {
      "text/plain": [
       "['bool', 'str']"
      ]
     },
     "execution_count": 42,
     "metadata": {},
     "output_type": "execute_result"
    }
   ],
   "source": [
    "ex5=re.findall(r'\\d{1,}\\s{1,}(\\w+?)\\s{1,}immutable\\s{1,}(?!.*\\d{1,}.*)',data)\n",
    "ex5"
   ]
  },
  {
   "cell_type": "code",
   "execution_count": null,
   "metadata": {},
   "outputs": [],
   "source": []
  }
 ],
 "metadata": {
  "kernelspec": {
   "display_name": "base",
   "language": "python",
   "name": "python3"
  },
  "language_info": {
   "codemirror_mode": {
    "name": "ipython",
    "version": 3
   },
   "file_extension": ".py",
   "mimetype": "text/x-python",
   "name": "python",
   "nbconvert_exporter": "python",
   "pygments_lexer": "ipython3",
   "version": "3.11.7"
  }
 },
 "nbformat": 4,
 "nbformat_minor": 2
}
