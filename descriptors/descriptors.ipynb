{
 "cells": [
  {
   "cell_type": "markdown",
   "metadata": {},
   "source": [
    "Attribute lookup chain rewiev"
   ]
  },
  {
   "cell_type": "code",
   "execution_count": 1,
   "metadata": {},
   "outputs": [],
   "source": [
    "class Child:\n",
    "    name='Andrew'\n",
    "    def __init__(self, name):\n",
    "        self.name = name"
   ]
  },
  {
   "cell_type": "code",
   "execution_count": 2,
   "metadata": {},
   "outputs": [
    {
     "data": {
      "text/plain": [
       "mappingproxy({'__module__': '__main__',\n",
       "              '__init__': <function __main__.Child.__init__(self, name)>,\n",
       "              '__dict__': <attribute '__dict__' of 'Child' objects>,\n",
       "              '__weakref__': <attribute '__weakref__' of 'Child' objects>,\n",
       "              '__doc__': None})"
      ]
     },
     "execution_count": 2,
     "metadata": {},
     "output_type": "execute_result"
    }
   ],
   "source": [
    "Child.__dict__"
   ]
  },
  {
   "cell_type": "code",
   "execution_count": 3,
   "metadata": {},
   "outputs": [],
   "source": [
    "c=Child('Anthony')"
   ]
  },
  {
   "cell_type": "code",
   "execution_count": 4,
   "metadata": {},
   "outputs": [
    {
     "data": {
      "text/plain": [
       "{'name': 'Anthony'}"
      ]
     },
     "execution_count": 4,
     "metadata": {},
     "output_type": "execute_result"
    }
   ],
   "source": [
    "c.__dict__"
   ]
  },
  {
   "cell_type": "code",
   "execution_count": 5,
   "metadata": {},
   "outputs": [
    {
     "data": {
      "text/plain": [
       "'Anthony'"
      ]
     },
     "execution_count": 5,
     "metadata": {},
     "output_type": "execute_result"
    }
   ],
   "source": [
    "c.name # so first of all, python will try to find an attr in class and if not found - uses class var"
   ]
  },
  {
   "cell_type": "code",
   "execution_count": 11,
   "metadata": {},
   "outputs": [],
   "source": [
    "class Child:\n",
    "    name='Andrew'\n",
    "    def __init__(self, name=None):\n",
    "        if name:\n",
    "            self.name = name\n",
    "v=Child('Vladimir')"
   ]
  },
  {
   "cell_type": "code",
   "execution_count": 12,
   "metadata": {},
   "outputs": [
    {
     "data": {
      "text/plain": [
       "'Vladimir'"
      ]
     },
     "execution_count": 12,
     "metadata": {},
     "output_type": "execute_result"
    }
   ],
   "source": [
    "v.name"
   ]
  },
  {
   "cell_type": "code",
   "execution_count": 13,
   "metadata": {},
   "outputs": [],
   "source": [
    "v=Child()"
   ]
  },
  {
   "cell_type": "code",
   "execution_count": 14,
   "metadata": {},
   "outputs": [
    {
     "data": {
      "text/plain": [
       "'Andrew'"
      ]
     },
     "execution_count": 14,
     "metadata": {},
     "output_type": "execute_result"
    }
   ],
   "source": [
    "v.name"
   ]
  },
  {
   "cell_type": "code",
   "execution_count": 25,
   "metadata": {},
   "outputs": [],
   "source": [
    "class GrandParent(object):\n",
    "    name='Robert'\n",
    "    \n",
    "    \n",
    "class Parent(GrandParent):\n",
    "    pass\n",
    "    #name='James'\n",
    "class Child(Parent):\n",
    "    # name='Andrew'\n",
    "    def __init__(self, name=None):\n",
    "        if name:\n",
    "            self.name = name\n",
    "v=Child()"
   ]
  },
  {
   "cell_type": "code",
   "execution_count": 27,
   "metadata": {},
   "outputs": [
    {
     "data": {
      "text/plain": [
       "'Robert'"
      ]
     },
     "execution_count": 27,
     "metadata": {},
     "output_type": "execute_result"
    }
   ],
   "source": [
    "v.name # it will lookup in parent class if not found in child"
   ]
  },
  {
   "cell_type": "code",
   "execution_count": null,
   "metadata": {},
   "outputs": [],
   "source": [
    "# __getattr__ implemented in object"
   ]
  },
  {
   "cell_type": "markdown",
   "metadata": {},
   "source": [
    "The descriptor protocol"
   ]
  },
  {
   "cell_type": "code",
   "execution_count": null,
   "metadata": {},
   "outputs": [],
   "source": [
    "class Descriptor:\n",
    "    pass"
   ]
  },
  {
   "cell_type": "code",
   "execution_count": null,
   "metadata": {},
   "outputs": [],
   "source": [
    "# protocol -> contract between our objects and python"
   ]
  },
  {
   "cell_type": "code",
   "execution_count": null,
   "metadata": {},
   "outputs": [],
   "source": [
    "# the descriptor protocol:\n",
    "# __get__()\n",
    "# __set__()\n",
    "# __delete__()"
   ]
  },
  {
   "cell_type": "code",
   "execution_count": null,
   "metadata": {},
   "outputs": [],
   "source": [
    "class Descriptor:\n",
    "    def __get__(self, instance, owner):\n",
    "        pass\n",
    "    def __set__(self, instance, value):\n",
    "        pass\n",
    "    def __delete__(self, instance):\n",
    "        pass\n",
    "    # so the descriptor is the object that implements that methods"
   ]
  },
  {
   "cell_type": "markdown",
   "metadata": {},
   "source": [
    "Using a descriptor"
   ]
  },
  {
   "cell_type": "code",
   "execution_count": null,
   "metadata": {},
   "outputs": [],
   "source": [
    "# ORM -> OO vs SQL"
   ]
  },
  {
   "cell_type": "code",
   "execution_count": null,
   "metadata": {},
   "outputs": [],
   "source": [
    "# we want to be able to define a persontable class that has a first name attr that is text of max len 200"
   ]
  },
  {
   "cell_type": "code",
   "execution_count": 34,
   "metadata": {},
   "outputs": [],
   "source": [
    "class TextField:\n",
    "    def __init__(self,length):\n",
    "        self.length=length\n",
    "    def __get__(self,instance,owner):\n",
    "        return self.value\n",
    "    def __set__(self,instance,value):\n",
    "        if not type(value) == str:\n",
    "            raise TypeError(\"value must be string\")\n",
    "        if len(value) > self.length:\n",
    "            raise ValueError(\"value is too long\")\n",
    "        self.value=value\n",
    "        \n",
    "    def __delete__(self,instance):\n",
    "        pass"
   ]
  },
  {
   "cell_type": "code",
   "execution_count": 35,
   "metadata": {},
   "outputs": [],
   "source": [
    "class PersonTable:\n",
    "    first_name=TextField(200)"
   ]
  },
  {
   "cell_type": "code",
   "execution_count": 36,
   "metadata": {},
   "outputs": [],
   "source": [
    "p=PersonTable()"
   ]
  },
  {
   "cell_type": "code",
   "execution_count": 37,
   "metadata": {},
   "outputs": [],
   "source": [
    "p.first_name='aaaaaa'"
   ]
  },
  {
   "cell_type": "code",
   "execution_count": 38,
   "metadata": {},
   "outputs": [
    {
     "data": {
      "text/plain": [
       "'aaaaaa'"
      ]
     },
     "execution_count": 38,
     "metadata": {},
     "output_type": "execute_result"
    }
   ],
   "source": [
    "p.first_name"
   ]
  },
  {
   "cell_type": "code",
   "execution_count": null,
   "metadata": {},
   "outputs": [],
   "source": [
    "# binding behaviour"
   ]
  },
  {
   "cell_type": "code",
   "execution_count": 39,
   "metadata": {},
   "outputs": [],
   "source": [
    "class PersonTable:\n",
    "    first_name=TextField(200)\n",
    "    def __init__(self, first_name):\n",
    "        self.__dict__['first_name'] = first_name"
   ]
  },
  {
   "cell_type": "code",
   "execution_count": 41,
   "metadata": {},
   "outputs": [],
   "source": [
    "p=PersonTable('Robbie')\n",
    "p.first_name='Liam'"
   ]
  },
  {
   "cell_type": "code",
   "execution_count": 42,
   "metadata": {},
   "outputs": [
    {
     "data": {
      "text/plain": [
       "'Liam'"
      ]
     },
     "execution_count": 42,
     "metadata": {},
     "output_type": "execute_result"
    }
   ],
   "source": [
    "p.first_name"
   ]
  },
  {
   "cell_type": "code",
   "execution_count": 43,
   "metadata": {},
   "outputs": [
    {
     "data": {
      "text/plain": [
       "{'first_name': 'Robbie'}"
      ]
     },
     "execution_count": 43,
     "metadata": {},
     "output_type": "execute_result"
    }
   ],
   "source": [
    "p.__dict__"
   ]
  },
  {
   "cell_type": "markdown",
   "metadata": {},
   "source": [
    "Descriptor storage"
   ]
  },
  {
   "cell_type": "code",
   "execution_count": 54,
   "metadata": {},
   "outputs": [],
   "source": [
    "class TextField:\n",
    "    def __init__(self,length):\n",
    "        self.length=length\n",
    "        self._data={}\n",
    "    def __get__(self,instance,owner):\n",
    "        return self._data.get(instance,None)\n",
    "    def __set__(self,instance,value):\n",
    "        if not type(value) == str:\n",
    "            raise TypeError(\"value must be string\")\n",
    "        if len(value) > self.length:\n",
    "            raise ValueError(\"value is too long\")\n",
    "        #self.value=value\n",
    "        self._data[instance]=value # memory leak\n",
    "        \n",
    "    def __delete__(self,instance):\n",
    "        pass\n",
    "class PersonTable:\n",
    "    first_name=TextField(200)"
   ]
  },
  {
   "cell_type": "code",
   "execution_count": 55,
   "metadata": {},
   "outputs": [],
   "source": [
    "p1=PersonTable()\n",
    "p2=PersonTable()"
   ]
  },
  {
   "cell_type": "code",
   "execution_count": 57,
   "metadata": {},
   "outputs": [],
   "source": [
    "p1.first_name='Andrew'"
   ]
  },
  {
   "cell_type": "code",
   "execution_count": 58,
   "metadata": {},
   "outputs": [],
   "source": [
    "p2.first_name"
   ]
  },
  {
   "cell_type": "code",
   "execution_count": null,
   "metadata": {},
   "outputs": [],
   "source": [
    "from weakref import WeakKeyDictionary"
   ]
  },
  {
   "cell_type": "markdown",
   "metadata": {},
   "source": [
    "Instance storage"
   ]
  },
  {
   "cell_type": "code",
   "execution_count": 59,
   "metadata": {},
   "outputs": [],
   "source": [
    "class TextField:\n",
    "    def __init__(self,length):\n",
    "        self.length=length\n",
    "        self._data={}\n",
    "    def __get__(self,instance,owner):\n",
    "        #return self._data.get(instance,None)\n",
    "        return instance.__dict__.get('text_field_value',None)\n",
    "    def __set__(self,instance,value):\n",
    "        if not type(value) == str:\n",
    "            raise TypeError(\"value must be string\")\n",
    "        if len(value) > self.length:\n",
    "            raise ValueError(\"value is too long\")\n",
    "        #self.value=value\n",
    "        #self._data[instance]=value \n",
    "        instance.__dict__['text_field_value']=value\n",
    "    def __delete__(self,instance):\n",
    "        pass\n",
    "class PersonTable:\n",
    "    first_name=TextField(200)\n",
    "p1=PersonTable()\n",
    "p2=PersonTable()"
   ]
  },
  {
   "cell_type": "code",
   "execution_count": 63,
   "metadata": {},
   "outputs": [],
   "source": [
    "p1.first_name = \"John\"\n",
    "p2.first_name='Bill'"
   ]
  },
  {
   "cell_type": "code",
   "execution_count": 64,
   "metadata": {},
   "outputs": [
    {
     "data": {
      "text/plain": [
       "'John'"
      ]
     },
     "execution_count": 64,
     "metadata": {},
     "output_type": "execute_result"
    }
   ],
   "source": [
    "p1.first_name"
   ]
  },
  {
   "cell_type": "code",
   "execution_count": 65,
   "metadata": {},
   "outputs": [
    {
     "data": {
      "text/plain": [
       "'Bill'"
      ]
     },
     "execution_count": 65,
     "metadata": {},
     "output_type": "execute_result"
    }
   ],
   "source": [
    "p2.first_name"
   ]
  },
  {
   "cell_type": "code",
   "execution_count": 66,
   "metadata": {},
   "outputs": [
    {
     "data": {
      "text/plain": [
       "({'text_field_value': 'John'}, {'text_field_value': 'Bill'})"
      ]
     },
     "execution_count": 66,
     "metadata": {},
     "output_type": "execute_result"
    }
   ],
   "source": [
    "p1.__dict__, p2.__dict__"
   ]
  },
  {
   "cell_type": "code",
   "execution_count": 67,
   "metadata": {},
   "outputs": [],
   "source": [
    "class PersonTable:\n",
    "    first_name=TextField(200)\n",
    "    last_name=TextField(100)"
   ]
  },
  {
   "cell_type": "code",
   "execution_count": 68,
   "metadata": {},
   "outputs": [],
   "source": [
    "p1=PersonTable()"
   ]
  },
  {
   "cell_type": "code",
   "execution_count": 69,
   "metadata": {},
   "outputs": [],
   "source": [
    "p1.first_name = \"John\"\n",
    "p1.last_name = \"Smith\""
   ]
  },
  {
   "cell_type": "code",
   "execution_count": 70,
   "metadata": {},
   "outputs": [
    {
     "data": {
      "text/plain": [
       "'Smith'"
      ]
     },
     "execution_count": 70,
     "metadata": {},
     "output_type": "execute_result"
    }
   ],
   "source": [
    "p1.first_name # both the name and last name are same (Smith), cause we use same key for everything"
   ]
  },
  {
   "cell_type": "code",
   "execution_count": 71,
   "metadata": {},
   "outputs": [
    {
     "data": {
      "text/plain": [
       "{'text_field_value': 'Smith'}"
      ]
     },
     "execution_count": 71,
     "metadata": {},
     "output_type": "execute_result"
    }
   ],
   "source": [
    "p1.__dict__"
   ]
  },
  {
   "cell_type": "code",
   "execution_count": 89,
   "metadata": {},
   "outputs": [],
   "source": [
    "class TextField:\n",
    "    def __init__(self,length):\n",
    "        self.length=length\n",
    "        \n",
    "    def __set_name__(self,owner,name): # not to specify name of an attr\n",
    "        self.name=name\n",
    "    def __get__(self,instance,owner):\n",
    "        \n",
    "        return instance.__dict__.get(f'TextField_{self.name}',None)\n",
    "    def __set__(self,instance,value):\n",
    "        if not type(value) == str:\n",
    "            raise TypeError(\"value must be string\")\n",
    "        if len(value) > self.length:\n",
    "            raise ValueError(\"value is too long\")\n",
    "        instance.__dict__[f\"TextField_{self.name}\"]=value\n",
    "    def __delete__(self,instance):\n",
    "        pass\n",
    "\n",
    "\n"
   ]
  },
  {
   "cell_type": "code",
   "execution_count": 90,
   "metadata": {},
   "outputs": [],
   "source": [
    "class PersonTable:\n",
    "    first_name=TextField(200)\n",
    "    last_name=TextField(100)\n",
    "\n"
   ]
  },
  {
   "cell_type": "code",
   "execution_count": 91,
   "metadata": {},
   "outputs": [],
   "source": [
    "p1=PersonTable()\n",
    "p2=PersonTable()\n"
   ]
  },
  {
   "cell_type": "code",
   "execution_count": 92,
   "metadata": {},
   "outputs": [
    {
     "data": {
      "text/plain": [
       "('Andrew', 'Svetlov')"
      ]
     },
     "execution_count": 92,
     "metadata": {},
     "output_type": "execute_result"
    }
   ],
   "source": [
    "p1.first_name='Andrew'\n",
    "p1.last_name='Svetlov'\n",
    "p1.first_name,p1.last_name"
   ]
  },
  {
   "cell_type": "markdown",
   "metadata": {},
   "source": [
    "Tying up loose ends"
   ]
  },
  {
   "cell_type": "code",
   "execution_count": 104,
   "metadata": {},
   "outputs": [],
   "source": [
    "class TextField:\n",
    "    def __init__(self,length):\n",
    "        self.length=length\n",
    "        \n",
    "    def __set_name__(self,owner,name): # not to specify name of an attr\n",
    "        print(owner)\n",
    "        self.name=name\n",
    "    def __get__(self,instance,owner):\n",
    "        # print(instance)\n",
    "        # print(owner)\n",
    "        if instance is None:\n",
    "            return self\n",
    "        return instance.__dict__.get(f'TextField_{self.name}',None)\n",
    "    def __set__(self,instance,value):\n",
    "        if not type(value) == str:\n",
    "            raise TypeError(\"value must be string\")\n",
    "        if len(value) > self.length:\n",
    "            raise ValueError(\"value is too long\")\n",
    "        instance.__dict__[f\"TextField_{self.name}\"]=value\n",
    "    def __delete__(self,instance):\n",
    "        del instance.__dict__[f\"TextField_{self.name}\"]\n",
    "# owner refers to the class itself\n",
    "# instance reflectes intance from which descriptor it is used\n"
   ]
  },
  {
   "cell_type": "code",
   "execution_count": 105,
   "metadata": {},
   "outputs": [
    {
     "name": "stdout",
     "output_type": "stream",
     "text": [
      "<class '__main__.PersonTable'>\n",
      "<class '__main__.PersonTable'>\n"
     ]
    }
   ],
   "source": [
    "class PersonTable:\n",
    "    first_name=TextField(200)\n",
    "    last_name=TextField(100)\n",
    "\n"
   ]
  },
  {
   "cell_type": "code",
   "execution_count": 106,
   "metadata": {},
   "outputs": [
    {
     "data": {
      "text/plain": [
       "<__main__.TextField at 0x1bc44f0b0d0>"
      ]
     },
     "execution_count": 106,
     "metadata": {},
     "output_type": "execute_result"
    }
   ],
   "source": [
    "PersonTable.first_name"
   ]
  },
  {
   "cell_type": "code",
   "execution_count": 107,
   "metadata": {},
   "outputs": [],
   "source": [
    "p1=PersonTable()"
   ]
  },
  {
   "cell_type": "code",
   "execution_count": 108,
   "metadata": {},
   "outputs": [],
   "source": [
    "p1.first_name=\"John\"\n",
    "p1.last_name=\"Doe\"\n"
   ]
  },
  {
   "cell_type": "code",
   "execution_count": 109,
   "metadata": {},
   "outputs": [],
   "source": [
    "del p1.first_name"
   ]
  },
  {
   "cell_type": "code",
   "execution_count": 110,
   "metadata": {},
   "outputs": [],
   "source": [
    "p1.first_name"
   ]
  },
  {
   "cell_type": "markdown",
   "metadata": {},
   "source": [
    "Non-data descriptors"
   ]
  },
  {
   "cell_type": "code",
   "execution_count": 121,
   "metadata": {},
   "outputs": [],
   "source": [
    "class TextField:\n",
    "    def __init__(self,length):\n",
    "        self.length=length\n",
    "        \n",
    "    def __set_name__(self,owner,name): \n",
    "        \n",
    "        self.name=name\n",
    "    def __get__(self,instance,owner):\n",
    "        if instance is None:\n",
    "            return self\n",
    "        return instance.__dict__.get(f'TextField_{self.name}',None)\n",
    "    def __set__(self,instance,value):\n",
    "        if not type(value) == str:\n",
    "            raise TypeError(\"value must be string\")\n",
    "        if len(value) > self.length:\n",
    "            raise ValueError(\"value is too long\")\n",
    "        instance.__dict__[f\"TextField_{self.name}\"]=value\n",
    "    def __delete__(self,instance):\n",
    "        del instance.__dict__[f\"TextField_{self.name}\"]\n",
    "class PersonTable:\n",
    "    first_name=TextField(200)\n",
    "    last_name=TextField(100)\n",
    "\n",
    "# non-data descriptor is the descriptor that defines one method - __get__\n",
    "\n"
   ]
  },
  {
   "cell_type": "code",
   "execution_count": 122,
   "metadata": {},
   "outputs": [],
   "source": [
    "from random import randint\n",
    "class LuckyNum:\n",
    "    def __get__(self,instance,owner):\n",
    "        return randint(1,100)"
   ]
  },
  {
   "cell_type": "code",
   "execution_count": 123,
   "metadata": {},
   "outputs": [],
   "source": [
    "class PersonTable:\n",
    "    first_name=TextField(200)\n",
    "    last_name=TextField(100)\n",
    "    personal_num=LuckyNum()\n",
    "    def __init__(self,personal_num):\n",
    "        self.personal_num=personal_num"
   ]
  },
  {
   "cell_type": "code",
   "execution_count": 125,
   "metadata": {},
   "outputs": [],
   "source": [
    "p=PersonTable(10) # now it uses not getter, but a value we specified, because non-data descriptors come secondary"
   ]
  },
  {
   "cell_type": "code",
   "execution_count": 130,
   "metadata": {},
   "outputs": [
    {
     "data": {
      "text/plain": [
       "10"
      ]
     },
     "execution_count": 130,
     "metadata": {},
     "output_type": "execute_result"
    }
   ],
   "source": [
    "p.personal_num"
   ]
  },
  {
   "cell_type": "markdown",
   "metadata": {},
   "source": [
    "Properties vs descriptors"
   ]
  },
  {
   "cell_type": "code",
   "execution_count": null,
   "metadata": {},
   "outputs": [],
   "source": [
    "class TextField:\n",
    "    def __init__(self,length):\n",
    "        self.length=length\n",
    "        \n",
    "    def __set_name__(self,owner,name): \n",
    "        \n",
    "        self.name=name\n",
    "    def __get__(self,instance,owner):\n",
    "        if instance is None:\n",
    "            return self\n",
    "        return instance.__dict__.get(f'TextField_{self.name}',None)\n",
    "    def __set__(self,instance,value):\n",
    "        if not type(value) == str:\n",
    "            raise TypeError(\"value must be string\")\n",
    "        if len(value) > self.length:\n",
    "            raise ValueError(\"value is too long\")\n",
    "        instance.__dict__[f\"TextField_{self.name}\"]=value\n",
    "    def __delete__(self,instance):\n",
    "        del instance.__dict__[f\"TextField_{self.name}\"]\n",
    "class PersonTableWithDescriptors:\n",
    "    first_name=TextField(200)\n",
    "\n",
    "\n",
    "\n"
   ]
  },
  {
   "cell_type": "code",
   "execution_count": 131,
   "metadata": {},
   "outputs": [],
   "source": [
    "class PersonTableWithProps:\n",
    "    def __init__(self,first_name_length):\n",
    "        self._TextField_first_name=None\n",
    "        self.first_name_length = first_name_length\n",
    "    @property\n",
    "    def first_name(self):\n",
    "        return self._TextField_first_name\n",
    "    @first_name.setter\n",
    "    def first_name(self,value):\n",
    "        if not isinstance(value,str):\n",
    "            raise TypeError('first name must be a string')\n",
    "        if len(value)>self.first_name_length:\n",
    "            raise ValueError('first name is too long')\n",
    "        self._TextField_first_name=value\n",
    "    @first_name.deleter\n",
    "    def first_name(self):\n",
    "        del self._TextField_first_name\n"
   ]
  },
  {
   "cell_type": "code",
   "execution_count": 135,
   "metadata": {},
   "outputs": [],
   "source": [
    "p=PersonTableWithProps(200)\n",
    "p.first_name='John'"
   ]
  },
  {
   "cell_type": "code",
   "execution_count": 133,
   "metadata": {},
   "outputs": [
    {
     "data": {
      "text/plain": [
       "'John'"
      ]
     },
     "execution_count": 133,
     "metadata": {},
     "output_type": "execute_result"
    }
   ],
   "source": [
    "p.first_name"
   ]
  },
  {
   "cell_type": "code",
   "execution_count": 137,
   "metadata": {},
   "outputs": [],
   "source": [
    "p.__dict__['first_name'] = \"won't be able to reach\""
   ]
  },
  {
   "cell_type": "code",
   "execution_count": 138,
   "metadata": {},
   "outputs": [
    {
     "data": {
      "text/plain": [
       "{'_TextField_first_name': 'John',\n",
       " 'first_name_length': 200,\n",
       " 'first_name': \"won't be able to reach\"}"
      ]
     },
     "execution_count": 138,
     "metadata": {},
     "output_type": "execute_result"
    }
   ],
   "source": [
    "p.__dict__"
   ]
  },
  {
   "cell_type": "code",
   "execution_count": 139,
   "metadata": {},
   "outputs": [
    {
     "data": {
      "text/plain": [
       "'John'"
      ]
     },
     "execution_count": 139,
     "metadata": {},
     "output_type": "execute_result"
    }
   ],
   "source": [
    "p.first_name"
   ]
  },
  {
   "cell_type": "code",
   "execution_count": null,
   "metadata": {},
   "outputs": [],
   "source": [
    "# if we want to add new attr, we have to repeat ourself "
   ]
  }
 ],
 "metadata": {
  "kernelspec": {
   "display_name": "base",
   "language": "python",
   "name": "python3"
  },
  "language_info": {
   "codemirror_mode": {
    "name": "ipython",
    "version": 3
   },
   "file_extension": ".py",
   "mimetype": "text/x-python",
   "name": "python",
   "nbconvert_exporter": "python",
   "pygments_lexer": "ipython3",
   "version": "3.11.7"
  }
 },
 "nbformat": 4,
 "nbformat_minor": 2
}
